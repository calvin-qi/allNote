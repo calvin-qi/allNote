{
 "cells": [
  {
   "cell_type": "markdown",
   "metadata": {
    "id": "1AE8530B3CB0493686082BD6B8AECE63",
    "jupyter": {},
    "mdEditEnable": false,
    "slideshow": {
     "slide_type": "slide"
    },
    "tags": []
   },
   "source": [
    "### 本项目主要是为了巩固pandas模块而进行的练习，本文章包括了pandas数据\n",
    "### 分析非常常用的知识点，知识点概述如下：\n",
    "* 1、数据集基本信息探索\n",
    "    * 数据基本情况\n",
    "    * 数量探索\n",
    "    * 相关性分析\n",
    "    * 绘总统计\n",
    "    * 数据抽样\n",
    "* 2、应用函数 apply\n",
    "* 3、合并数据\n",
    "* 4、索引问题\n",
    "* 5、排序问题\n",
    "* 6、重复数据处理\n",
    "* 7、数据分组\n",
    "* 8、处理缺失值\n",
    "* 9、选择数据\n",
    "* 10、pandas时间序列\n",
    "* 11、pandas可视化\n",
    "#### 以后有什么想法，还会持续更新的...."
   ]
  },
  {
   "cell_type": "markdown",
   "metadata": {
    "id": "E86D322927D74121AC0268EED44D52B1",
    "jupyter": {},
    "mdEditEnable": false,
    "slideshow": {
     "slide_type": "slide"
    },
    "tags": []
   },
   "source": [
    "## 往期文章学习\n",
    "https://www.kesci.com/home/column/5cb43d67e0ad99002cad14d6  \n"
   ]
  },
  {
   "cell_type": "markdown",
   "metadata": {
    "collapsed": false,
    "id": "ADF2477415A04B2FA53FC152D823FB69",
    "jupyter": {},
    "mdEditEnable": false,
    "scrolled": false,
    "slideshow": {
     "slide_type": "slide"
    },
    "tags": []
   },
   "source": [
    "### 数据集"
   ]
  },
  {
   "cell_type": "code",
   "execution_count": 158,
   "metadata": {
    "collapsed": false,
    "id": "9AB064813F714A429384FB9543382995",
    "jupyter": {},
    "scrolled": false,
    "slideshow": {
     "slide_type": "slide"
    },
    "tags": []
   },
   "outputs": [
    {
     "name": "stdout",
     "output_type": "stream",
     "text": [
      "\n",
      ">>>数据集1\n",
      "2015年国内主要城市年度数据.csv\t2017年国内主要城市年度数据.csv\n",
      "2016年国内主要城市年度数据.csv\n",
      "\n",
      ">>>数据集2\n",
      "results.csv\n",
      "time: 881 ms\n"
     ]
    }
   ],
   "source": [
    "# 查看当前挂载的数据集目录\n",
    "print('\\n>>>数据集1')\n",
    "!ls /home/kesci/input/govstats2556\n",
    "print('\\n>>>数据集2')\n",
    "!ls /home/kesci/input/results6370"
   ]
  },
  {
   "cell_type": "markdown",
   "metadata": {
    "collapsed": false,
    "id": "D507AF4FF06E4E5982E1DF254D980520",
    "jupyter": {},
    "mdEditEnable": false,
    "scrolled": false,
    "slideshow": {
     "slide_type": "slide"
    },
    "tags": []
   },
   "source": [
    "## 1、pandas 基本信息探索"
   ]
  },
  {
   "cell_type": "markdown",
   "metadata": {
    "id": "3677CED656094A8C8951431AB201A421",
    "jupyter": {},
    "mdEditEnable": false,
    "slideshow": {
     "slide_type": "slide"
    },
    "tags": []
   },
   "source": [
    "### (1) 基本情况"
   ]
  },
  {
   "cell_type": "code",
   "execution_count": 159,
   "metadata": {
    "collapsed": false,
    "id": "107256675B75451A85A9794F65554B6A",
    "jupyter": {},
    "scrolled": false,
    "slideshow": {
     "slide_type": "slide"
    },
    "tags": []
   },
   "outputs": [
    {
     "name": "stdout",
     "output_type": "stream",
     "text": [
      "---------------------------------------- \n",
      "【1】数据集基本情况探索\n",
      "\n",
      ">>> (36, 13) 36 13\n",
      "\n",
      ">>> RangeIndex(start=0, stop=36, step=1) [0, 1, 2, 3, 4, 5, 6, 7, 8, 9, 10, 11, 12, 13, 14, 15, 16, 17, 18, 19, 20, 21, 22, 23, 24, 25, 26, 27, 28, 29, 30, 31, 32, 33, 34, 35] Index(['地区', '年份', '国内生产总值', '第一产业增加值', '第二产业增加值', '第三产业增加值', '社会商品零售总额',\n",
      "       '货物进出口总额', '年末总人口', '在岗职工平均工资', '普通高等学校在校学生数', '医院、卫生院数', '房地产开发投资额'],\n",
      "      dtype='object')\n",
      "\n",
      ">>> int64 \n",
      " 地区              object\n",
      "年份               int64\n",
      "国内生产总值         float64\n",
      "第一产业增加值        float64\n",
      "第二产业增加值        float64\n",
      "第三产业增加值        float64\n",
      "社会商品零售总额       float64\n",
      "货物进出口总额        float64\n",
      "年末总人口          float64\n",
      "在岗职工平均工资         int64\n",
      "普通高等学校在校学生数    float64\n",
      "医院、卫生院数          int64\n",
      "房地产开发投资额       float64\n",
      "dtype: object\n",
      "\n",
      ">>>\n",
      "<class 'pandas.core.frame.DataFrame'>\n",
      "RangeIndex: 36 entries, 0 to 35\n",
      "Data columns (total 13 columns):\n",
      "地区             36 non-null object\n",
      "年份             36 non-null int64\n",
      "国内生产总值         36 non-null float64\n",
      "第一产业增加值        36 non-null float64\n",
      "第二产业增加值        36 non-null float64\n",
      "第三产业增加值        36 non-null float64\n",
      "社会商品零售总额       36 non-null float64\n",
      "货物进出口总额        36 non-null float64\n",
      "年末总人口          36 non-null float64\n",
      "在岗职工平均工资       36 non-null int64\n",
      "普通高等学校在校学生数    36 non-null float64\n",
      "医院、卫生院数        36 non-null int64\n",
      "房地产开发投资额       35 non-null float64\n",
      "dtypes: float64(9), int64(3), object(1)\n",
      "memory usage: 3.7+ KB\n",
      "None\n",
      "time: 13.4 ms\n"
     ]
    }
   ],
   "source": [
    "import pandas as pd\n",
    "df = pd.read_csv('/home/kesci/input/govstats2556/2015年国内主要城市年度数据.csv')\n",
    "\n",
    "print('--' * 20, '\\n【1】数据集基本情况探索')\n",
    "\n",
    "print('\\n>>>', df.shape, df.shape[0], df.shape[1]) # 样本形状、样本数、特征数探索\n",
    "print('\\n>>>', df.index, df.index.tolist(), df.columns)  # 样本索引、索引转换成列表、列名探索\n",
    "print('\\n>>>', df['年份'].dtypes, '\\n', df.dtypes)  # 某列类型、全部样本类型探索\n",
    "print('\\n>>>')\n",
    "print(df.info())  # 样本基本情况探索，是上面方法的统一\n"
   ]
  },
  {
   "cell_type": "markdown",
   "metadata": {
    "collapsed": false,
    "id": "0E177C02131F431E8F0FA83997AE492C",
    "jupyter": {},
    "mdEditEnable": false,
    "scrolled": false,
    "slideshow": {
     "slide_type": "slide"
    },
    "tags": []
   },
   "source": [
    "### (2) 数量探索"
   ]
  },
  {
   "cell_type": "code",
   "execution_count": 160,
   "metadata": {
    "collapsed": false,
    "id": "779A6135E7F045879C3F5204E3C2E56D",
    "jupyter": {},
    "scrolled": false,
    "slideshow": {
     "slide_type": "slide"
    },
    "tags": []
   },
   "outputs": [
    {
     "name": "stdout",
     "output_type": "stream",
     "text": [
      "---------------------------------------- \n",
      "【2】数量探索\n",
      "\n",
      ">>> 36 \n",
      " 地区             36\n",
      "年份             36\n",
      "国内生产总值         36\n",
      "第一产业增加值        36\n",
      "第二产业增加值        36\n",
      "第三产业增加值        36\n",
      "社会商品零售总额       36\n",
      "货物进出口总额        36\n",
      "年末总人口          36\n",
      "在岗职工平均工资       36\n",
      "普通高等学校在校学生数    36\n",
      "医院、卫生院数        36\n",
      "房地产开发投资额       35\n",
      "dtype: int64\n",
      "\n",
      ">>> [2015 2015 2015 2015 2015 2015 2015 2015 2015 2015 2015 2015 2015 2015\n",
      " 2015 2015 2015 2015 2015 2015 2015 2015 2015 2015 2015 2015 2015 2015\n",
      " 2015 2015 2015 2015 2015 2015 2015 2015]\n",
      "\n",
      ">>> 37.46     1\n",
      "263.43    1\n",
      "6.65      1\n",
      "373.15    1\n",
      "208.82    1\n",
      "Name: 第一产业增加值, dtype: int64\n",
      "\n",
      ">>> [23014.59 16538.19  5440.6   2735.34  3090.52  7272.31  7731.64  5530.03\n",
      "  5751.21 25123.45  9720.77 10050.21  8003.61  5660.27  5618.08  3466.03\n",
      "  4000.01  6100.23  9300.07  7311.52 10905.6   8510.13 18100.41 17502.86\n",
      "  3410.09  1161.96 15717.27 10801.16  2891.16  3968.01   376.73  5801.2\n",
      "  2095.99  1131.62  1493.86  2631.64] 地区             36\n",
      "年份              1\n",
      "国内生产总值         36\n",
      "第一产业增加值        36\n",
      "第二产业增加值        36\n",
      "第三产业增加值        36\n",
      "社会商品零售总额       36\n",
      "货物进出口总额        36\n",
      "年末总人口          36\n",
      "在岗职工平均工资       36\n",
      "普通高等学校在校学生数    36\n",
      "医院、卫生院数        36\n",
      "房地产开发投资额       35\n",
      "dtype: int64\n",
      "\n",
      ">>> 地区             0\n",
      "年份             0\n",
      "国内生产总值         0\n",
      "第一产业增加值        0\n",
      "第二产业增加值        0\n",
      "第三产业增加值        0\n",
      "社会商品零售总额       0\n",
      "货物进出口总额        0\n",
      "年末总人口          0\n",
      "在岗职工平均工资       0\n",
      "普通高等学校在校学生数    0\n",
      "医院、卫生院数        0\n",
      "房地产开发投资额       1\n",
      "dtype: int64 \n",
      " 地区             36\n",
      "年份             36\n",
      "国内生产总值         36\n",
      "第一产业增加值        36\n",
      "第二产业增加值        36\n",
      "第三产业增加值        36\n",
      "社会商品零售总额       36\n",
      "货物进出口总额        36\n",
      "年末总人口          36\n",
      "在岗职工平均工资       36\n",
      "普通高等学校在校学生数    36\n",
      "医院、卫生院数        36\n",
      "房地产开发投资额       35\n",
      "dtype: int64\n",
      "\n",
      ">>> 0    2015\n",
      "1    2015\n",
      "2    2015\n",
      "3    2015\n",
      "4    2015\n",
      "Name: 年份, dtype: int64      地区    年份\n",
      "0    北京  2015\n",
      "1    天津  2015\n",
      "2   石家庄  2015\n",
      "3    太原  2015\n",
      "4  呼和浩特  2015\n",
      "time: 18.5 ms\n"
     ]
    }
   ],
   "source": [
    "print('--' *20, '\\n【2】数量探索')\n",
    "\n",
    "print('\\n>>>', df['年份'].count(), '\\n', df.count())  # 探索某列、全部样本非 NA 值的数量\n",
    "print('\\n>>>', df['年份'].values)  # 探索某列的值，也可以探索全部样本的值\n",
    "print('\\n>>>', df['第一产业增加值'].value_counts().head())  # 探索某列中各元素值出现的次数(只能探索某列的)\n",
    "print('\\n>>>', df['国内生产总值'].unique(), df.nunique())  # 探索某列唯一值元素、每一列唯一值的数量\n",
    "print('\\n>>>', df.isnull().sum(), '\\n', df.notnull().sum())  # 探索每一列缺失值数量、不是缺失值数量\n",
    "print('\\n>>>', df['年份'].head(), df[['地区', '年份']].head())  # 某列取值、多列取值\n"
   ]
  },
  {
   "cell_type": "markdown",
   "metadata": {
    "collapsed": false,
    "id": "3F0328591FEA4F0EA556F99605D10CF3",
    "jupyter": {},
    "mdEditEnable": false,
    "scrolled": false,
    "slideshow": {
     "slide_type": "slide"
    },
    "tags": []
   },
   "source": [
    "### (3) 相关性分析"
   ]
  },
  {
   "cell_type": "code",
   "execution_count": 161,
   "metadata": {
    "collapsed": false,
    "id": "E694E8B126FD4C95BD3C53505D87E285",
    "jupyter": {},
    "scrolled": false,
    "slideshow": {
     "slide_type": "slide"
    },
    "tags": []
   },
   "outputs": [
    {
     "name": "stdout",
     "output_type": "stream",
     "text": [
      "---------------------------------------- \n",
      "【3】探索特征之间相关性\n",
      "\n",
      ">>> 318748.37529928575 年份             0.000000e+00\n",
      "国内生产总值         3.755039e+07\n",
      "第一产业增加值        4.886273e+04\n",
      "第二产业增加值        4.679340e+06\n",
      "第三产业增加值        1.782541e+07\n",
      "社会商品零售总额       6.078666e+06\n",
      "货物进出口总额        1.225179e+10\n",
      "年末总人口          3.187484e+05\n",
      "在岗职工平均工资       2.280371e+08\n",
      "普通高等学校在校学生数    6.957614e+02\n",
      "医院、卫生院数        7.417014e+04\n",
      "房地产开发投资额       9.851708e+05\n",
      "dtype: float64\n",
      "\n",
      ">>> 318748.37529928575 年份                  0.000000\n",
      "国内生产总值           6127.837200\n",
      "第一产业增加值           221.049155\n",
      "第二产业增加值          2163.178122\n",
      "第三产业增加值          4222.014567\n",
      "社会商品零售总额         2465.495111\n",
      "货物进出口总额        110687.783056\n",
      "年末总人口             564.578051\n",
      "在岗职工平均工资        15100.896250\n",
      "普通高等学校在校学生数        26.377290\n",
      "医院、卫生院数           272.341954\n",
      "房地产开发投资额          992.557698\n",
      "dtype: float64\n",
      "\n",
      ">>>           年份        国内生产总值        第一产业增加值       第二产业增加值\n",
      "年份       0.0  0.000000e+00       0.000000  0.000000e+00\n",
      "国内生产总值   0.0  3.755039e+07  287830.867960  1.210478e+07\n",
      "第一产业增加值  0.0  2.878309e+05   48862.729087  1.660195e+05\n",
      "第二产业增加值  0.0  1.210478e+07  166019.479592  4.679340e+06\n",
      "\n",
      ">>>          年份    国内生产总值   第一产业增加值   第二产业增加值\n",
      "年份      NaN       NaN       NaN       NaN\n",
      "国内生产总值  NaN  1.000000  0.212491  0.913182\n",
      "第一产业增加值 NaN  0.212491  1.000000  0.347199\n",
      "第二产业增加值 NaN  0.913182  0.347199  1.000000\n",
      "time: 20.7 ms\n"
     ]
    }
   ],
   "source": [
    "print('--' * 20, '\\n【3】探索特征之间相关性')\n",
    "\n",
    "print('\\n>>>', df['年末总人口'].var(), df.var())  # 探索某列、全部样本的方差\n",
    "print('\\n>>>', df['年末总人口'].var(), df.std())  # 探索标准差\n",
    "print('\\n>>>', df.cov().iloc[:4, :4])  # 探索变量间的协方差\n",
    "print('\\n>>>', df.corr().iloc[:4, :4])  # 探索变量间的相关性\n"
   ]
  },
  {
   "cell_type": "markdown",
   "metadata": {
    "collapsed": false,
    "id": "430D3B10F74F442DBA8CE34DC0DEE628",
    "jupyter": {},
    "mdEditEnable": false,
    "scrolled": false,
    "slideshow": {
     "slide_type": "slide"
    },
    "tags": []
   },
   "source": [
    "### (4) 汇总统计"
   ]
  },
  {
   "cell_type": "code",
   "execution_count": 162,
   "metadata": {
    "collapsed": false,
    "id": "FBAB35F4AC154768B946C8B32F115947",
    "jupyter": {},
    "scrolled": false,
    "slideshow": {
     "slide_type": "slide"
    },
    "tags": []
   },
   "outputs": [
    {
     "name": "stdout",
     "output_type": "stream",
     "text": [
      "---------------------------------------- \n",
      "【4】样本数据汇总统计\n",
      "\n",
      ">>> 地区             北京天津石家庄太原呼和浩特沈阳大连长春哈尔滨上海南京杭州宁波合肥福州厦门南昌济南青岛郑州武汉...\n",
      "年份                                                         72540\n",
      "国内生产总值                                                    277958\n",
      "第一产业增加值                                                  9067.73\n",
      "第二产业增加值                                                   110482\n",
      "第三产业增加值                                                   158409\n",
      "社会商品零售总额                                                  121050\n",
      "货物进出口总额                                              2.31601e+06\n",
      "年末总人口                                                    25808.3\n",
      "在岗职工平均工资                                                 2510833\n",
      "普通高等学校在校学生数                                              1647.01\n",
      "医院、卫生院数                                                    12260\n",
      "房地产开发投资额                                                 48094.7\n",
      "dtype: object\n",
      "\n",
      ">>> 0               北京\n",
      "1             北京天津\n",
      "2          北京天津石家庄\n",
      "3        北京天津石家庄太原\n",
      "4    北京天津石家庄太原呼和浩特\n",
      "Name: 地区, dtype: object\n",
      "\n",
      ">>> 地区              青岛\n",
      "年份            2015\n",
      "国内生产总值     25123.5\n",
      "第一产业增加值    1150.15\n",
      "第二产业增加值       7991\n",
      "dtype: object 地区             上海\n",
      "年份           2015\n",
      "国内生产总值     376.73\n",
      "第一产业增加值      6.65\n",
      "第二产业增加值    140.95\n",
      "dtype: object\n",
      "\n",
      ">>> 9 \n",
      " 30\n",
      "\n",
      ">>> 年份              2015.000000\n",
      "国内生产总值          7721.065833\n",
      "第一产业增加值          251.881389\n",
      "第二产业增加值         3068.935278\n",
      "第三产业增加值         4400.248611\n",
      "社会商品零售总额        3362.513889\n",
      "货物进出口总额        64333.485278\n",
      "年末总人口            716.897500\n",
      "在岗职工平均工资       69745.361111\n",
      "普通高等学校在校学生数       45.750278\n",
      "医院、卫生院数          340.555556\n",
      "房地产开发投资额        1374.133143\n",
      "dtype: float64 年份              2015.000\n",
      "国内生产总值          5776.205\n",
      "第一产业增加值          223.520\n",
      "第二产业增加值         2611.690\n",
      "第三产业增加值         3335.310\n",
      "社会商品零售总额        3322.150\n",
      "货物进出口总额        17209.320\n",
      "年末总人口            679.360\n",
      "在岗职工平均工资       65763.000\n",
      "普通高等学校在校学生数       42.375\n",
      "医院、卫生院数          276.500\n",
      "房地产开发投资额        1122.350\n",
      "dtype: float64\n",
      "\n",
      ">>>              count          mean            std       min         25%  \\\n",
      "年份            36.0   2015.000000       0.000000   2015.00   2015.0000   \n",
      "国内生产总值        36.0   7721.065833    6127.837200    376.73   3330.1975   \n",
      "第一产业增加值       36.0    251.881389     221.049155      6.65     97.0200   \n",
      "第二产业增加值       36.0   3068.935278    2163.178122    140.95   1286.3750   \n",
      "第三产业增加值       36.0   4400.248611    4222.014567    221.98   1782.9850   \n",
      "社会商品零售总额      36.0   3362.513889    2465.495111    205.80   1493.9750   \n",
      "货物进出口总额       36.0  64333.485278  110687.783056    640.55   9119.6775   \n",
      "年末总人口         36.0    716.897500     564.578051     53.03    364.2900   \n",
      "在岗职工平均工资      36.0  69745.361111   15100.896250  52987.00  61981.5000   \n",
      "普通高等学校在校学生数   36.0     45.750278      26.377290      2.14     27.6300   \n",
      "医院、卫生院数       36.0    340.555556     272.341954     58.00    190.0000   \n",
      "房地产开发投资额      35.0   1374.133143     992.557698    280.43    595.9050   \n",
      "\n",
      "                   50%         75%        max  \n",
      "年份            2015.000   2015.0000    2015.00  \n",
      "国内生产总值        5776.205   9803.1300   25123.45  \n",
      "第一产业增加值        223.520    347.3825    1150.15  \n",
      "第二产业增加值       2611.690   4157.0600    7991.00  \n",
      "第三产业增加值       3335.310   5566.0900   18331.74  \n",
      "社会商品零售总额      3322.150   4616.9500   10338.00  \n",
      "货物进出口总额      17209.320  67480.3775  449240.72  \n",
      "年末总人口          679.360    819.0625    3371.84  \n",
      "在岗职工平均工资     65763.000  70846.0000  114582.00  \n",
      "普通高等学校在校学生数     42.375     61.8625     104.32  \n",
      "医院、卫生院数        276.500    392.2500    1568.00  \n",
      "房地产开发投资额      1122.350   1846.2000    4177.05  \n",
      "time: 55.2 ms\n"
     ]
    }
   ],
   "source": [
    "print('--' * 20, '\\n【4】样本数据汇总统计')\n",
    "\n",
    "print('\\n>>>', df.sum())  # 每一列求和\n",
    "print('\\n>>>', df['地区'].cumsum().head())  # 某列逐行累加(可以全部样本每一列都累加)\n",
    "print('\\n>>>', df.max().head(), df.min().head())  # 最大最小值\n",
    "# 返回 '国内生产总值' 列最大、最小值所对应的索引号\n",
    "print('\\n>>>', df['国内生产总值'].idxmax(), '\\n', df['国内生产总值'].idxmin()) \n",
    "print('\\n>>>', df.mean(), df.median())  # 平均值、中位数\n",
    "print('\\n>>>', df.describe().T)  # 汇总统计信息，是上面方法的统一\n"
   ]
  },
  {
   "cell_type": "markdown",
   "metadata": {
    "collapsed": false,
    "id": "EAA1481D7B1E45F9AB738AE689D2B34B",
    "jupyter": {},
    "mdEditEnable": false,
    "scrolled": false,
    "slideshow": {
     "slide_type": "slide"
    },
    "tags": []
   },
   "source": [
    "### (5) 数据抽样"
   ]
  },
  {
   "cell_type": "code",
   "execution_count": 163,
   "metadata": {
    "collapsed": false,
    "id": "1E8EF0F43F17457D8B9FBCA6BE1EA1DB",
    "jupyter": {},
    "scrolled": false,
    "slideshow": {
     "slide_type": "slide"
    },
    "tags": []
   },
   "outputs": [
    {
     "name": "stdout",
     "output_type": "stream",
     "text": [
      "---------------------------------------- \n",
      "【5】数据抽样\n"
     ]
    },
    {
     "data": {
      "text/html": [
       "<div>\n",
       "<style scoped>\n",
       "    .dataframe tbody tr th:only-of-type {\n",
       "        vertical-align: middle;\n",
       "    }\n",
       "\n",
       "    .dataframe tbody tr th {\n",
       "        vertical-align: top;\n",
       "    }\n",
       "\n",
       "    .dataframe thead th {\n",
       "        text-align: right;\n",
       "    }\n",
       "</style>\n",
       "<table border=\"1\" class=\"dataframe\">\n",
       "  <thead>\n",
       "    <tr style=\"text-align: right;\">\n",
       "      <th></th>\n",
       "      <th>地区</th>\n",
       "      <th>年份</th>\n",
       "      <th>国内生产总值</th>\n",
       "      <th>第一产业增加值</th>\n",
       "      <th>第二产业增加值</th>\n",
       "      <th>第三产业增加值</th>\n",
       "      <th>社会商品零售总额</th>\n",
       "      <th>货物进出口总额</th>\n",
       "      <th>年末总人口</th>\n",
       "      <th>在岗职工平均工资</th>\n",
       "      <th>普通高等学校在校学生数</th>\n",
       "      <th>医院、卫生院数</th>\n",
       "      <th>房地产开发投资额</th>\n",
       "    </tr>\n",
       "  </thead>\n",
       "  <tbody>\n",
       "    <tr>\n",
       "      <th>32</th>\n",
       "      <td>兰州</td>\n",
       "      <td>2015</td>\n",
       "      <td>2095.99</td>\n",
       "      <td>56.22</td>\n",
       "      <td>782.65</td>\n",
       "      <td>1257.11</td>\n",
       "      <td>1152.1</td>\n",
       "      <td>5058.60</td>\n",
       "      <td>321.90</td>\n",
       "      <td>62201</td>\n",
       "      <td>41.64</td>\n",
       "      <td>164</td>\n",
       "      <td>320.56</td>\n",
       "    </tr>\n",
       "    <tr>\n",
       "      <th>30</th>\n",
       "      <td>拉萨</td>\n",
       "      <td>2015</td>\n",
       "      <td>376.73</td>\n",
       "      <td>13.80</td>\n",
       "      <td>140.95</td>\n",
       "      <td>221.98</td>\n",
       "      <td>205.8</td>\n",
       "      <td>640.55</td>\n",
       "      <td>53.03</td>\n",
       "      <td>114582</td>\n",
       "      <td>2.14</td>\n",
       "      <td>78</td>\n",
       "      <td>NaN</td>\n",
       "    </tr>\n",
       "    <tr>\n",
       "      <th>16</th>\n",
       "      <td>南昌</td>\n",
       "      <td>2015</td>\n",
       "      <td>4000.01</td>\n",
       "      <td>171.26</td>\n",
       "      <td>2179.96</td>\n",
       "      <td>1648.79</td>\n",
       "      <td>1662.9</td>\n",
       "      <td>11464.34</td>\n",
       "      <td>520.38</td>\n",
       "      <td>57730</td>\n",
       "      <td>58.74</td>\n",
       "      <td>195</td>\n",
       "      <td>485.37</td>\n",
       "    </tr>\n",
       "    <tr>\n",
       "      <th>35</th>\n",
       "      <td>乌鲁木齐</td>\n",
       "      <td>2015</td>\n",
       "      <td>2631.64</td>\n",
       "      <td>31.64</td>\n",
       "      <td>787.37</td>\n",
       "      <td>1812.62</td>\n",
       "      <td>1151.5</td>\n",
       "      <td>5843.11</td>\n",
       "      <td>266.83</td>\n",
       "      <td>67617</td>\n",
       "      <td>18.05</td>\n",
       "      <td>175</td>\n",
       "      <td>366.87</td>\n",
       "    </tr>\n",
       "    <tr>\n",
       "      <th>0</th>\n",
       "      <td>北京</td>\n",
       "      <td>2015</td>\n",
       "      <td>23014.59</td>\n",
       "      <td>140.21</td>\n",
       "      <td>4542.64</td>\n",
       "      <td>18331.74</td>\n",
       "      <td>10338.0</td>\n",
       "      <td>319416.16</td>\n",
       "      <td>1345.20</td>\n",
       "      <td>113073</td>\n",
       "      <td>60.36</td>\n",
       "      <td>701</td>\n",
       "      <td>4177.05</td>\n",
       "    </tr>\n",
       "  </tbody>\n",
       "</table>\n",
       "</div>"
      ],
      "text/plain": [
       "      地区    年份    国内生产总值  第一产业增加值  第二产业增加值   第三产业增加值  社会商品零售总额    货物进出口总额  \\\n",
       "32    兰州  2015   2095.99    56.22   782.65   1257.11    1152.1    5058.60   \n",
       "30    拉萨  2015    376.73    13.80   140.95    221.98     205.8     640.55   \n",
       "16    南昌  2015   4000.01   171.26  2179.96   1648.79    1662.9   11464.34   \n",
       "35  乌鲁木齐  2015   2631.64    31.64   787.37   1812.62    1151.5    5843.11   \n",
       "0     北京  2015  23014.59   140.21  4542.64  18331.74   10338.0  319416.16   \n",
       "\n",
       "      年末总人口  在岗职工平均工资  普通高等学校在校学生数  医院、卫生院数  房地产开发投资额  \n",
       "32   321.90     62201        41.64      164    320.56  \n",
       "30    53.03    114582         2.14       78       NaN  \n",
       "16   520.38     57730        58.74      195    485.37  \n",
       "35   266.83     67617        18.05      175    366.87  \n",
       "0   1345.20    113073        60.36      701   4177.05  "
      ]
     },
     "execution_count": 163,
     "metadata": {},
     "output_type": "execute_result"
    },
    {
     "name": "stdout",
     "output_type": "stream",
     "text": [
      "time: 14.9 ms\n"
     ]
    }
   ],
   "source": [
    "''' \n",
    "有时候我们做研究分析或者数据量过大时，\n",
    "只希望抽取一部分数据做研究，因此要进行数据抽样处理 \n",
    "'''\n",
    "print('--' * 20, '\\n【5】数据抽样')\n",
    "\n",
    "data = df.sample(n=5, replace=False)  # 不放回随机抽样 5 个数据\n",
    "data\n"
   ]
  },
  {
   "cell_type": "markdown",
   "metadata": {
    "collapsed": false,
    "id": "9F2D4782B7634F4A8E5D12C4FAA3A92B",
    "jupyter": {},
    "mdEditEnable": false,
    "scrolled": false,
    "slideshow": {
     "slide_type": "slide"
    },
    "tags": []
   },
   "source": [
    "## 2、pandas 中的应用函数 apply"
   ]
  },
  {
   "cell_type": "code",
   "execution_count": 164,
   "metadata": {
    "collapsed": false,
    "id": "1D9D943F0C4849EF95C5DF7ED0202AF8",
    "jupyter": {},
    "scrolled": false,
    "slideshow": {
     "slide_type": "slide"
    },
    "tags": []
   },
   "outputs": [
    {
     "data": {
      "text/plain": [
       "(0    23014\n",
       " 1    16538\n",
       " 2     5440\n",
       " 3     2735\n",
       " 4     3090\n",
       " Name: 国内生产总值, dtype: int64, 0      北京QQ\n",
       " 1      天津QQ\n",
       " 2     石家庄QQ\n",
       " 3      太原QQ\n",
       " 4    呼和浩特QQ\n",
       " Name: 地区, dtype: object, 地区             北京天津石家庄太原呼和浩特沈阳大连长春哈尔滨上海南京杭州宁波合肥福州厦门南昌济南青岛郑州武汉...\n",
       " 年份                                                         72540\n",
       " 国内生产总值                                                    277958\n",
       " 第一产业增加值                                                  9067.73\n",
       " 第二产业增加值                                                   110482\n",
       " 第三产业增加值                                                   158409\n",
       " 社会商品零售总额                                                  121050\n",
       " 货物进出口总额                                              2.31601e+06\n",
       " 年末总人口                                                    25808.3\n",
       " 在岗职工平均工资                                                 2510833\n",
       " 普通高等学校在校学生数                                              1647.01\n",
       " 医院、卫生院数                                                    12260\n",
       " 房地产开发投资额                                                 48094.7\n",
       " dtype: object)"
      ]
     },
     "execution_count": 164,
     "metadata": {},
     "output_type": "execute_result"
    },
    {
     "name": "stdout",
     "output_type": "stream",
     "text": [
      "time: 8.47 ms\n"
     ]
    }
   ],
   "source": [
    "''' \n",
    "我们发现数据集中有浮点型数据，但是我们只需要整形数据，\n",
    "因此我们很有必要使用应用函数对原数据进行类型转换\n",
    "'''\n",
    "import numpy as np\n",
    "\n",
    "def fun(x):\n",
    "    x = int(x)\n",
    "    return x\n",
    "    \n",
    "f = lambda x: x + 'QQ'\n",
    "\n",
    "data1 = df['国内生产总值'].apply(fun)\n",
    "data2 = df['地区'].apply(f)\n",
    "data3 = df.iloc[:, :].apply(np.sum)\n",
    "\n",
    "data1.head(), data2.head(), data3\n"
   ]
  },
  {
   "cell_type": "markdown",
   "metadata": {
    "collapsed": false,
    "id": "D9E7E067205B40CB9DE320148D3ED028",
    "jupyter": {},
    "mdEditEnable": false,
    "scrolled": false,
    "slideshow": {
     "slide_type": "slide"
    },
    "tags": []
   },
   "source": [
    "## 3、合并数据"
   ]
  },
  {
   "cell_type": "code",
   "execution_count": 165,
   "metadata": {
    "collapsed": false,
    "id": "9A75BA65767A41A382C2D607F0886E3F",
    "jupyter": {},
    "scrolled": false,
    "slideshow": {
     "slide_type": "slide"
    },
    "tags": []
   },
   "outputs": [
    {
     "data": {
      "text/html": [
       "<div>\n",
       "<style scoped>\n",
       "    .dataframe tbody tr th:only-of-type {\n",
       "        vertical-align: middle;\n",
       "    }\n",
       "\n",
       "    .dataframe tbody tr th {\n",
       "        vertical-align: top;\n",
       "    }\n",
       "\n",
       "    .dataframe thead th {\n",
       "        text-align: right;\n",
       "    }\n",
       "</style>\n",
       "<table border=\"1\" class=\"dataframe\">\n",
       "  <thead>\n",
       "    <tr style=\"text-align: right;\">\n",
       "      <th></th>\n",
       "      <th>地区</th>\n",
       "      <th>年份</th>\n",
       "      <th>国内生产总值</th>\n",
       "      <th>第一产业增加值</th>\n",
       "      <th>第二产业增加值</th>\n",
       "      <th>第三产业增加值</th>\n",
       "      <th>社会商品零售总额</th>\n",
       "      <th>货物进出口总额</th>\n",
       "      <th>年末总人口</th>\n",
       "      <th>在岗职工平均工资</th>\n",
       "      <th>普通高等学校在校学生数</th>\n",
       "      <th>医院、卫生院数</th>\n",
       "      <th>房地产开发投资额</th>\n",
       "    </tr>\n",
       "  </thead>\n",
       "  <tbody>\n",
       "    <tr>\n",
       "      <th>27</th>\n",
       "      <td>成都</td>\n",
       "      <td>2015</td>\n",
       "      <td>10801.16</td>\n",
       "      <td>373.15</td>\n",
       "      <td>4723.49</td>\n",
       "      <td>5704.52</td>\n",
       "      <td>4946.2</td>\n",
       "      <td>39531.52</td>\n",
       "      <td>1228.05</td>\n",
       "      <td>69123</td>\n",
       "      <td>75.5800</td>\n",
       "      <td>768</td>\n",
       "      <td>2435.25</td>\n",
       "    </tr>\n",
       "    <tr>\n",
       "      <th>0</th>\n",
       "      <td>北京</td>\n",
       "      <td>2016</td>\n",
       "      <td>25669.13</td>\n",
       "      <td>129.79</td>\n",
       "      <td>4944.44</td>\n",
       "      <td>20594.90</td>\n",
       "      <td>11005.1</td>\n",
       "      <td>282348.96</td>\n",
       "      <td>1362.86</td>\n",
       "      <td>122749</td>\n",
       "      <td>59.9188</td>\n",
       "      <td>713</td>\n",
       "      <td>4000.57</td>\n",
       "    </tr>\n",
       "    <tr>\n",
       "      <th>16</th>\n",
       "      <td>南昌</td>\n",
       "      <td>2015</td>\n",
       "      <td>4000.01</td>\n",
       "      <td>171.26</td>\n",
       "      <td>2179.96</td>\n",
       "      <td>1648.79</td>\n",
       "      <td>1662.9</td>\n",
       "      <td>11464.34</td>\n",
       "      <td>520.38</td>\n",
       "      <td>57730</td>\n",
       "      <td>58.7400</td>\n",
       "      <td>195</td>\n",
       "      <td>485.37</td>\n",
       "    </tr>\n",
       "    <tr>\n",
       "      <th>2</th>\n",
       "      <td>石家庄</td>\n",
       "      <td>2016</td>\n",
       "      <td>5927.73</td>\n",
       "      <td>480.88</td>\n",
       "      <td>2693.92</td>\n",
       "      <td>2752.93</td>\n",
       "      <td>2975.2</td>\n",
       "      <td>12160.29</td>\n",
       "      <td>1038.00</td>\n",
       "      <td>61189</td>\n",
       "      <td>44.1812</td>\n",
       "      <td>425</td>\n",
       "      <td>1015.77</td>\n",
       "    </tr>\n",
       "    <tr>\n",
       "      <th>34</th>\n",
       "      <td>银川</td>\n",
       "      <td>2015</td>\n",
       "      <td>1493.86</td>\n",
       "      <td>58.62</td>\n",
       "      <td>780.84</td>\n",
       "      <td>654.40</td>\n",
       "      <td>477.6</td>\n",
       "      <td>3266.72</td>\n",
       "      <td>179.23</td>\n",
       "      <td>65643</td>\n",
       "      <td>9.8000</td>\n",
       "      <td>92</td>\n",
       "      <td>409.17</td>\n",
       "    </tr>\n",
       "    <tr>\n",
       "      <th>7</th>\n",
       "      <td>长春</td>\n",
       "      <td>2016</td>\n",
       "      <td>5917.94</td>\n",
       "      <td>323.53</td>\n",
       "      <td>2915.66</td>\n",
       "      <td>2678.74</td>\n",
       "      <td>2650.3</td>\n",
       "      <td>14162.91</td>\n",
       "      <td>753.43</td>\n",
       "      <td>68434</td>\n",
       "      <td>43.4366</td>\n",
       "      <td>297</td>\n",
       "      <td>596.65</td>\n",
       "    </tr>\n",
       "    <tr>\n",
       "      <th>5</th>\n",
       "      <td>沈阳</td>\n",
       "      <td>2017</td>\n",
       "      <td>5864.97</td>\n",
       "      <td>268.22</td>\n",
       "      <td>2261.37</td>\n",
       "      <td>3335.37</td>\n",
       "      <td>3989.8</td>\n",
       "      <td>12845.81</td>\n",
       "      <td>736.95</td>\n",
       "      <td>74181</td>\n",
       "      <td>39.7776</td>\n",
       "      <td>274</td>\n",
       "      <td>814.24</td>\n",
       "    </tr>\n",
       "  </tbody>\n",
       "</table>\n",
       "</div>"
      ],
      "text/plain": [
       "     地区    年份    国内生产总值  第一产业增加值  第二产业增加值   第三产业增加值  社会商品零售总额    货物进出口总额  \\\n",
       "27   成都  2015  10801.16   373.15  4723.49   5704.52    4946.2   39531.52   \n",
       "0    北京  2016  25669.13   129.79  4944.44  20594.90   11005.1  282348.96   \n",
       "16   南昌  2015   4000.01   171.26  2179.96   1648.79    1662.9   11464.34   \n",
       "2   石家庄  2016   5927.73   480.88  2693.92   2752.93    2975.2   12160.29   \n",
       "34   银川  2015   1493.86    58.62   780.84    654.40     477.6    3266.72   \n",
       "7    长春  2016   5917.94   323.53  2915.66   2678.74    2650.3   14162.91   \n",
       "5    沈阳  2017   5864.97   268.22  2261.37   3335.37    3989.8   12845.81   \n",
       "\n",
       "      年末总人口  在岗职工平均工资  普通高等学校在校学生数  医院、卫生院数  房地产开发投资额  \n",
       "27  1228.05     69123      75.5800      768   2435.25  \n",
       "0   1362.86    122749      59.9188      713   4000.57  \n",
       "16   520.38     57730      58.7400      195    485.37  \n",
       "2   1038.00     61189      44.1812      425   1015.77  \n",
       "34   179.23     65643       9.8000       92    409.17  \n",
       "7    753.43     68434      43.4366      297    596.65  \n",
       "5    736.95     74181      39.7776      274    814.24  "
      ]
     },
     "execution_count": 165,
     "metadata": {},
     "output_type": "execute_result"
    },
    {
     "name": "stdout",
     "output_type": "stream",
     "text": [
      "time: 31.5 ms\n"
     ]
    }
   ],
   "source": [
    "import pandas as pd\n",
    "\n",
    "df1 = pd.read_csv('/home/kesci/input/govstats2556/2015年国内主要城市年度数据.csv') \n",
    "df2 = pd.read_csv('/home/kesci/input/govstats2556/2016年国内主要城市年度数据.csv') \n",
    "df3 = pd.read_csv('/home/kesci/input/govstats2556/2017年国内主要城市年度数据.csv') \n",
    "\n",
    "df_1 = pd.concat(objs=[df1, df2, df3], axis=0)  # 合并数据，以行的维度合并\n",
    "df_2 = pd.merge(left=df1, right=df2, on='年份', how='outer')  # 以指定值合并，在本案例中不实用\n",
    "\n",
    "df_1.sample(n=7, replace=False)  # 随机不放回抽样 7 个数据\n"
   ]
  },
  {
   "cell_type": "markdown",
   "metadata": {
    "id": "1E28C12885E443758CE07DB806D3911F",
    "jupyter": {},
    "mdEditEnable": false,
    "slideshow": {
     "slide_type": "slide"
    },
    "tags": []
   },
   "source": [
    "## 4、索引问题"
   ]
  },
  {
   "cell_type": "code",
   "execution_count": 166,
   "metadata": {
    "collapsed": false,
    "id": "086862A177C84A8DBD832D23024588EA",
    "jupyter": {},
    "scrolled": false,
    "slideshow": {
     "slide_type": "slide"
    },
    "tags": []
   },
   "outputs": [
    {
     "name": "stdout",
     "output_type": "stream",
     "text": [
      "        地区    国内生产总值  第一产业增加值  第二产业增加值\n",
      "年份                                    \n",
      "2015    北京  23014.59   140.21  4542.64\n",
      "2015    天津  16538.19   208.82  7704.22\n",
      "2015   石家庄   5440.60   494.44  2452.40\n",
      "2015    太原   2735.34    37.40  1020.18\n",
      "2015  呼和浩特   3090.52   126.23   867.08\n"
     ]
    },
    {
     "data": {
      "text/html": [
       "<div>\n",
       "<style scoped>\n",
       "    .dataframe tbody tr th:only-of-type {\n",
       "        vertical-align: middle;\n",
       "    }\n",
       "\n",
       "    .dataframe tbody tr th {\n",
       "        vertical-align: top;\n",
       "    }\n",
       "\n",
       "    .dataframe thead th {\n",
       "        text-align: right;\n",
       "    }\n",
       "</style>\n",
       "<table border=\"1\" class=\"dataframe\">\n",
       "  <thead>\n",
       "    <tr style=\"text-align: right;\">\n",
       "      <th></th>\n",
       "      <th>年份</th>\n",
       "      <th>地区</th>\n",
       "      <th>国内生产总值</th>\n",
       "      <th>第一产业增加值</th>\n",
       "    </tr>\n",
       "  </thead>\n",
       "  <tbody>\n",
       "    <tr>\n",
       "      <th>0</th>\n",
       "      <td>2015</td>\n",
       "      <td>北京</td>\n",
       "      <td>23014.59</td>\n",
       "      <td>140.21</td>\n",
       "    </tr>\n",
       "    <tr>\n",
       "      <th>1</th>\n",
       "      <td>2015</td>\n",
       "      <td>天津</td>\n",
       "      <td>16538.19</td>\n",
       "      <td>208.82</td>\n",
       "    </tr>\n",
       "    <tr>\n",
       "      <th>2</th>\n",
       "      <td>2015</td>\n",
       "      <td>石家庄</td>\n",
       "      <td>5440.60</td>\n",
       "      <td>494.44</td>\n",
       "    </tr>\n",
       "    <tr>\n",
       "      <th>3</th>\n",
       "      <td>2015</td>\n",
       "      <td>太原</td>\n",
       "      <td>2735.34</td>\n",
       "      <td>37.40</td>\n",
       "    </tr>\n",
       "    <tr>\n",
       "      <th>4</th>\n",
       "      <td>2015</td>\n",
       "      <td>呼和浩特</td>\n",
       "      <td>3090.52</td>\n",
       "      <td>126.23</td>\n",
       "    </tr>\n",
       "  </tbody>\n",
       "</table>\n",
       "</div>"
      ],
      "text/plain": [
       "     年份    地区    国内生产总值  第一产业增加值\n",
       "0  2015    北京  23014.59   140.21\n",
       "1  2015    天津  16538.19   208.82\n",
       "2  2015   石家庄   5440.60   494.44\n",
       "3  2015    太原   2735.34    37.40\n",
       "4  2015  呼和浩特   3090.52   126.23"
      ]
     },
     "execution_count": 166,
     "metadata": {},
     "output_type": "execute_result"
    },
    {
     "name": "stdout",
     "output_type": "stream",
     "text": [
      "time: 14 ms\n"
     ]
    }
   ],
   "source": [
    "''' \n",
    "单个索引，inplace=False 不覆盖的情况下，\n",
    "要使用一个变量 d 来间接操作 \n",
    "'''\n",
    "\n",
    "d = df_1.set_index(keys='年份', inplace=False)\n",
    "print(d.iloc[: , :4].head())  # 设置索引时的情况\n",
    "\n",
    "# 注意在取消索引操作时，inplace=True 设置为 True，以便后面可以查看到取消后的情况\n",
    "d.reset_index(inplace=True)  \n",
    "d.iloc[: , :4].head()  # 取消索引时的情况\n"
   ]
  },
  {
   "cell_type": "code",
   "execution_count": 167,
   "metadata": {
    "collapsed": false,
    "id": "8EA75AF67065424B8232A1867FB7F3C5",
    "jupyter": {},
    "scrolled": false,
    "slideshow": {
     "slide_type": "slide"
    },
    "tags": []
   },
   "outputs": [
    {
     "name": "stdout",
     "output_type": "stream",
     "text": [
      "             国内生产总值  第一产业增加值  第二产业增加值   第三产业增加值\n",
      "地区   年份                                        \n",
      "北京   2015  23014.59   140.21  4542.64  18331.74\n",
      "天津   2015  16538.19   208.82  7704.22   8625.15\n",
      "石家庄  2015   5440.60   494.44  2452.40   2493.77\n",
      "太原   2015   2735.34    37.40  1020.18   1677.77\n",
      "呼和浩特 2015   3090.52   126.23   867.08   2097.21\n"
     ]
    },
    {
     "data": {
      "text/html": [
       "<div>\n",
       "<style scoped>\n",
       "    .dataframe tbody tr th:only-of-type {\n",
       "        vertical-align: middle;\n",
       "    }\n",
       "\n",
       "    .dataframe tbody tr th {\n",
       "        vertical-align: top;\n",
       "    }\n",
       "\n",
       "    .dataframe thead th {\n",
       "        text-align: right;\n",
       "    }\n",
       "</style>\n",
       "<table border=\"1\" class=\"dataframe\">\n",
       "  <thead>\n",
       "    <tr style=\"text-align: right;\">\n",
       "      <th></th>\n",
       "      <th>地区</th>\n",
       "      <th>年份</th>\n",
       "      <th>国内生产总值</th>\n",
       "      <th>第一产业增加值</th>\n",
       "    </tr>\n",
       "  </thead>\n",
       "  <tbody>\n",
       "    <tr>\n",
       "      <th>0</th>\n",
       "      <td>北京</td>\n",
       "      <td>2015</td>\n",
       "      <td>23014.59</td>\n",
       "      <td>140.21</td>\n",
       "    </tr>\n",
       "    <tr>\n",
       "      <th>1</th>\n",
       "      <td>天津</td>\n",
       "      <td>2015</td>\n",
       "      <td>16538.19</td>\n",
       "      <td>208.82</td>\n",
       "    </tr>\n",
       "    <tr>\n",
       "      <th>2</th>\n",
       "      <td>石家庄</td>\n",
       "      <td>2015</td>\n",
       "      <td>5440.60</td>\n",
       "      <td>494.44</td>\n",
       "    </tr>\n",
       "    <tr>\n",
       "      <th>3</th>\n",
       "      <td>太原</td>\n",
       "      <td>2015</td>\n",
       "      <td>2735.34</td>\n",
       "      <td>37.40</td>\n",
       "    </tr>\n",
       "    <tr>\n",
       "      <th>4</th>\n",
       "      <td>呼和浩特</td>\n",
       "      <td>2015</td>\n",
       "      <td>3090.52</td>\n",
       "      <td>126.23</td>\n",
       "    </tr>\n",
       "  </tbody>\n",
       "</table>\n",
       "</div>"
      ],
      "text/plain": [
       "     地区    年份    国内生产总值  第一产业增加值\n",
       "0    北京  2015  23014.59   140.21\n",
       "1    天津  2015  16538.19   208.82\n",
       "2   石家庄  2015   5440.60   494.44\n",
       "3    太原  2015   2735.34    37.40\n",
       "4  呼和浩特  2015   3090.52   126.23"
      ]
     },
     "execution_count": 167,
     "metadata": {},
     "output_type": "execute_result"
    },
    {
     "name": "stdout",
     "output_type": "stream",
     "text": [
      "time: 16.4 ms\n"
     ]
    }
   ],
   "source": [
    "''' \n",
    "多级索引，inplace=True 覆盖的情况下，\n",
    "直接使用 df_1 访问.\n",
    "\n",
    "注意：在 inplace=True 覆盖原数据情况下，运行第 2 或多次，\n",
    "      就会出现报错的情况，同时代码并没有语法错误，\n",
    "      原因是原数据被覆盖了。解决方法是：重新运行所有代码，\n",
    "      如果不是很必要，尽量不要执行覆盖原数据的操作\n",
    "'''\n",
    "\n",
    "df_1.set_index(keys=['地区', '年份'], inplace=True)  # 设置多级索引，覆盖原数据\n",
    "print(df_1.iloc[: , :4].head())  \n",
    "\n",
    "df_1.reset_index(inplace=True)\n",
    "df_1.iloc[: , :4].head()\n"
   ]
  },
  {
   "cell_type": "markdown",
   "metadata": {
    "id": "78A4C1A94AC54BEE8BBE331488170C09",
    "jupyter": {},
    "mdEditEnable": false,
    "slideshow": {
     "slide_type": "slide"
    },
    "tags": []
   },
   "source": [
    "## 5、排序问题"
   ]
  },
  {
   "cell_type": "code",
   "execution_count": 168,
   "metadata": {
    "collapsed": false,
    "id": "86E44BB231E9400289FB3B13F270B443",
    "jupyter": {},
    "scrolled": false,
    "slideshow": {
     "slide_type": "slide"
    },
    "tags": []
   },
   "outputs": [
    {
     "data": {
      "text/html": [
       "<div>\n",
       "<style scoped>\n",
       "    .dataframe tbody tr th:only-of-type {\n",
       "        vertical-align: middle;\n",
       "    }\n",
       "\n",
       "    .dataframe tbody tr th {\n",
       "        vertical-align: top;\n",
       "    }\n",
       "\n",
       "    .dataframe thead th {\n",
       "        text-align: right;\n",
       "    }\n",
       "</style>\n",
       "<table border=\"1\" class=\"dataframe\">\n",
       "  <thead>\n",
       "    <tr style=\"text-align: right;\">\n",
       "      <th></th>\n",
       "      <th>地区</th>\n",
       "      <th>年份</th>\n",
       "      <th>国内生产总值</th>\n",
       "      <th>第一产业增加值</th>\n",
       "      <th>第二产业增加值</th>\n",
       "      <th>第三产业增加值</th>\n",
       "      <th>社会商品零售总额</th>\n",
       "      <th>货物进出口总额</th>\n",
       "      <th>年末总人口</th>\n",
       "      <th>在岗职工平均工资</th>\n",
       "      <th>普通高等学校在校学生数</th>\n",
       "      <th>医院、卫生院数</th>\n",
       "      <th>房地产开发投资额</th>\n",
       "    </tr>\n",
       "  </thead>\n",
       "  <tbody>\n",
       "    <tr>\n",
       "      <th>8</th>\n",
       "      <td>哈尔滨</td>\n",
       "      <td>2015</td>\n",
       "      <td>5751.21</td>\n",
       "      <td>672.52</td>\n",
       "      <td>1862.78</td>\n",
       "      <td>3215.91</td>\n",
       "      <td>3394.5</td>\n",
       "      <td>4777.56</td>\n",
       "      <td>961.37</td>\n",
       "      <td>58405</td>\n",
       "      <td>66.3700</td>\n",
       "      <td>462</td>\n",
       "      <td>593.98</td>\n",
       "    </tr>\n",
       "    <tr>\n",
       "      <th>17</th>\n",
       "      <td>济南</td>\n",
       "      <td>2015</td>\n",
       "      <td>6100.23</td>\n",
       "      <td>305.39</td>\n",
       "      <td>2307.00</td>\n",
       "      <td>3487.84</td>\n",
       "      <td>3410.3</td>\n",
       "      <td>9114.24</td>\n",
       "      <td>625.73</td>\n",
       "      <td>68997</td>\n",
       "      <td>71.4000</td>\n",
       "      <td>269</td>\n",
       "      <td>1014.40</td>\n",
       "    </tr>\n",
       "    <tr>\n",
       "      <th>44</th>\n",
       "      <td>哈尔滨</td>\n",
       "      <td>2016</td>\n",
       "      <td>6101.61</td>\n",
       "      <td>691.18</td>\n",
       "      <td>1896.66</td>\n",
       "      <td>3513.77</td>\n",
       "      <td>3744.2</td>\n",
       "      <td>3974.63</td>\n",
       "      <td>962.05</td>\n",
       "      <td>62583</td>\n",
       "      <td>63.6240</td>\n",
       "      <td>471</td>\n",
       "      <td>526.13</td>\n",
       "    </tr>\n",
       "    <tr>\n",
       "      <th>71</th>\n",
       "      <td>乌鲁木齐</td>\n",
       "      <td>2016</td>\n",
       "      <td>2458.98</td>\n",
       "      <td>28.14</td>\n",
       "      <td>704.08</td>\n",
       "      <td>1726.76</td>\n",
       "      <td>1236.7</td>\n",
       "      <td>4902.58</td>\n",
       "      <td>267.87</td>\n",
       "      <td>73254</td>\n",
       "      <td>17.3847</td>\n",
       "      <td>152</td>\n",
       "      <td>344.71</td>\n",
       "    </tr>\n",
       "    <tr>\n",
       "      <th>72</th>\n",
       "      <td>北京</td>\n",
       "      <td>2017</td>\n",
       "      <td>28014.94</td>\n",
       "      <td>120.42</td>\n",
       "      <td>5326.76</td>\n",
       "      <td>22567.76</td>\n",
       "      <td>11575.4</td>\n",
       "      <td>324017.42</td>\n",
       "      <td>1359.20</td>\n",
       "      <td>134994</td>\n",
       "      <td>59.2878</td>\n",
       "      <td>656</td>\n",
       "      <td>3692.54</td>\n",
       "    </tr>\n",
       "  </tbody>\n",
       "</table>\n",
       "</div>"
      ],
      "text/plain": [
       "      地区    年份    国内生产总值  第一产业增加值  第二产业增加值   第三产业增加值  社会商品零售总额    货物进出口总额  \\\n",
       "8    哈尔滨  2015   5751.21   672.52  1862.78   3215.91    3394.5    4777.56   \n",
       "17    济南  2015   6100.23   305.39  2307.00   3487.84    3410.3    9114.24   \n",
       "44   哈尔滨  2016   6101.61   691.18  1896.66   3513.77    3744.2    3974.63   \n",
       "71  乌鲁木齐  2016   2458.98    28.14   704.08   1726.76    1236.7    4902.58   \n",
       "72    北京  2017  28014.94   120.42  5326.76  22567.76   11575.4  324017.42   \n",
       "\n",
       "      年末总人口  在岗职工平均工资  普通高等学校在校学生数  医院、卫生院数  房地产开发投资额  \n",
       "8    961.37     58405      66.3700      462    593.98  \n",
       "17   625.73     68997      71.4000      269   1014.40  \n",
       "44   962.05     62583      63.6240      471    526.13  \n",
       "71   267.87     73254      17.3847      152    344.71  \n",
       "72  1359.20    134994      59.2878      656   3692.54  "
      ]
     },
     "execution_count": 168,
     "metadata": {},
     "output_type": "execute_result"
    },
    {
     "name": "stdout",
     "output_type": "stream",
     "text": [
      "time: 16.1 ms\n"
     ]
    }
   ],
   "source": [
    "''' 通过索引排序 '''\n",
    "\n",
    "data = df_1.sample(n=5, replace=False)  # 通过随机不放回抽样 5 个数据\n",
    "# 通过索引排列，升序排列、不覆盖原数据、如有缺失值则放在前面\n",
    "data.sort_index(ascending=True, inplace=False, na_position='first')\n"
   ]
  },
  {
   "cell_type": "code",
   "execution_count": 169,
   "metadata": {
    "collapsed": false,
    "id": "54896450CA824D348F29B6A578CB76E8",
    "jupyter": {},
    "scrolled": false,
    "slideshow": {
     "slide_type": "slide"
    },
    "tags": []
   },
   "outputs": [
    {
     "data": {
      "text/html": [
       "<div>\n",
       "<style scoped>\n",
       "    .dataframe tbody tr th:only-of-type {\n",
       "        vertical-align: middle;\n",
       "    }\n",
       "\n",
       "    .dataframe tbody tr th {\n",
       "        vertical-align: top;\n",
       "    }\n",
       "\n",
       "    .dataframe thead th {\n",
       "        text-align: right;\n",
       "    }\n",
       "</style>\n",
       "<table border=\"1\" class=\"dataframe\">\n",
       "  <thead>\n",
       "    <tr style=\"text-align: right;\">\n",
       "      <th></th>\n",
       "      <th>地区</th>\n",
       "      <th>年份</th>\n",
       "      <th>国内生产总值</th>\n",
       "      <th>第一产业增加值</th>\n",
       "      <th>第二产业增加值</th>\n",
       "      <th>第三产业增加值</th>\n",
       "      <th>社会商品零售总额</th>\n",
       "      <th>货物进出口总额</th>\n",
       "      <th>年末总人口</th>\n",
       "      <th>在岗职工平均工资</th>\n",
       "      <th>普通高等学校在校学生数</th>\n",
       "      <th>医院、卫生院数</th>\n",
       "      <th>房地产开发投资额</th>\n",
       "    </tr>\n",
       "  </thead>\n",
       "  <tbody>\n",
       "    <tr>\n",
       "      <th>81</th>\n",
       "      <td>上海</td>\n",
       "      <td>2017</td>\n",
       "      <td>30632.99</td>\n",
       "      <td>110.78</td>\n",
       "      <td>9330.67</td>\n",
       "      <td>21191.54</td>\n",
       "      <td>11830.3</td>\n",
       "      <td>476196.65</td>\n",
       "      <td>1455.13</td>\n",
       "      <td>130765</td>\n",
       "      <td>51.4917</td>\n",
       "      <td>363</td>\n",
       "      <td>3856.53</td>\n",
       "    </tr>\n",
       "    <tr>\n",
       "      <th>45</th>\n",
       "      <td>上海</td>\n",
       "      <td>2016</td>\n",
       "      <td>28178.65</td>\n",
       "      <td>109.47</td>\n",
       "      <td>8406.28</td>\n",
       "      <td>19662.90</td>\n",
       "      <td>10946.6</td>\n",
       "      <td>433768.19</td>\n",
       "      <td>1450.00</td>\n",
       "      <td>120503</td>\n",
       "      <td>51.4683</td>\n",
       "      <td>656</td>\n",
       "      <td>3709.03</td>\n",
       "    </tr>\n",
       "    <tr>\n",
       "      <th>9</th>\n",
       "      <td>上海</td>\n",
       "      <td>2015</td>\n",
       "      <td>25123.45</td>\n",
       "      <td>109.82</td>\n",
       "      <td>7991.00</td>\n",
       "      <td>17022.63</td>\n",
       "      <td>10131.5</td>\n",
       "      <td>449240.72</td>\n",
       "      <td>1442.97</td>\n",
       "      <td>109279</td>\n",
       "      <td>51.1600</td>\n",
       "      <td>644</td>\n",
       "      <td>3468.94</td>\n",
       "    </tr>\n",
       "    <tr>\n",
       "      <th>107</th>\n",
       "      <td>乌鲁木齐</td>\n",
       "      <td>2017</td>\n",
       "      <td>2743.82</td>\n",
       "      <td>29.62</td>\n",
       "      <td>827.63</td>\n",
       "      <td>1886.56</td>\n",
       "      <td>1317.1</td>\n",
       "      <td>6807.12</td>\n",
       "      <td>222.62</td>\n",
       "      <td>78072</td>\n",
       "      <td>19.3853</td>\n",
       "      <td>127</td>\n",
       "      <td>422.74</td>\n",
       "    </tr>\n",
       "    <tr>\n",
       "      <th>71</th>\n",
       "      <td>乌鲁木齐</td>\n",
       "      <td>2016</td>\n",
       "      <td>2458.98</td>\n",
       "      <td>28.14</td>\n",
       "      <td>704.08</td>\n",
       "      <td>1726.76</td>\n",
       "      <td>1236.7</td>\n",
       "      <td>4902.58</td>\n",
       "      <td>267.87</td>\n",
       "      <td>73254</td>\n",
       "      <td>17.3847</td>\n",
       "      <td>152</td>\n",
       "      <td>344.71</td>\n",
       "    </tr>\n",
       "    <tr>\n",
       "      <th>35</th>\n",
       "      <td>乌鲁木齐</td>\n",
       "      <td>2015</td>\n",
       "      <td>2631.64</td>\n",
       "      <td>31.64</td>\n",
       "      <td>787.37</td>\n",
       "      <td>1812.62</td>\n",
       "      <td>1151.5</td>\n",
       "      <td>5843.11</td>\n",
       "      <td>266.83</td>\n",
       "      <td>67617</td>\n",
       "      <td>18.0500</td>\n",
       "      <td>175</td>\n",
       "      <td>366.87</td>\n",
       "    </tr>\n",
       "    <tr>\n",
       "      <th>104</th>\n",
       "      <td>兰州</td>\n",
       "      <td>2017</td>\n",
       "      <td>2523.54</td>\n",
       "      <td>61.47</td>\n",
       "      <td>881.74</td>\n",
       "      <td>1580.34</td>\n",
       "      <td>1358.7</td>\n",
       "      <td>1853.01</td>\n",
       "      <td>325.55</td>\n",
       "      <td>75709</td>\n",
       "      <td>40.6279</td>\n",
       "      <td>127</td>\n",
       "      <td>418.26</td>\n",
       "    </tr>\n",
       "  </tbody>\n",
       "</table>\n",
       "</div>"
      ],
      "text/plain": [
       "       地区    年份    国内生产总值  第一产业增加值  第二产业增加值   第三产业增加值  社会商品零售总额    货物进出口总额  \\\n",
       "81     上海  2017  30632.99   110.78  9330.67  21191.54   11830.3  476196.65   \n",
       "45     上海  2016  28178.65   109.47  8406.28  19662.90   10946.6  433768.19   \n",
       "9      上海  2015  25123.45   109.82  7991.00  17022.63   10131.5  449240.72   \n",
       "107  乌鲁木齐  2017   2743.82    29.62   827.63   1886.56    1317.1    6807.12   \n",
       "71   乌鲁木齐  2016   2458.98    28.14   704.08   1726.76    1236.7    4902.58   \n",
       "35   乌鲁木齐  2015   2631.64    31.64   787.37   1812.62    1151.5    5843.11   \n",
       "104    兰州  2017   2523.54    61.47   881.74   1580.34    1358.7    1853.01   \n",
       "\n",
       "       年末总人口  在岗职工平均工资  普通高等学校在校学生数  医院、卫生院数  房地产开发投资额  \n",
       "81   1455.13    130765      51.4917      363   3856.53  \n",
       "45   1450.00    120503      51.4683      656   3709.03  \n",
       "9    1442.97    109279      51.1600      644   3468.94  \n",
       "107   222.62     78072      19.3853      127    422.74  \n",
       "71    267.87     73254      17.3847      152    344.71  \n",
       "35    266.83     67617      18.0500      175    366.87  \n",
       "104   325.55     75709      40.6279      127    418.26  "
      ]
     },
     "execution_count": 169,
     "metadata": {},
     "output_type": "execute_result"
    },
    {
     "name": "stdout",
     "output_type": "stream",
     "text": [
      "time: 17.7 ms\n"
     ]
    }
   ],
   "source": [
    "''' 通过指定列的值排序 '''\n",
    "\n",
    "# 先以 \"升序\" 模式排完 \"地区\" 这一列，\"年份\" 这列再以 \"地区\" 列来排序\n",
    "df_1.sort_values(by=['地区', '年份'], ascending=[True, False], \n",
    "                inplace=False, na_position='first').head(7)\n"
   ]
  },
  {
   "cell_type": "markdown",
   "metadata": {
    "id": "D42B73FB31074019A5C55A399FB46EFC",
    "jupyter": {},
    "mdEditEnable": false,
    "slideshow": {
     "slide_type": "slide"
    },
    "tags": []
   },
   "source": [
    "## 6、重复数据处理"
   ]
  },
  {
   "cell_type": "code",
   "execution_count": 170,
   "metadata": {
    "collapsed": false,
    "id": "578D14D31B054DAA9BA930B03EFC1294",
    "jupyter": {},
    "scrolled": false,
    "slideshow": {
     "slide_type": "slide"
    },
    "tags": []
   },
   "outputs": [
    {
     "name": "stdout",
     "output_type": "stream",
     "text": [
      "\n",
      ">>> ['北京' '天津' '石家庄' '太原' '呼和浩特' '沈阳' '大连' '长春' '哈尔滨' '上海' '南京' '杭州' '宁波' '合肥'\n",
      " '福州' '厦门' '南昌' '济南' '青岛' '郑州' '武汉' '长沙' '广州' '深圳' '南宁' '海口' '重庆' '成都'\n",
      " '贵阳' '昆明' '拉萨' '西安' '兰州' '西宁' '银川' '乌鲁木齐']\n",
      "\n",
      ">>>\n",
      " 地区              36\n",
      "年份               3\n",
      "国内生产总值         108\n",
      "第一产业增加值        108\n",
      "第二产业增加值        108\n",
      "第三产业增加值        108\n",
      "社会商品零售总额       108\n",
      "货物进出口总额        107\n",
      "年末总人口          108\n",
      "在岗职工平均工资       108\n",
      "普通高等学校在校学生数    108\n",
      "医院、卫生院数         96\n",
      "房地产开发投资额       105\n",
      "dtype: int64\n",
      "time: 5.73 ms\n"
     ]
    }
   ],
   "source": [
    "''' 返回唯一值 '''\n",
    "\n",
    "print('\\n>>>', df_1['地区'].unique())  # 唯一值元素\n",
    "print('\\n>>>\\n', df_1.nunique())  # 唯一值数量\n"
   ]
  },
  {
   "cell_type": "code",
   "execution_count": 171,
   "metadata": {
    "collapsed": false,
    "id": "B127436DB9144F9BADE4994AE5C58AE0",
    "jupyter": {},
    "scrolled": false,
    "slideshow": {
     "slide_type": "slide"
    },
    "tags": []
   },
   "outputs": [
    {
     "name": "stdout",
     "output_type": "stream",
     "text": [
      "\n",
      ">>> 0    False\n",
      "1     True\n",
      "2     True\n",
      "3     True\n",
      "4     True\n",
      "dtype: bool\n",
      "\n",
      ">>>     地区    年份    国内生产总值  第一产业增加值\n",
      "0   北京  2015  23014.59   140.21\n",
      "36  北京  2016  25669.13   129.79\n",
      "72  北京  2017  28014.94   120.42\n",
      "\n",
      ">>> [False False False False False False False False False False False False\n",
      " False False False False False False False False False False False False\n",
      " False False False False False False False False False False False False\n",
      " False False False False False False False False False False False False\n",
      " False False False False False False False False False False False False\n",
      " False False False False False False False False False False False False\n",
      " False False False False False False False False False False False False\n",
      " False False False False False False False False False False False False\n",
      " False False False False False False False False False False False False]\n",
      "time: 7.26 ms\n"
     ]
    }
   ],
   "source": [
    "''' 重复值处理 '''\n",
    "\n",
    "# 查找重复值\n",
    "print('\\n>>>', df_1.duplicated(subset=['年份'], keep='first').head())  \n",
    "# 删除重复值\n",
    "print('\\n>>>', df_1.drop_duplicates(subset=['年份'], keep='first', inplace=False).iloc[:, :4])\n",
    "# 查找重复索引\n",
    "print('\\n>>>', df_1.index.duplicated())\n"
   ]
  },
  {
   "cell_type": "markdown",
   "metadata": {
    "id": "CC35AEFFBFF243AE8DBEE17BBBC36724",
    "jupyter": {},
    "mdEditEnable": false,
    "slideshow": {
     "slide_type": "slide"
    },
    "tags": []
   },
   "source": [
    "## 7、数据分组"
   ]
  },
  {
   "cell_type": "code",
   "execution_count": 172,
   "metadata": {
    "collapsed": false,
    "id": "2FF670F0922D4E128CDD5393945F7731",
    "jupyter": {},
    "scrolled": false,
    "slideshow": {
     "slide_type": "slide"
    },
    "tags": []
   },
   "outputs": [
    {
     "data": {
      "text/html": [
       "<div>\n",
       "<style scoped>\n",
       "    .dataframe tbody tr th:only-of-type {\n",
       "        vertical-align: middle;\n",
       "    }\n",
       "\n",
       "    .dataframe tbody tr th {\n",
       "        vertical-align: top;\n",
       "    }\n",
       "\n",
       "    .dataframe thead th {\n",
       "        text-align: right;\n",
       "    }\n",
       "</style>\n",
       "<table border=\"1\" class=\"dataframe\">\n",
       "  <thead>\n",
       "    <tr style=\"text-align: right;\">\n",
       "      <th></th>\n",
       "      <th>max</th>\n",
       "      <th>min</th>\n",
       "      <th>median</th>\n",
       "    </tr>\n",
       "    <tr>\n",
       "      <th>地区</th>\n",
       "      <th></th>\n",
       "      <th></th>\n",
       "      <th></th>\n",
       "    </tr>\n",
       "  </thead>\n",
       "  <tbody>\n",
       "    <tr>\n",
       "      <th>上海</th>\n",
       "      <td>2017</td>\n",
       "      <td>2015</td>\n",
       "      <td>2016</td>\n",
       "    </tr>\n",
       "    <tr>\n",
       "      <th>乌鲁木齐</th>\n",
       "      <td>2017</td>\n",
       "      <td>2015</td>\n",
       "      <td>2016</td>\n",
       "    </tr>\n",
       "    <tr>\n",
       "      <th>兰州</th>\n",
       "      <td>2017</td>\n",
       "      <td>2015</td>\n",
       "      <td>2016</td>\n",
       "    </tr>\n",
       "    <tr>\n",
       "      <th>北京</th>\n",
       "      <td>2017</td>\n",
       "      <td>2015</td>\n",
       "      <td>2016</td>\n",
       "    </tr>\n",
       "    <tr>\n",
       "      <th>南京</th>\n",
       "      <td>2017</td>\n",
       "      <td>2015</td>\n",
       "      <td>2016</td>\n",
       "    </tr>\n",
       "  </tbody>\n",
       "</table>\n",
       "</div>"
      ],
      "text/plain": [
       "       max   min  median\n",
       "地区                      \n",
       "上海    2017  2015    2016\n",
       "乌鲁木齐  2017  2015    2016\n",
       "兰州    2017  2015    2016\n",
       "北京    2017  2015    2016\n",
       "南京    2017  2015    2016"
      ]
     },
     "execution_count": 172,
     "metadata": {},
     "output_type": "execute_result"
    },
    {
     "name": "stdout",
     "output_type": "stream",
     "text": [
      "time: 14.6 ms\n"
     ]
    }
   ],
   "source": [
    "''' 指定一列是聚合列，如：年份 '''\n",
    "\n",
    "# '地区'作为索引分组，'年份'与分组列'地区'聚合\n",
    "# 第一种方法\n",
    "df_1.groupby(by=['地区'], as_index=True).agg({'年份': ['max', 'min', 'median']}).head()\n",
    "# 第二种方法，两种方法是等效的\n",
    "df_1.groupby(by=['地区'], as_index=True).年份.agg(['max', 'min', 'median']).head()\n",
    "\n",
    "# 第三种方法\n",
    "# df_1.groupby(by=['地区'], as_index=True).agg({'年份'}).head()"
   ]
  },
  {
   "cell_type": "code",
   "execution_count": 173,
   "metadata": {
    "collapsed": false,
    "id": "44268CCF1CBD4849915B98CF3C1E6100",
    "jupyter": {},
    "scrolled": false,
    "slideshow": {
     "slide_type": "slide"
    },
    "tags": []
   },
   "outputs": [
    {
     "data": {
      "text/html": [
       "<div>\n",
       "<style scoped>\n",
       "    .dataframe tbody tr th:only-of-type {\n",
       "        vertical-align: middle;\n",
       "    }\n",
       "\n",
       "    .dataframe tbody tr th {\n",
       "        vertical-align: top;\n",
       "    }\n",
       "\n",
       "    .dataframe thead tr th {\n",
       "        text-align: left;\n",
       "    }\n",
       "\n",
       "    .dataframe thead tr:last-of-type th {\n",
       "        text-align: right;\n",
       "    }\n",
       "</style>\n",
       "<table border=\"1\" class=\"dataframe\">\n",
       "  <thead>\n",
       "    <tr>\n",
       "      <th></th>\n",
       "      <th>年份</th>\n",
       "      <th colspan=\"8\" halign=\"left\">国内生产总值</th>\n",
       "    </tr>\n",
       "    <tr>\n",
       "      <th></th>\n",
       "      <th>年份</th>\n",
       "      <th>count</th>\n",
       "      <th>mean</th>\n",
       "      <th>std</th>\n",
       "      <th>min</th>\n",
       "      <th>25%</th>\n",
       "      <th>50%</th>\n",
       "      <th>75%</th>\n",
       "      <th>max</th>\n",
       "    </tr>\n",
       "    <tr>\n",
       "      <th>地区</th>\n",
       "      <th></th>\n",
       "      <th></th>\n",
       "      <th></th>\n",
       "      <th></th>\n",
       "      <th></th>\n",
       "      <th></th>\n",
       "      <th></th>\n",
       "      <th></th>\n",
       "      <th></th>\n",
       "    </tr>\n",
       "  </thead>\n",
       "  <tbody>\n",
       "    <tr>\n",
       "      <th>上海</th>\n",
       "      <td>2017</td>\n",
       "      <td>3.0</td>\n",
       "      <td>27978.363333</td>\n",
       "      <td>2760.225320</td>\n",
       "      <td>25123.45</td>\n",
       "      <td>26651.050</td>\n",
       "      <td>28178.65</td>\n",
       "      <td>29405.820</td>\n",
       "      <td>30632.99</td>\n",
       "    </tr>\n",
       "    <tr>\n",
       "      <th>乌鲁木齐</th>\n",
       "      <td>2017</td>\n",
       "      <td>3.0</td>\n",
       "      <td>2611.480000</td>\n",
       "      <td>143.486151</td>\n",
       "      <td>2458.98</td>\n",
       "      <td>2545.310</td>\n",
       "      <td>2631.64</td>\n",
       "      <td>2687.730</td>\n",
       "      <td>2743.82</td>\n",
       "    </tr>\n",
       "    <tr>\n",
       "      <th>兰州</th>\n",
       "      <td>2017</td>\n",
       "      <td>3.0</td>\n",
       "      <td>2294.586667</td>\n",
       "      <td>215.385459</td>\n",
       "      <td>2095.99</td>\n",
       "      <td>2180.110</td>\n",
       "      <td>2264.23</td>\n",
       "      <td>2393.885</td>\n",
       "      <td>2523.54</td>\n",
       "    </tr>\n",
       "    <tr>\n",
       "      <th>北京</th>\n",
       "      <td>2017</td>\n",
       "      <td>3.0</td>\n",
       "      <td>25566.220000</td>\n",
       "      <td>2501.762955</td>\n",
       "      <td>23014.59</td>\n",
       "      <td>24341.860</td>\n",
       "      <td>25669.13</td>\n",
       "      <td>26842.035</td>\n",
       "      <td>28014.94</td>\n",
       "    </tr>\n",
       "    <tr>\n",
       "      <th>南京</th>\n",
       "      <td>2017</td>\n",
       "      <td>3.0</td>\n",
       "      <td>10646.296667</td>\n",
       "      <td>1004.855308</td>\n",
       "      <td>9720.77</td>\n",
       "      <td>10111.895</td>\n",
       "      <td>10503.02</td>\n",
       "      <td>11109.060</td>\n",
       "      <td>11715.10</td>\n",
       "    </tr>\n",
       "  </tbody>\n",
       "</table>\n",
       "</div>"
      ],
      "text/plain": [
       "        年份 国内生产总值                                                            \\\n",
       "        年份  count          mean          std       min        25%       50%   \n",
       "地区                                                                            \n",
       "上海    2017    3.0  27978.363333  2760.225320  25123.45  26651.050  28178.65   \n",
       "乌鲁木齐  2017    3.0   2611.480000   143.486151   2458.98   2545.310   2631.64   \n",
       "兰州    2017    3.0   2294.586667   215.385459   2095.99   2180.110   2264.23   \n",
       "北京    2017    3.0  25566.220000  2501.762955  23014.59  24341.860  25669.13   \n",
       "南京    2017    3.0  10646.296667  1004.855308   9720.77  10111.895  10503.02   \n",
       "\n",
       "                           \n",
       "            75%       max  \n",
       "地区                         \n",
       "上海    29405.820  30632.99  \n",
       "乌鲁木齐   2687.730   2743.82  \n",
       "兰州     2393.885   2523.54  \n",
       "北京    26842.035  28014.94  \n",
       "南京    11109.060  11715.10  "
      ]
     },
     "execution_count": 173,
     "metadata": {},
     "output_type": "execute_result"
    },
    {
     "name": "stdout",
     "output_type": "stream",
     "text": [
      "time: 94.5 ms\n"
     ]
    }
   ],
   "source": [
    "''' 指定多列列是聚合列，如：年份、国内生产总值 '''\n",
    "\n",
    "df_1.groupby(by=['地区'], as_index=True).agg({'年份': 'max', '国内生产总值': 'describe'}).head()"
   ]
  },
  {
   "cell_type": "code",
   "execution_count": 174,
   "metadata": {
    "collapsed": false,
    "id": "BDCF0798D6E34C79A8AAE2CEADD3C034",
    "jupyter": {},
    "scrolled": false,
    "slideshow": {
     "slide_type": "slide"
    },
    "tags": []
   },
   "outputs": [
    {
     "data": {
      "text/html": [
       "<div>\n",
       "<style scoped>\n",
       "    .dataframe tbody tr th:only-of-type {\n",
       "        vertical-align: middle;\n",
       "    }\n",
       "\n",
       "    .dataframe tbody tr th {\n",
       "        vertical-align: top;\n",
       "    }\n",
       "\n",
       "    .dataframe thead th {\n",
       "        text-align: right;\n",
       "    }\n",
       "</style>\n",
       "<table border=\"1\" class=\"dataframe\">\n",
       "  <thead>\n",
       "    <tr style=\"text-align: right;\">\n",
       "      <th></th>\n",
       "      <th>年份</th>\n",
       "      <th>国内生产总值</th>\n",
       "      <th>第一产业增加值</th>\n",
       "      <th>第二产业增加值</th>\n",
       "      <th>第三产业增加值</th>\n",
       "      <th>社会商品零售总额</th>\n",
       "      <th>货物进出口总额</th>\n",
       "      <th>年末总人口</th>\n",
       "      <th>在岗职工平均工资</th>\n",
       "      <th>普通高等学校在校学生数</th>\n",
       "      <th>医院、卫生院数</th>\n",
       "      <th>房地产开发投资额</th>\n",
       "    </tr>\n",
       "    <tr>\n",
       "      <th>地区</th>\n",
       "      <th></th>\n",
       "      <th></th>\n",
       "      <th></th>\n",
       "      <th></th>\n",
       "      <th></th>\n",
       "      <th></th>\n",
       "      <th></th>\n",
       "      <th></th>\n",
       "      <th></th>\n",
       "      <th></th>\n",
       "      <th></th>\n",
       "      <th></th>\n",
       "    </tr>\n",
       "  </thead>\n",
       "  <tbody>\n",
       "    <tr>\n",
       "      <th>上海</th>\n",
       "      <td>2017</td>\n",
       "      <td>30632.99</td>\n",
       "      <td>110.78</td>\n",
       "      <td>9330.67</td>\n",
       "      <td>21191.54</td>\n",
       "      <td>11830.3</td>\n",
       "      <td>476196.65</td>\n",
       "      <td>1455.13</td>\n",
       "      <td>130765</td>\n",
       "      <td>51.4917</td>\n",
       "      <td>656</td>\n",
       "      <td>3856.53</td>\n",
       "    </tr>\n",
       "    <tr>\n",
       "      <th>乌鲁木齐</th>\n",
       "      <td>2017</td>\n",
       "      <td>2743.82</td>\n",
       "      <td>31.64</td>\n",
       "      <td>827.63</td>\n",
       "      <td>1886.56</td>\n",
       "      <td>1317.1</td>\n",
       "      <td>6807.12</td>\n",
       "      <td>267.87</td>\n",
       "      <td>78072</td>\n",
       "      <td>19.3853</td>\n",
       "      <td>175</td>\n",
       "      <td>422.74</td>\n",
       "    </tr>\n",
       "    <tr>\n",
       "      <th>兰州</th>\n",
       "      <td>2017</td>\n",
       "      <td>2523.54</td>\n",
       "      <td>61.47</td>\n",
       "      <td>881.74</td>\n",
       "      <td>1580.34</td>\n",
       "      <td>1358.7</td>\n",
       "      <td>5058.60</td>\n",
       "      <td>325.55</td>\n",
       "      <td>75709</td>\n",
       "      <td>42.4842</td>\n",
       "      <td>172</td>\n",
       "      <td>418.26</td>\n",
       "    </tr>\n",
       "    <tr>\n",
       "      <th>北京</th>\n",
       "      <td>2017</td>\n",
       "      <td>28014.94</td>\n",
       "      <td>140.21</td>\n",
       "      <td>5326.76</td>\n",
       "      <td>22567.76</td>\n",
       "      <td>11575.4</td>\n",
       "      <td>324017.42</td>\n",
       "      <td>1362.86</td>\n",
       "      <td>134994</td>\n",
       "      <td>60.3600</td>\n",
       "      <td>713</td>\n",
       "      <td>4177.05</td>\n",
       "    </tr>\n",
       "    <tr>\n",
       "      <th>南京</th>\n",
       "      <td>2017</td>\n",
       "      <td>11715.10</td>\n",
       "      <td>263.01</td>\n",
       "      <td>4454.87</td>\n",
       "      <td>6997.22</td>\n",
       "      <td>5604.7</td>\n",
       "      <td>61187.27</td>\n",
       "      <td>680.67</td>\n",
       "      <td>101502</td>\n",
       "      <td>82.7773</td>\n",
       "      <td>225</td>\n",
       "      <td>2170.21</td>\n",
       "    </tr>\n",
       "  </tbody>\n",
       "</table>\n",
       "</div>"
      ],
      "text/plain": [
       "        年份    国内生产总值  第一产业增加值  第二产业增加值   第三产业增加值  社会商品零售总额    货物进出口总额  \\\n",
       "地区                                                                      \n",
       "上海    2017  30632.99   110.78  9330.67  21191.54   11830.3  476196.65   \n",
       "乌鲁木齐  2017   2743.82    31.64   827.63   1886.56    1317.1    6807.12   \n",
       "兰州    2017   2523.54    61.47   881.74   1580.34    1358.7    5058.60   \n",
       "北京    2017  28014.94   140.21  5326.76  22567.76   11575.4  324017.42   \n",
       "南京    2017  11715.10   263.01  4454.87   6997.22    5604.7   61187.27   \n",
       "\n",
       "        年末总人口  在岗职工平均工资  普通高等学校在校学生数  医院、卫生院数  房地产开发投资额  \n",
       "地区                                                       \n",
       "上海    1455.13    130765      51.4917      656   3856.53  \n",
       "乌鲁木齐   267.87     78072      19.3853      175    422.74  \n",
       "兰州     325.55     75709      42.4842      172    418.26  \n",
       "北京    1362.86    134994      60.3600      713   4177.05  \n",
       "南京     680.67    101502      82.7773      225   2170.21  "
      ]
     },
     "execution_count": 174,
     "metadata": {},
     "output_type": "execute_result"
    },
    {
     "name": "stdout",
     "output_type": "stream",
     "text": [
      "time: 15.8 ms\n"
     ]
    }
   ],
   "source": [
    "''' 没有指定聚合列，则代表选择所有列 '''\n",
    "# 返回所有列中的最大值\n",
    "df_1.groupby(by=['地区'], as_index=True).max().head()\n"
   ]
  },
  {
   "cell_type": "markdown",
   "metadata": {
    "id": "B0B1FAA15D3247C084AE0803C9A2B63C",
    "jupyter": {},
    "mdEditEnable": false,
    "slideshow": {
     "slide_type": "slide"
    },
    "tags": []
   },
   "source": [
    "## 8、处理缺失值"
   ]
  },
  {
   "cell_type": "code",
   "execution_count": 175,
   "metadata": {
    "collapsed": false,
    "id": "FC52ACFA252F451498CFFD7E8681FD2B",
    "jupyter": {},
    "scrolled": false,
    "slideshow": {
     "slide_type": "slide"
    },
    "tags": []
   },
   "outputs": [
    {
     "name": "stdout",
     "output_type": "stream",
     "text": [
      "\n",
      ">>> 地区             0\n",
      "年份             0\n",
      "国内生产总值         0\n",
      "第一产业增加值        0\n",
      "第二产业增加值        0\n",
      "第三产业增加值        0\n",
      "社会商品零售总额       0\n",
      "货物进出口总额        0\n",
      "年末总人口          0\n",
      "在岗职工平均工资       0\n",
      "普通高等学校在校学生数    0\n",
      "医院、卫生院数        0\n",
      "房地产开发投资额       3\n",
      "dtype: int64\n",
      "\n",
      ">>>      地区    年份    国内生产总值  第一产业增加值  第二产业增加值   第三产业增加值  社会商品零售总额    货物进出口总额  \\\n",
      "0    北京  2015  23014.59   140.21  4542.64  18331.74   10338.0  319416.16   \n",
      "1    天津  2015  16538.19   208.82  7704.22   8625.15    5257.3  114282.80   \n",
      "2   石家庄  2015   5440.60   494.44  2452.40   2493.77    2693.0   12160.29   \n",
      "3    太原  2015   2735.34    37.40  1020.18   1677.77    1540.8   10677.38   \n",
      "4  呼和浩特  2015   3090.52   126.23   867.08   2097.21    1353.5    2072.75   \n",
      "\n",
      "     年末总人口  在岗职工平均工资  普通高等学校在校学生数  医院、卫生院数  房地产开发投资额  \n",
      "0  1345.20    113073        60.36      701   4177.05  \n",
      "1  1026.90     81486        51.29      661   1871.55  \n",
      "2  1028.84     54441        41.98      393    965.13  \n",
      "3   367.39     60516        42.14      247    597.83  \n",
      "4   238.58     53698        23.52      174    509.05  \n",
      "\n",
      ">>>      地区    年份    国内生产总值  第一产业增加值  第二产业增加值   第三产业增加值  社会商品零售总额    货物进出口总额  \\\n",
      "0    北京  2015  23014.59   140.21  4542.64  18331.74   10338.0  319416.16   \n",
      "1    天津  2015  16538.19   208.82  7704.22   8625.15    5257.3  114282.80   \n",
      "2   石家庄  2015   5440.60   494.44  2452.40   2493.77    2693.0   12160.29   \n",
      "3    太原  2015   2735.34    37.40  1020.18   1677.77    1540.8   10677.38   \n",
      "4  呼和浩特  2015   3090.52   126.23   867.08   2097.21    1353.5    2072.75   \n",
      "\n",
      "     年末总人口  在岗职工平均工资  普通高等学校在校学生数  医院、卫生院数  房地产开发投资额  \n",
      "0  1345.20    113073        60.36      701   4177.05  \n",
      "1  1026.90     81486        51.29      661   1871.55  \n",
      "2  1028.84     54441        41.98      393    965.13  \n",
      "3   367.39     60516        42.14      247    597.83  \n",
      "4   238.58     53698        23.52      174    509.05  \n",
      "\n",
      ">>>      地区    年份    国内生产总值  第一产业增加值  第二产业增加值   第三产业增加值  社会商品零售总额    货物进出口总额  \\\n",
      "0    北京  2015  23014.59   140.21  4542.64  18331.74   10338.0  319416.16   \n",
      "1    天津  2015  16538.19   208.82  7704.22   8625.15    5257.3  114282.80   \n",
      "2   石家庄  2015   5440.60   494.44  2452.40   2493.77    2693.0   12160.29   \n",
      "3    太原  2015   2735.34    37.40  1020.18   1677.77    1540.8   10677.38   \n",
      "4  呼和浩特  2015   3090.52   126.23   867.08   2097.21    1353.5    2072.75   \n",
      "\n",
      "     年末总人口  在岗职工平均工资  普通高等学校在校学生数  医院、卫生院数  房地产开发投资额  \n",
      "0  1345.20    113073        60.36      701   4177.05  \n",
      "1  1026.90     81486        51.29      661   1871.55  \n",
      "2  1028.84     54441        41.98      393    965.13  \n",
      "3   367.39     60516        42.14      247    597.83  \n",
      "4   238.58     53698        23.52      174    509.05  \n",
      "\n",
      ">>>      地区    年份    国内生产总值  第一产业增加值  第二产业增加值   第三产业增加值  社会商品零售总额    货物进出口总额  \\\n",
      "0    北京  2015  23014.59   140.21  4542.64  18331.74   10338.0  319416.16   \n",
      "1    天津  2015  16538.19   208.82  7704.22   8625.15    5257.3  114282.80   \n",
      "2   石家庄  2015   5440.60   494.44  2452.40   2493.77    2693.0   12160.29   \n",
      "3    太原  2015   2735.34    37.40  1020.18   1677.77    1540.8   10677.38   \n",
      "4  呼和浩特  2015   3090.52   126.23   867.08   2097.21    1353.5    2072.75   \n",
      "\n",
      "     年末总人口  在岗职工平均工资  普通高等学校在校学生数  医院、卫生院数  房地产开发投资额  \n",
      "0  1345.20    113073        60.36      701   4177.05  \n",
      "1  1026.90     81486        51.29      661   1871.55  \n",
      "2  1028.84     54441        41.98      393    965.13  \n",
      "3   367.39     60516        42.14      247    597.83  \n",
      "4   238.58     53698        23.52      174    509.05  \n"
     ]
    },
    {
     "data": {
      "text/plain": [
       "' 指定多列填充 '"
      ]
     },
     "execution_count": 175,
     "metadata": {},
     "output_type": "execute_result"
    },
    {
     "name": "stdout",
     "output_type": "stream",
     "text": [
      "time: 43.2 ms\n"
     ]
    }
   ],
   "source": [
    "''' 在上面的探索中，发现有缺失值，因此有必要进行处理 '''\n",
    "\n",
    "print('\\n>>>', df_1.isnull().sum())  # 查看所有数据的缺失情况\n",
    "\n",
    "# 第一种方法，删除缺失值数据\n",
    "# df_1.dropna(axis=0, how='any', thresh=None, inplace=False).head()  \n",
    "print('\\n>>>', df_1.dropna().head())\n",
    "\n",
    "# 第二种方法，使用填充法填充缺失值\n",
    "print('\\n>>>', df_1.fillna(method='ffill').head())  # 使用缺失值的前一个值填充(前向填充)\n",
    "print('\\n>>>', df_1.fillna(method='bfill').head())  # 使用缺失值的后一个值填充(后向填充)\n",
    "\n",
    "''' 平均值填充(所有列填充) '''\n",
    "print('\\n>>>', df_1.fillna(value=df_1.mean()).head()) \n",
    "''' 指定某一列平均值填充 '''\n",
    "# print('\\n>>>', df_1['房地产开发投资额'].fillna(   value=df_1['房地产开发投资额'].mean()).head())  \n",
    "''' 指定多列填充 '''\n",
    "# print('\\n>>>', df_1.fillna(value={'年份': df_1['年份'].max(),'房地产开发投资额':\n",
    "                            # df_1['房地产开发投资额'].mean()}))  "
   ]
  },
  {
   "cell_type": "markdown",
   "metadata": {
    "id": "222B33CE147C448AB68D853D5FA2E96C",
    "jupyter": {},
    "mdEditEnable": false,
    "slideshow": {
     "slide_type": "slide"
    },
    "tags": []
   },
   "source": [
    "## 9、选择指定的数据"
   ]
  },
  {
   "cell_type": "code",
   "execution_count": 176,
   "metadata": {
    "collapsed": false,
    "id": "E9B32FE903B745A292842EEB2E28A574",
    "jupyter": {},
    "scrolled": false,
    "slideshow": {
     "slide_type": "slide"
    },
    "tags": []
   },
   "outputs": [
    {
     "name": "stdout",
     "output_type": "stream",
     "text": [
      "\n",
      ">>> 0    2015\n",
      "1    2015\n",
      "2    2015\n",
      "3    2015\n",
      "4    2015\n",
      "Name: 年份, dtype: int64\n",
      "\n",
      ">>>      年份    国内生产总值\n",
      "0  2015  23014.59\n",
      "4  2015   3090.52\n",
      "7  2015   5530.03\n",
      "time: 5.05 ms\n"
     ]
    }
   ],
   "source": [
    "''' 按标签选择 '''\n",
    "# 按行的序号、列的名称选择\n",
    "# df.loc[:, '列名']/df.loc[[0,1, 2], ['列名1', '列名2']] \n",
    "\n",
    "print('\\n>>>', df_1.loc[:, '年份'].head())\n",
    "print('\\n>>>', df_1.loc[[0, 4, 7], ['年份', '国内生产总值']].head())"
   ]
  },
  {
   "cell_type": "code",
   "execution_count": 177,
   "metadata": {
    "collapsed": false,
    "id": "30B4D5737BFF461D803C71A459C25B94",
    "jupyter": {},
    "scrolled": false,
    "slideshow": {
     "slide_type": "slide"
    },
    "tags": []
   },
   "outputs": [
    {
     "name": "stdout",
     "output_type": "stream",
     "text": [
      "\n",
      ">>>     地区    年份    国内生产总值\n",
      "0   北京  2015  23014.59\n",
      "1   天津  2015  16538.19\n",
      "2  石家庄  2015   5440.60\n",
      "\n",
      ">>>       国内生产总值  第二产业增加值    年末总人口\n",
      "1   16538.19  7704.22  1026.90\n",
      "34   1493.86   780.84   179.23\n",
      "56  11912.61  5227.05   833.85\n",
      "time: 6.42 ms\n"
     ]
    }
   ],
   "source": [
    "''' 按位置选择 '''\n",
    "# 按行位置(序号)、列位置选择\n",
    "# df.iloc[:, :]/da.iloc[[0, 1, 2], [2, 3, 4]] \n",
    "\n",
    "print('\\n>>>', df_1.iloc[:3, :3])\n",
    "print('\\n>>>', df_1.iloc[[1, 34, 56], [2, 4, 8]])"
   ]
  },
  {
   "cell_type": "code",
   "execution_count": 178,
   "metadata": {
    "collapsed": false,
    "id": "921AFD3B0B4C4EE6A6A22799DCA851EC",
    "jupyter": {},
    "scrolled": false,
    "slideshow": {
     "slide_type": "slide"
    },
    "tags": []
   },
   "outputs": [
    {
     "name": "stdout",
     "output_type": "stream",
     "text": [
      "\n",
      ">>> 0    2015\n",
      "1    2015\n",
      "2    2015\n",
      "3    2015\n",
      "4    2015\n",
      "Name: 年份, dtype: int64\n",
      "\n",
      ">>>      地区    年份    国内生产总值\n",
      "0    北京  2015  23014.59\n",
      "1    天津  2015  16538.19\n",
      "2   石家庄  2015   5440.60\n",
      "3    太原  2015   2735.34\n",
      "4  呼和浩特  2015   3090.52\n",
      "time: 4.48 ms\n"
     ]
    },
    {
     "name": "stderr",
     "output_type": "stream",
     "text": [
      "/opt/conda/lib/python3.6/site-packages/ipykernel_launcher.py:6: DeprecationWarning: \n",
      ".ix is deprecated. Please use\n",
      ".loc for label based indexing or\n",
      ".iloc for positional indexing\n",
      "\n",
      "See the documentation here:\n",
      "http://pandas.pydata.org/pandas-docs/stable/indexing.html#ix-indexer-is-deprecated\n",
      "  \n",
      "/opt/conda/lib/python3.6/site-packages/ipykernel_launcher.py:7: DeprecationWarning: \n",
      ".ix is deprecated. Please use\n",
      ".loc for label based indexing or\n",
      ".iloc for positional indexing\n",
      "\n",
      "See the documentation here:\n",
      "http://pandas.pydata.org/pandas-docs/stable/indexing.html#ix-indexer-is-deprecated\n",
      "  import sys\n"
     ]
    }
   ],
   "source": [
    "''' 按位置/标签选择 '''\n",
    "# df.ix[2] 选择某行\n",
    "# df.ix[: , 'A'] 选择某列\n",
    "# df.ix[1, 'A']\n",
    "\n",
    "print('\\n>>>', df_1.ix[:, '年份'].head())\n",
    "print('\\n>>>', df_1.ix[:, :3].head())"
   ]
  },
  {
   "cell_type": "code",
   "execution_count": 179,
   "metadata": {
    "collapsed": false,
    "id": "6680F5397D6543AD8E3346C7752B26C7",
    "jupyter": {},
    "scrolled": false,
    "slideshow": {
     "slide_type": "slide"
    },
    "tags": []
   },
   "outputs": [
    {
     "data": {
      "text/html": [
       "<div>\n",
       "<style scoped>\n",
       "    .dataframe tbody tr th:only-of-type {\n",
       "        vertical-align: middle;\n",
       "    }\n",
       "\n",
       "    .dataframe tbody tr th {\n",
       "        vertical-align: top;\n",
       "    }\n",
       "\n",
       "    .dataframe thead th {\n",
       "        text-align: right;\n",
       "    }\n",
       "</style>\n",
       "<table border=\"1\" class=\"dataframe\">\n",
       "  <thead>\n",
       "    <tr style=\"text-align: right;\">\n",
       "      <th></th>\n",
       "      <th>地区</th>\n",
       "      <th>年份</th>\n",
       "      <th>国内生产总值</th>\n",
       "      <th>第一产业增加值</th>\n",
       "      <th>第二产业增加值</th>\n",
       "      <th>第三产业增加值</th>\n",
       "      <th>社会商品零售总额</th>\n",
       "      <th>货物进出口总额</th>\n",
       "      <th>年末总人口</th>\n",
       "      <th>在岗职工平均工资</th>\n",
       "      <th>普通高等学校在校学生数</th>\n",
       "      <th>医院、卫生院数</th>\n",
       "      <th>房地产开发投资额</th>\n",
       "    </tr>\n",
       "  </thead>\n",
       "  <tbody>\n",
       "    <tr>\n",
       "      <th>0</th>\n",
       "      <td>北京</td>\n",
       "      <td>2015</td>\n",
       "      <td>23014.59</td>\n",
       "      <td>140.21</td>\n",
       "      <td>4542.64</td>\n",
       "      <td>18331.74</td>\n",
       "      <td>10338.0</td>\n",
       "      <td>319416.16</td>\n",
       "      <td>1345.20</td>\n",
       "      <td>113073</td>\n",
       "      <td>60.3600</td>\n",
       "      <td>701</td>\n",
       "      <td>4177.05</td>\n",
       "    </tr>\n",
       "    <tr>\n",
       "      <th>36</th>\n",
       "      <td>北京</td>\n",
       "      <td>2016</td>\n",
       "      <td>25669.13</td>\n",
       "      <td>129.79</td>\n",
       "      <td>4944.44</td>\n",
       "      <td>20594.90</td>\n",
       "      <td>11005.1</td>\n",
       "      <td>282348.96</td>\n",
       "      <td>1362.86</td>\n",
       "      <td>122749</td>\n",
       "      <td>59.9188</td>\n",
       "      <td>713</td>\n",
       "      <td>4000.57</td>\n",
       "    </tr>\n",
       "    <tr>\n",
       "      <th>72</th>\n",
       "      <td>北京</td>\n",
       "      <td>2017</td>\n",
       "      <td>28014.94</td>\n",
       "      <td>120.42</td>\n",
       "      <td>5326.76</td>\n",
       "      <td>22567.76</td>\n",
       "      <td>11575.4</td>\n",
       "      <td>324017.42</td>\n",
       "      <td>1359.20</td>\n",
       "      <td>134994</td>\n",
       "      <td>59.2878</td>\n",
       "      <td>656</td>\n",
       "      <td>3692.54</td>\n",
       "    </tr>\n",
       "  </tbody>\n",
       "</table>\n",
       "</div>"
      ],
      "text/plain": [
       "    地区    年份    国内生产总值  第一产业增加值  第二产业增加值   第三产业增加值  社会商品零售总额    货物进出口总额  \\\n",
       "0   北京  2015  23014.59   140.21  4542.64  18331.74   10338.0  319416.16   \n",
       "36  北京  2016  25669.13   129.79  4944.44  20594.90   11005.1  282348.96   \n",
       "72  北京  2017  28014.94   120.42  5326.76  22567.76   11575.4  324017.42   \n",
       "\n",
       "      年末总人口  在岗职工平均工资  普通高等学校在校学生数  医院、卫生院数  房地产开发投资额  \n",
       "0   1345.20    113073      60.3600      701   4177.05  \n",
       "36  1362.86    122749      59.9188      713   4000.57  \n",
       "72  1359.20    134994      59.2878      656   3692.54  "
      ]
     },
     "execution_count": 179,
     "metadata": {},
     "output_type": "execute_result"
    },
    {
     "name": "stdout",
     "output_type": "stream",
     "text": [
      "time: 13.7 ms\n"
     ]
    }
   ],
   "source": [
    "''' 按条件来选择 \n",
    "\n",
    "# 筛选出符合条件的列\n",
    "df_1[df_1['国内生产总值'] > 15678]\n",
    "df_1.loc[:, (df_1>1).any()]  # 选择任一值大于1的列\n",
    "df_1.loc[:, (df_1>1).all()]  # 选择所有值大于1的列\n",
    "df_1.loc[:, df_1.isnull().any()]  # 选择含 NaN值的列\n",
    "df_1.loc[:, df_1.notnull().all()]  # 选择不含NaN值的列\n",
    "\n",
    "# 选择指定的列，类似于 df[['某列', '某列']]\n",
    "df_1.filter(items=['地区', '年份'])  # 选择指定的列\n",
    "df_1.filter(like='产业', axis=1)  # 选择含有 \"产业\" 的列\n",
    "\n",
    "# 筛选出符合条件的指定的列，并对其进行\"替换修改\"\n",
    "df_1.loc[df_1['地区'] == '北京', '地区'] = 10  \n",
    "'''\n",
    "\n",
    "df_1[df_1['地区'] == '北京'] "
   ]
  },
  {
   "cell_type": "markdown",
   "metadata": {
    "id": "BF540B175C6646B48EAD28F0C7403F4E",
    "jupyter": {},
    "mdEditEnable": false,
    "slideshow": {
     "slide_type": "slide"
    },
    "tags": []
   },
   "source": [
    "### 10、时间序列"
   ]
  },
  {
   "cell_type": "code",
   "execution_count": 180,
   "metadata": {
    "collapsed": false,
    "id": "D05489B2544C4D9489519898894B23D3",
    "jupyter": {},
    "scrolled": false,
    "slideshow": {
     "slide_type": "slide"
    },
    "tags": []
   },
   "outputs": [
    {
     "name": "stdout",
     "output_type": "stream",
     "text": [
      "(39672, 9)\n"
     ]
    },
    {
     "data": {
      "text/html": [
       "<div>\n",
       "<style scoped>\n",
       "    .dataframe tbody tr th:only-of-type {\n",
       "        vertical-align: middle;\n",
       "    }\n",
       "\n",
       "    .dataframe tbody tr th {\n",
       "        vertical-align: top;\n",
       "    }\n",
       "\n",
       "    .dataframe thead th {\n",
       "        text-align: right;\n",
       "    }\n",
       "</style>\n",
       "<table border=\"1\" class=\"dataframe\">\n",
       "  <thead>\n",
       "    <tr style=\"text-align: right;\">\n",
       "      <th></th>\n",
       "      <th>date</th>\n",
       "      <th>home_team</th>\n",
       "      <th>away_team</th>\n",
       "      <th>home_score</th>\n",
       "      <th>away_score</th>\n",
       "      <th>tournament</th>\n",
       "      <th>city</th>\n",
       "      <th>country</th>\n",
       "      <th>neutral</th>\n",
       "    </tr>\n",
       "  </thead>\n",
       "  <tbody>\n",
       "    <tr>\n",
       "      <th>0</th>\n",
       "      <td>1872-11-30</td>\n",
       "      <td>Scotland</td>\n",
       "      <td>England</td>\n",
       "      <td>0</td>\n",
       "      <td>0</td>\n",
       "      <td>Friendly</td>\n",
       "      <td>Glasgow</td>\n",
       "      <td>Scotland</td>\n",
       "      <td>False</td>\n",
       "    </tr>\n",
       "    <tr>\n",
       "      <th>1</th>\n",
       "      <td>1873-03-08</td>\n",
       "      <td>England</td>\n",
       "      <td>Scotland</td>\n",
       "      <td>4</td>\n",
       "      <td>2</td>\n",
       "      <td>Friendly</td>\n",
       "      <td>London</td>\n",
       "      <td>England</td>\n",
       "      <td>False</td>\n",
       "    </tr>\n",
       "    <tr>\n",
       "      <th>2</th>\n",
       "      <td>1874-03-07</td>\n",
       "      <td>Scotland</td>\n",
       "      <td>England</td>\n",
       "      <td>2</td>\n",
       "      <td>1</td>\n",
       "      <td>Friendly</td>\n",
       "      <td>Glasgow</td>\n",
       "      <td>Scotland</td>\n",
       "      <td>False</td>\n",
       "    </tr>\n",
       "    <tr>\n",
       "      <th>3</th>\n",
       "      <td>1875-03-06</td>\n",
       "      <td>England</td>\n",
       "      <td>Scotland</td>\n",
       "      <td>2</td>\n",
       "      <td>2</td>\n",
       "      <td>Friendly</td>\n",
       "      <td>London</td>\n",
       "      <td>England</td>\n",
       "      <td>False</td>\n",
       "    </tr>\n",
       "    <tr>\n",
       "      <th>4</th>\n",
       "      <td>1876-03-04</td>\n",
       "      <td>Scotland</td>\n",
       "      <td>England</td>\n",
       "      <td>3</td>\n",
       "      <td>0</td>\n",
       "      <td>Friendly</td>\n",
       "      <td>Glasgow</td>\n",
       "      <td>Scotland</td>\n",
       "      <td>False</td>\n",
       "    </tr>\n",
       "  </tbody>\n",
       "</table>\n",
       "</div>"
      ],
      "text/plain": [
       "         date home_team away_team  home_score  away_score tournament     city  \\\n",
       "0  1872-11-30  Scotland   England           0           0   Friendly  Glasgow   \n",
       "1  1873-03-08   England  Scotland           4           2   Friendly   London   \n",
       "2  1874-03-07  Scotland   England           2           1   Friendly  Glasgow   \n",
       "3  1875-03-06   England  Scotland           2           2   Friendly   London   \n",
       "4  1876-03-04  Scotland   England           3           0   Friendly  Glasgow   \n",
       "\n",
       "    country  neutral  \n",
       "0  Scotland    False  \n",
       "1   England    False  \n",
       "2  Scotland    False  \n",
       "3   England    False  \n",
       "4  Scotland    False  "
      ]
     },
     "execution_count": 180,
     "metadata": {},
     "output_type": "execute_result"
    },
    {
     "name": "stdout",
     "output_type": "stream",
     "text": [
      "time: 76.1 ms\n"
     ]
    }
   ],
   "source": [
    "import pandas as pd\n",
    "import matplotlib.pyplot as plt\n",
    "%matplotlib inline\n",
    "\n",
    "df_date = pd.read_csv('/home/kesci/input/results6370/results.csv')\n",
    "print(df_date.shape)\n",
    "df_date.head()\n"
   ]
  },
  {
   "cell_type": "markdown",
   "metadata": {
    "id": "1AEC4CBF14474B4B80EF7789F7A75FD6",
    "jupyter": {},
    "mdEditEnable": false,
    "slideshow": {
     "slide_type": "slide"
    },
    "tags": []
   },
   "source": [
    "···\r\n",
    "字段\t含义\r\n",
    "date\t比赛日期\r\n",
    "home_team\t主队的名字\r\n",
    "away_team\t客场球队的名字\r\n",
    "home_score\t全队得分包括加时赛，不包括点球\r\n",
    "away_score\t全队客场得分包括加时赛，不包括点球\r\n",
    "tournament\t比赛的名称\r\n",
    "city\t比赛举办城市/城镇/行政单位的名称\r\n",
    "country\t比赛举办国的名称\r\n",
    "neutral\tTRUE/FALSE列，表示比赛是否在中立地点进行\r\n",
    "···"
   ]
  },
  {
   "cell_type": "markdown",
   "metadata": {
    "collapsed": false,
    "id": "2962A3F2E1714CCABB306946023CE4C1",
    "jupyter": {},
    "mdEditEnable": false,
    "scrolled": false,
    "slideshow": {
     "slide_type": "slide"
    },
    "tags": []
   },
   "source": [
    "#### 10.1 构造时间序列特征\n",
    "pd.to_datetime(data, format, errors)"
   ]
  },
  {
   "cell_type": "code",
   "execution_count": 181,
   "metadata": {
    "collapsed": false,
    "id": "8BDDAF33422F44F383F1FD9F659B3941",
    "jupyter": {},
    "scrolled": false,
    "slideshow": {
     "slide_type": "slide"
    },
    "tags": []
   },
   "outputs": [
    {
     "data": {
      "text/plain": [
       "date          datetime64[ns]\n",
       "home_team             object\n",
       "away_team             object\n",
       "home_score             int64\n",
       "away_score             int64\n",
       "tournament            object\n",
       "city                  object\n",
       "country               object\n",
       "neutral                 bool\n",
       "dtype: object"
      ]
     },
     "execution_count": 181,
     "metadata": {},
     "output_type": "execute_result"
    },
    {
     "name": "stdout",
     "output_type": "stream",
     "text": [
      "time: 15.4 ms\n"
     ]
    }
   ],
   "source": [
    "# 将字符串时间转换为 datetime 时间模式\n",
    "df_date['date'] = pd.to_datetime(df_date['date'])\n",
    "df_date.dtypes"
   ]
  },
  {
   "cell_type": "code",
   "execution_count": 182,
   "metadata": {
    "collapsed": false,
    "id": "C654A0BF318B42A8891273297927CE20",
    "jupyter": {},
    "scrolled": false,
    "slideshow": {
     "slide_type": "slide"
    },
    "tags": []
   },
   "outputs": [
    {
     "name": "stdout",
     "output_type": "stream",
     "text": [
      "Index(['date', 'home_team', 'away_team', 'home_score', 'away_score',\n",
      "       'tournament', 'city', 'country', 'neutral', 'year', 'month', 'day',\n",
      "       'hour', 'minute', 'second', 'week', 'weekday'],\n",
      "      dtype='object')\n"
     ]
    },
    {
     "data": {
      "text/html": [
       "<div>\n",
       "<style scoped>\n",
       "    .dataframe tbody tr th:only-of-type {\n",
       "        vertical-align: middle;\n",
       "    }\n",
       "\n",
       "    .dataframe tbody tr th {\n",
       "        vertical-align: top;\n",
       "    }\n",
       "\n",
       "    .dataframe thead th {\n",
       "        text-align: right;\n",
       "    }\n",
       "</style>\n",
       "<table border=\"1\" class=\"dataframe\">\n",
       "  <thead>\n",
       "    <tr style=\"text-align: right;\">\n",
       "      <th></th>\n",
       "      <th>date</th>\n",
       "      <th>home_team</th>\n",
       "      <th>away_team</th>\n",
       "      <th>home_score</th>\n",
       "      <th>away_score</th>\n",
       "      <th>tournament</th>\n",
       "      <th>city</th>\n",
       "      <th>country</th>\n",
       "      <th>neutral</th>\n",
       "      <th>year</th>\n",
       "      <th>month</th>\n",
       "      <th>day</th>\n",
       "      <th>hour</th>\n",
       "      <th>minute</th>\n",
       "      <th>second</th>\n",
       "      <th>week</th>\n",
       "      <th>weekday</th>\n",
       "    </tr>\n",
       "  </thead>\n",
       "  <tbody>\n",
       "    <tr>\n",
       "      <th>0</th>\n",
       "      <td>1872-11-30</td>\n",
       "      <td>Scotland</td>\n",
       "      <td>England</td>\n",
       "      <td>0</td>\n",
       "      <td>0</td>\n",
       "      <td>Friendly</td>\n",
       "      <td>Glasgow</td>\n",
       "      <td>Scotland</td>\n",
       "      <td>False</td>\n",
       "      <td>1872</td>\n",
       "      <td>11</td>\n",
       "      <td>30</td>\n",
       "      <td>0</td>\n",
       "      <td>0</td>\n",
       "      <td>0</td>\n",
       "      <td>48</td>\n",
       "      <td>6</td>\n",
       "    </tr>\n",
       "    <tr>\n",
       "      <th>1</th>\n",
       "      <td>1873-03-08</td>\n",
       "      <td>England</td>\n",
       "      <td>Scotland</td>\n",
       "      <td>4</td>\n",
       "      <td>2</td>\n",
       "      <td>Friendly</td>\n",
       "      <td>London</td>\n",
       "      <td>England</td>\n",
       "      <td>False</td>\n",
       "      <td>1873</td>\n",
       "      <td>3</td>\n",
       "      <td>8</td>\n",
       "      <td>0</td>\n",
       "      <td>0</td>\n",
       "      <td>0</td>\n",
       "      <td>10</td>\n",
       "      <td>6</td>\n",
       "    </tr>\n",
       "    <tr>\n",
       "      <th>2</th>\n",
       "      <td>1874-03-07</td>\n",
       "      <td>Scotland</td>\n",
       "      <td>England</td>\n",
       "      <td>2</td>\n",
       "      <td>1</td>\n",
       "      <td>Friendly</td>\n",
       "      <td>Glasgow</td>\n",
       "      <td>Scotland</td>\n",
       "      <td>False</td>\n",
       "      <td>1874</td>\n",
       "      <td>3</td>\n",
       "      <td>7</td>\n",
       "      <td>0</td>\n",
       "      <td>0</td>\n",
       "      <td>0</td>\n",
       "      <td>10</td>\n",
       "      <td>6</td>\n",
       "    </tr>\n",
       "    <tr>\n",
       "      <th>3</th>\n",
       "      <td>1875-03-06</td>\n",
       "      <td>England</td>\n",
       "      <td>Scotland</td>\n",
       "      <td>2</td>\n",
       "      <td>2</td>\n",
       "      <td>Friendly</td>\n",
       "      <td>London</td>\n",
       "      <td>England</td>\n",
       "      <td>False</td>\n",
       "      <td>1875</td>\n",
       "      <td>3</td>\n",
       "      <td>6</td>\n",
       "      <td>0</td>\n",
       "      <td>0</td>\n",
       "      <td>0</td>\n",
       "      <td>9</td>\n",
       "      <td>6</td>\n",
       "    </tr>\n",
       "    <tr>\n",
       "      <th>4</th>\n",
       "      <td>1876-03-04</td>\n",
       "      <td>Scotland</td>\n",
       "      <td>England</td>\n",
       "      <td>3</td>\n",
       "      <td>0</td>\n",
       "      <td>Friendly</td>\n",
       "      <td>Glasgow</td>\n",
       "      <td>Scotland</td>\n",
       "      <td>False</td>\n",
       "      <td>1876</td>\n",
       "      <td>3</td>\n",
       "      <td>4</td>\n",
       "      <td>0</td>\n",
       "      <td>0</td>\n",
       "      <td>0</td>\n",
       "      <td>9</td>\n",
       "      <td>6</td>\n",
       "    </tr>\n",
       "  </tbody>\n",
       "</table>\n",
       "</div>"
      ],
      "text/plain": [
       "        date home_team away_team  home_score  away_score tournament     city  \\\n",
       "0 1872-11-30  Scotland   England           0           0   Friendly  Glasgow   \n",
       "1 1873-03-08   England  Scotland           4           2   Friendly   London   \n",
       "2 1874-03-07  Scotland   England           2           1   Friendly  Glasgow   \n",
       "3 1875-03-06   England  Scotland           2           2   Friendly   London   \n",
       "4 1876-03-04  Scotland   England           3           0   Friendly  Glasgow   \n",
       "\n",
       "    country  neutral  year  month  day  hour  minute  second  week  weekday  \n",
       "0  Scotland    False  1872     11   30     0       0       0    48        6  \n",
       "1   England    False  1873      3    8     0       0       0    10        6  \n",
       "2  Scotland    False  1874      3    7     0       0       0    10        6  \n",
       "3   England    False  1875      3    6     0       0       0     9        6  \n",
       "4  Scotland    False  1876      3    4     0       0       0     9        6  "
      ]
     },
     "execution_count": 182,
     "metadata": {},
     "output_type": "execute_result"
    },
    {
     "name": "stdout",
     "output_type": "stream",
     "text": [
      "time: 35.5 ms\n"
     ]
    }
   ],
   "source": [
    "# 开始构造新的时间序列\n",
    "df_date['year'] = df_date['date'].dt.year            # 构造 'year' 年份特征\n",
    "df_date['month'] = df_date['date'].dt.month          # 构造 'month' 月份特征\n",
    "df_date['day'] = df_date['date'].dt.day              # 构造 'day' 日份特征\n",
    "df_date['hour'] = df_date['date'].dt.hour            # 构造 'hour' 小时特征\n",
    "df_date['minute'] = df_date['date'].dt.minute        # 构造 'minute' 分钟特征\n",
    "df_date['second'] = df_date['date'].dt.second        # 构造 'second' 秒钟特征\n",
    "df_date['week'] = df_date['date'].dt.week            # 构造 'week' 周数特征\n",
    "df_date['weekday'] = df_date['date'].dt.weekday + 1  # 构造 'weekday' 星期几特征\n",
    "print(df_date.columns)\n",
    "df_date.head()"
   ]
  },
  {
   "cell_type": "markdown",
   "metadata": {
    "id": "450C0858464942F683D99E4C291B9546",
    "jupyter": {},
    "mdEditEnable": false,
    "slideshow": {
     "slide_type": "slide"
    },
    "tags": []
   },
   "source": [
    "### 11 pandas 可视化\n",
    "#### 11.1 条形图——探索趋势走势\n",
    "DataFrame.plot() "
   ]
  },
  {
   "cell_type": "code",
   "execution_count": 183,
   "metadata": {
    "collapsed": false,
    "id": "31F4A6D0F4344A1B9A32F23B4BC49FE8",
    "jupyter": {},
    "scrolled": false,
    "slideshow": {
     "slide_type": "slide"
    },
    "tags": []
   },
   "outputs": [
    {
     "data": {
      "text/plain": [
       "Text(0.5, 0, 'number')"
      ]
     },
     "execution_count": 183,
     "metadata": {},
     "output_type": "execute_result"
    },
    {
     "data": {
      "text/html": [
       "<img src=\"https://cdn.kesci.com/rt_upload/31F4A6D0F4344A1B9A32F23B4BC49FE8/ps9rwpy745.png\">"
      ],
      "text/plain": [
       "<Figure size 432x288 with 1 Axes>"
      ]
     },
     "metadata": {
      "needs_background": "light"
     },
     "output_type": "display_data"
    },
    {
     "name": "stdout",
     "output_type": "stream",
     "text": [
      "time: 493 ms\n"
     ]
    }
   ],
   "source": [
    "# 探索 1872~2018 以来，每一年的足球比赛数量趋势\n",
    "df_plot = df_date.copy()\n",
    "result1 = df_plot[['year']].plot(color='r')\n",
    "plt.ylabel('year')\n",
    "plt.xlabel('number')"
   ]
  },
  {
   "cell_type": "markdown",
   "metadata": {
    "id": "2211CDC74A1E43448FAB363FEB369825",
    "jupyter": {},
    "mdEditEnable": false,
    "slideshow": {
     "slide_type": "slide"
    },
    "tags": []
   },
   "source": [
    "从上面的曲线变化情况来看，国际足球比赛是逐年不断增长的态势"
   ]
  },
  {
   "cell_type": "markdown",
   "metadata": {
    "id": "6E3C99926F7448DAA8BD716A1AEF35B9",
    "jupyter": {},
    "mdEditEnable": false,
    "slideshow": {
     "slide_type": "slide"
    },
    "tags": []
   },
   "source": [
    "#### 11.2 直方图——探索集中分布情况\n",
    "DataFrame.hist(bins=50, figsize=(10, 5))"
   ]
  },
  {
   "cell_type": "code",
   "execution_count": 184,
   "metadata": {
    "collapsed": false,
    "id": "B2CDCBC6CB42435585D7A28C5469433F",
    "jupyter": {},
    "scrolled": false,
    "slideshow": {
     "slide_type": "slide"
    },
    "tags": []
   },
   "outputs": [
    {
     "data": {
      "text/html": [
       "<img src=\"https://cdn.kesci.com/rt_upload/B2CDCBC6CB42435585D7A28C5469433F/ps9rwph4i4.png\">"
      ],
      "text/plain": [
       "<Figure size 576x360 with 1 Axes>"
      ]
     },
     "metadata": {
      "needs_background": "light"
     },
     "output_type": "display_data"
    },
    {
     "name": "stdout",
     "output_type": "stream",
     "text": [
      "time: 316 ms\n"
     ]
    }
   ],
   "source": [
    "# 足球比赛一般集中在几月份进行呢？\n",
    "result1 = df_plot[['month']].hist(bins=50, figsize=(8, 5))"
   ]
  },
  {
   "cell_type": "markdown",
   "metadata": {
    "id": "DAA912FFB9A248DAB41F6CEB0D6F6294",
    "jupyter": {},
    "mdEditEnable": false,
    "slideshow": {
     "slide_type": "slide"
    },
    "tags": []
   },
   "source": [
    "从上面可以看出：  \n",
    "举行比赛最多的两个月份是：6月、10月  \n",
    "举行比赛最少的两个月份是：1月、12月  "
   ]
  },
  {
   "cell_type": "markdown",
   "metadata": {
    "id": "52FE103A1D2C4D1F8603A395B0BDCC99",
    "jupyter": {},
    "mdEditEnable": false,
    "slideshow": {
     "slide_type": "slide"
    },
    "tags": []
   },
   "source": [
    "#### 11.3 箱形图——探索集中分布以及异常值情况"
   ]
  },
  {
   "cell_type": "code",
   "execution_count": 185,
   "metadata": {
    "collapsed": false,
    "id": "AC458AC6F59E4B6EB95F31B2DF1B0071",
    "jupyter": {},
    "scrolled": false,
    "slideshow": {
     "slide_type": "slide"
    },
    "tags": []
   },
   "outputs": [
    {
     "data": {
      "text/plain": [
       "<matplotlib.axes._subplots.AxesSubplot at 0x7fc88c1139e8>"
      ]
     },
     "execution_count": 185,
     "metadata": {},
     "output_type": "execute_result"
    },
    {
     "data": {
      "text/html": [
       "<img src=\"https://cdn.kesci.com/rt_upload/AC458AC6F59E4B6EB95F31B2DF1B0071/ps9rwppdi4.png\">"
      ],
      "text/plain": [
       "<Figure size 432x288 with 1 Axes>"
      ]
     },
     "metadata": {
      "needs_background": "light"
     },
     "output_type": "display_data"
    },
    {
     "name": "stdout",
     "output_type": "stream",
     "text": [
      "time: 154 ms\n"
     ]
    }
   ],
   "source": [
    "df_plot[['day']].boxplot()"
   ]
  },
  {
   "cell_type": "markdown",
   "metadata": {
    "id": "82ED636CAE714D6FBC9C70543EC1A868",
    "jupyter": {},
    "mdEditEnable": false,
    "slideshow": {
     "slide_type": "slide"
    },
    "tags": []
   },
   "source": [
    "从上面的箱形图中可以看出：  \n",
    "举行比赛日一般集中在 8~23 日之间"
   ]
  },
  {
   "cell_type": "code",
   "execution_count": null,
   "metadata": {
    "collapsed": false,
    "id": "F2FE0A313190413C81686C21F643D609",
    "jupyter": {},
    "scrolled": false,
    "slideshow": {
     "slide_type": "slide"
    },
    "tags": []
   },
   "outputs": [],
   "source": []
  }
 ],
 "metadata": {
  "kernelspec": {
   "display_name": "Python 3",
   "language": "python",
   "name": "python3"
  },
  "language_info": {
   "codemirror_mode": {
    "name": "ipython",
    "version": 3
   },
   "file_extension": ".py",
   "mimetype": "text/x-python",
   "name": "python",
   "nbconvert_exporter": "python",
   "pygments_lexer": "ipython3",
   "version": "3.6.4"
  }
 },
 "nbformat": 4,
 "nbformat_minor": 0
}

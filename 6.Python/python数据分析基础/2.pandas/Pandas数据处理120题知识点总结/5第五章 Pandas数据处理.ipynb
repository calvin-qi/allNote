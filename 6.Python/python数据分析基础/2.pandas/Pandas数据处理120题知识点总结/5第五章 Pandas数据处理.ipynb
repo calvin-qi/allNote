{
 "cells": [
  {
   "cell_type": "markdown",
   "metadata": {
    "id": "9844A67958EC418694A72DF2E90CC4CE",
    "jupyter": {},
    "slideshow": {
     "slide_type": "slide"
    },
    "tags": []
   },
   "source": [
    "# Pandas数据处理120题知识点总结\n",
    "## 第五章 Pandas数据处理"
   ]
  },
  {
   "cell_type": "markdown",
   "metadata": {
    "id": "B7C3C23FA48D424689C9892AC08F441C",
    "jupyter": {},
    "mdEditEnable": false,
    "slideshow": {
     "slide_type": "slide"
    },
    "tags": []
   },
   "source": [
    "---\n",
    "  \n",
    "　ID：wlong\n",
    "　数据分析爱好者、目前小白一枚\n",
    "　邮箱：wlong826@163.com\n",
    "　CSDN：**[【数分小白龙】](https://blog.csdn.net/qq_38230663)**\n",
    "　和鲸社区：**[【wlong】](https://www.heywhale.com/home/user/profile/5f0a61d72be199002c073935)**\n",
    "　如果有不完善的地方，欢迎小伙伴评论区留言！\n",
    "　最近博客、和鲸每周都会有所更新，欢迎大家**关注点赞分享**哦！\n",
    " \n",
    "---\n",
    "\n",
    "　本文的CSDN链接：[【五、Pandas数据处理】](https://blog.csdn.net/qq_38230663/article/details/116398526?spm=1001.2014.3001.5501)\n",
    " \n",
    " 　如果有想学习爬虫的小伙伴，可以看这里：[【零基础入门Python爬虫--豆瓣、58同城、安居客等】](https://www.heywhale.com/mw/project/60be1fa8acdcb3001707b133)\n",
    "\t\n",
    "　关于总结更详细的配套习题案例，看这👉：[【和鲸训练营第一期——Pandas基础】](https://www.heywhale.com/home/competition/60c086d8565cca001731537f)"
   ]
  },
  {
   "cell_type": "markdown",
   "metadata": {
    "id": "21F045A9903742A884C8A253B3FFD1F7",
    "jupyter": {},
    "mdEditEnable": false,
    "slideshow": {
     "slide_type": "slide"
    },
    "tags": []
   },
   "source": [
    "- 注：从第四章开始，就不在放数据了，重点以知识点总结为主，关于总结的配套习题，可以看这里哦！[【和鲸训练营第一期——Pandas基础】](https://www.heywhale.com/home/competition/60c086d8565cca001731537f)"
   ]
  },
  {
   "cell_type": "markdown",
   "metadata": {
    "id": "A7D2C30B743046D2876C6CF2AEE155A1",
    "jupyter": {},
    "slideshow": {
     "slide_type": "slide"
    },
    "tags": []
   },
   "source": [
    "## 1. 缺失值判断/填充/设置/删除"
   ]
  },
  {
   "cell_type": "markdown",
   "metadata": {
    "id": "584A543E93B04B0F92A9BE1A538B4299",
    "jupyter": {},
    "slideshow": {
     "slide_type": "slide"
    },
    "tags": []
   },
   "source": [
    "### (1) 判断缺失值"
   ]
  },
  {
   "cell_type": "code",
   "execution_count": null,
   "metadata": {
    "id": "E3A99BD9397447EF8AE4A1C14B071C27",
    "jupyter": {},
    "slideshow": {
     "slide_type": "slide"
    },
    "tags": []
   },
   "outputs": [],
   "source": [
    "# 检查数据中是否含有任何缺失值：\n",
    "df.isnull().values.any()\n",
    " \n",
    "# 查看每列数据缺失值：\n",
    "df.isnull().sum()\n",
    " \n",
    "# 查看每列非缺失值数：\n",
    "df.notnull().sum()\n",
    "df.shape[0] - df.isnull().sum()"
   ]
  },
  {
   "cell_type": "markdown",
   "metadata": {
    "id": "0D51942C4186476F898B0240105796A3",
    "jupyter": {},
    "slideshow": {
     "slide_type": "slide"
    },
    "tags": []
   },
   "source": [
    "### (2) 缺失值填充"
   ]
  },
  {
   "cell_type": "code",
   "execution_count": null,
   "metadata": {
    "id": "6FC80535205146F4A155420FD1BA8FBA",
    "jupyter": {},
    "slideshow": {
     "slide_type": "slide"
    },
    "tags": []
   },
   "outputs": [],
   "source": [
    "# 用上下平均值填充：\n",
    "df['xxx'] = df['xxx'].fillna(df['xxx'].interpolate())\n",
    "# df  (注意赋值，如果不赋值，原始序列未改变)\n",
    " \n",
    "# 将缺失值全部替换为1.0：\n",
    "df.fillna(value = 1.0, inplace = True)"
   ]
  },
  {
   "cell_type": "markdown",
   "metadata": {
    "id": "5957AE6CDD5A414B819F76F38AC4F27C",
    "jupyter": {},
    "slideshow": {
     "slide_type": "slide"
    },
    "tags": []
   },
   "source": [
    "### (3) 更改缺失值"
   ]
  },
  {
   "cell_type": "code",
   "execution_count": null,
   "metadata": {
    "id": "0EB615D3302541AD8A78275626605B40",
    "jupyter": {},
    "slideshow": {
     "slide_type": "slide"
    },
    "tags": []
   },
   "outputs": [],
   "source": [
    "# 将某列第10行到19行设置为缺失值：\n",
    "df.loc[9:18,'xxx'] = np.nan\n",
    " \n",
    "# 将第三行设置为缺失值：\n",
    "df.loc[:2] = np.nan"
   ]
  },
  {
   "cell_type": "markdown",
   "metadata": {
    "id": "0C5503A39B5B4546879770F56ED3C9D8",
    "jupyter": {},
    "slideshow": {
     "slide_type": "slide"
    },
    "tags": []
   },
   "source": [
    "### (4) 删除缺失值"
   ]
  },
  {
   "cell_type": "code",
   "execution_count": null,
   "metadata": {
    "id": "4BF52692BE2340BD83FB76B8B1871E99",
    "jupyter": {},
    "slideshow": {
     "slide_type": "slide"
    },
    "tags": []
   },
   "outputs": [],
   "source": [
    "# 删除所有存在缺失值的行：\n",
    "data.dropna(axis=0, how='any', inplace=True)\n",
    " \n",
    "# 删除所有有缺失值的行\n",
    "df.dropna()  -- 默认axis=0\n",
    " \n",
    "# 删除所有有缺失值的列\n",
    "df.dropna(axis='columns')\n",
    "df.dropna(axis=1)\n",
    " \n",
    "# 删除所有值缺失的行\n",
    "df.dropna(how='all')\n",
    " \n",
    "# 删除至少有两个非缺失值的行\n",
    "df.dropna(thresh=2)\n",
    " \n",
    "# 指定判断缺失值的列范围\n",
    "df.dropna(subset=['name', 'born'])\n",
    " \n",
    "# 使删除和的结果生效\n",
    "df.dropna(inplace=True)\n",
    " \n",
    "#指定列的缺失值删除\n",
    "df.toy.dropna()"
   ]
  },
  {
   "cell_type": "markdown",
   "metadata": {
    "id": "EB01139C40BA4A4280A8D2C9B14FB202",
    "jupyter": {},
    "slideshow": {
     "slide_type": "slide"
    },
    "tags": []
   },
   "source": [
    "## 2. 数据去重"
   ]
  },
  {
   "cell_type": "code",
   "execution_count": null,
   "metadata": {
    "id": "4662C7C9F10146A2832FA06A070F7F5F",
    "jupyter": {},
    "slideshow": {
     "slide_type": "slide"
    },
    "tags": []
   },
   "outputs": [],
   "source": [
    "# drop_duplicates()\n",
    "df.drop_duplicates(['xxx'])"
   ]
  },
  {
   "cell_type": "markdown",
   "metadata": {
    "id": "B8F665022EBB486289E5E396C5032FD3",
    "jupyter": {},
    "slideshow": {
     "slide_type": "slide"
    },
    "tags": []
   },
   "source": [
    "## 3. 添加/删除数据"
   ]
  },
  {
   "cell_type": "markdown",
   "metadata": {
    "id": "B777B20D2794490BBE1D528E3745AD74",
    "jupyter": {},
    "slideshow": {
     "slide_type": "slide"
    },
    "tags": []
   },
   "source": [
    "### (1) 删除最后一行数据"
   ]
  },
  {
   "cell_type": "code",
   "execution_count": null,
   "metadata": {
    "id": "C80A058B805341E2894A1D4B9992B7F6",
    "jupyter": {},
    "slideshow": {
     "slide_type": "slide"
    },
    "tags": []
   },
   "outputs": [],
   "source": [
    "df.drop(index=[len(df)-1], inplace=True)"
   ]
  },
  {
   "cell_type": "markdown",
   "metadata": {
    "id": "64260A4A0F6443FC96A8A97409552CFE",
    "jupyter": {},
    "slideshow": {
     "slide_type": "slide"
    },
    "tags": []
   },
   "source": [
    "### (2) 添加一行数据：['Perl', 6.6]"
   ]
  },
  {
   "cell_type": "code",
   "execution_count": null,
   "metadata": {
    "id": "CE4F6A03FF594E008097CDFBC174C9CC",
    "jupyter": {},
    "slideshow": {
     "slide_type": "slide"
    },
    "tags": []
   },
   "outputs": [],
   "source": [
    "# 方法一：字典\n",
    "df2 = pd.DataFrame({\n",
    "    'grammer':['Perl'],\n",
    "    'popularity':[6.6]\n",
    "})\n",
    "df = df.append(df2, ignore_index=True)\n",
    "df\n",
    " \n",
    "# 方法二：loc\n",
    "df.loc[len(df)] = ['Perl',6.6]"
   ]
  },
  {
   "cell_type": "markdown",
   "metadata": {
    "id": "4E93536CE1F9415D829998FBE6E17F1B",
    "jupyter": {},
    "slideshow": {
     "slide_type": "slide"
    },
    "tags": []
   },
   "source": [
    "## 4. 数据排序"
   ]
  },
  {
   "cell_type": "code",
   "execution_count": null,
   "metadata": {
    "id": "CC677F78E4EB41C38DC1996C06BE29C5",
    "jupyter": {},
    "slideshow": {
     "slide_type": "slide"
    },
    "tags": []
   },
   "outputs": [],
   "source": [
    "# 按照某一列值大小进行排序\n",
    "df.sort_values(by=['xxx'], ascending=True)  #注：ascending：True升序，False降序"
   ]
  },
  {
   "cell_type": "markdown",
   "metadata": {
    "id": "59F151807F9048B583383BBC1FD50AFF",
    "jupyter": {},
    "slideshow": {
     "slide_type": "slide"
    },
    "tags": []
   },
   "source": [
    "## 5. 数据类型转换"
   ]
  },
  {
   "cell_type": "markdown",
   "metadata": {
    "id": "8EF60DBAC4DA495B89DF1E3F440F95D5",
    "jupyter": {},
    "slideshow": {
     "slide_type": "slide"
    },
    "tags": []
   },
   "source": [
    "### (1) 设置小数位数"
   ]
  },
  {
   "cell_type": "code",
   "execution_count": null,
   "metadata": {
    "id": "320979890C4D4C3F85E30AD8687F497F",
    "jupyter": {},
    "slideshow": {
     "slide_type": "slide"
    },
    "tags": []
   },
   "outputs": [],
   "source": [
    "# 方法一：round()函数\n",
    "df['xxx'].round(2)\n",
    " \n",
    "# 方法二：map + lambda\n",
    "df['xxx'] = df['xxx'].map(lambda x : ('%.2f') % x)\n",
    " \n",
    "# 方法三：map + lambda + format\n",
    "df['xxx'] = df['xxx'].map(lambda x : format(x, '.2f'))"
   ]
  },
  {
   "cell_type": "markdown",
   "metadata": {
    "id": "E40AF809CEDA466E8F6098874242F6BE",
    "jupyter": {},
    "slideshow": {
     "slide_type": "slide"
    },
    "tags": []
   },
   "source": [
    "### (2) 设置百分数"
   ]
  },
  {
   "cell_type": "code",
   "execution_count": null,
   "metadata": {
    "id": "7736CA33CB54494A84F2E9F9BEE4207A",
    "jupyter": {},
    "slideshow": {
     "slide_type": "slide"
    },
    "tags": []
   },
   "outputs": [],
   "source": [
    "# 方法一：自定义函数+格式化处理\n",
    "df['xxx'] = df['xxx'].map(lambda x : format(x, '.2%'))\n",
    " \n",
    "# 方法二：style + 格式化处理\n",
    "df.style.format({'xxx' : '{0:.2%}'.format})"
   ]
  },
  {
   "cell_type": "markdown",
   "metadata": {
    "id": "8D5AF90EE28B41D8814AE2419595E477",
    "jupyter": {},
    "mdEditEnable": false,
    "slideshow": {
     "slide_type": "slide"
    },
    "tags": []
   },
   "source": [
    "### (3) 某列数据转换为浮点类型\n",
    "-  例如：23￥, 30%, 40$；"
   ]
  },
  {
   "cell_type": "code",
   "execution_count": null,
   "metadata": {
    "id": "F7F1CC5A3FC9447B81625E30DA14AFA5",
    "jupyter": {},
    "slideshow": {
     "slide_type": "slide"
    },
    "tags": []
   },
   "outputs": [],
   "source": [
    "# 方法一：\n",
    "df['xxx'].str.strip('￥').astype('float') # 如果该列存人民币符号\n",
    " \n",
    "#方法二：\n",
    "df['xxx'].apply(lambda x : float(x[:-1])"
   ]
  },
  {
   "cell_type": "markdown",
   "metadata": {
    "id": "39648C05E2DA49B58050DF8AEE3540E9",
    "jupyter": {},
    "slideshow": {
     "slide_type": "slide"
    },
    "tags": []
   },
   "source": [
    "### (4) Series类型转list"
   ]
  },
  {
   "cell_type": "code",
   "execution_count": null,
   "metadata": {
    "id": "B242680B0736491D9694806B2DF0B885",
    "jupyter": {},
    "slideshow": {
     "slide_type": "slide"
    },
    "tags": []
   },
   "outputs": [],
   "source": [
    "df['xxx'].tolist()  #或者to_list()"
   ]
  },
  {
   "cell_type": "markdown",
   "metadata": {
    "id": "B182C0E8D267495EB1BF7F6BC239DD65",
    "jupyter": {},
    "slideshow": {
     "slide_type": "slide"
    },
    "tags": []
   },
   "source": [
    "### (5) 将时间戳类型数据转换为datetime类型"
   ]
  },
  {
   "cell_type": "markdown",
   "metadata": {
    "id": "1351CB0F2497484C80F9230EBE572C6A",
    "jupyter": {},
    "mdEditEnable": false,
    "slideshow": {
     "slide_type": "slide"
    },
    "tags": []
   },
   "source": [
    "- 注：\n",
    "\t- 采用Timestamp.to_pydatetime()函数将给定的时间戳转换为本地python datetime对象; \n",
    "\t- strftime()用来格式化datetime 对象；\n",
    "- 参考资料：\n",
    "    - [Python Pandas Timestamp.to_pydatetime用法及代码示例](https://vimsky.com/examples/usage/python-pandas-timestamp-to_pydatetime.html)\n",
    "    - [Python datetime 格式化字符串：strftime()](https://blog.csdn.net/shomy_liu/article/details/44141483)"
   ]
  },
  {
   "cell_type": "code",
   "execution_count": null,
   "metadata": {
    "id": "3BD4AFB6538349C48B8022BBBBEF8877",
    "jupyter": {},
    "slideshow": {
     "slide_type": "slide"
    },
    "tags": []
   },
   "outputs": [],
   "source": [
    "# 将createTime（第一列）列时间转换为月-日:\n",
    "for i in range(len(df)):\n",
    "    df.iloc[i,0] = df.iloc[i,0].to_pydatetime().strftime(\"%m-%d\")\n",
    "df.head()"
   ]
  },
  {
   "cell_type": "markdown",
   "metadata": {
    "id": "6FD81FF6B238436A8ABA1FAC3DE4B0C9",
    "jupyter": {},
    "slideshow": {
     "slide_type": "slide"
    },
    "tags": []
   },
   "source": [
    "### (6) 将字符串类型转换为datetime64"
   ]
  },
  {
   "cell_type": "code",
   "execution_count": null,
   "metadata": {
    "id": "75D9A6F829AB464D8B0EA71DEA3BCD5B",
    "jupyter": {},
    "slideshow": {
     "slide_type": "slide"
    },
    "tags": []
   },
   "outputs": [],
   "source": [
    "# 方法一：\n",
    "df['xxx'].astype('datetime64[ns]')\n",
    " \n",
    "# 方法二：\n",
    "df.Year = pd.to_datetime(df.Year,format='%Y')"
   ]
  },
  {
   "cell_type": "markdown",
   "metadata": {
    "id": "568CFCCF95784043AE1B88ED2DCC7AF8",
    "jupyter": {},
    "slideshow": {
     "slide_type": "slide"
    },
    "tags": []
   },
   "source": [
    "## 6. 数据拆分"
   ]
  },
  {
   "cell_type": "markdown",
   "metadata": {
    "id": "977DE9A75B454DCF9700E73A171095D9",
    "jupyter": {},
    "slideshow": {
     "slide_type": "slide"
    },
    "tags": []
   },
   "source": [
    "### (1) 某列按照'_'划分"
   ]
  },
  {
   "cell_type": "code",
   "execution_count": null,
   "metadata": {
    "id": "FBB415C6794E4BC588A4E83C2116282E",
    "jupyter": {},
    "slideshow": {
     "slide_type": "slide"
    },
    "tags": []
   },
   "outputs": [],
   "source": [
    "df['xxx'].str.split('_')"
   ]
  },
  {
   "cell_type": "markdown",
   "metadata": {
    "id": "31B9C3BCE4F2481E800CF03E59E03E7A",
    "jupyter": {},
    "slideshow": {
     "slide_type": "slide"
    },
    "tags": []
   },
   "source": [
    "### (2) strip() ：删除开头和结尾的任何字符，默认空格"
   ]
  },
  {
   "cell_type": "code",
   "execution_count": null,
   "metadata": {
    "id": "0B418F696C774D10B3D3761074183516",
    "jupyter": {},
    "slideshow": {
     "slide_type": "slide"
    },
    "tags": []
   },
   "outputs": [],
   "source": [
    "df['xxx'].str.strip('xxx')"
   ]
  },
  {
   "cell_type": "markdown",
   "metadata": {
    "id": "4FE4B494239B4ECB885C73E2B999E205",
    "jupyter": {},
    "slideshow": {
     "slide_type": "slide"
    },
    "tags": []
   },
   "source": [
    "## 7. 将某列数据开根号"
   ]
  },
  {
   "cell_type": "code",
   "execution_count": null,
   "metadata": {
    "id": "7D5E0C42FA1F4AA88BE1F4B82E3C033F",
    "jupyter": {},
    "slideshow": {
     "slide_type": "slide"
    },
    "tags": []
   },
   "outputs": [],
   "source": [
    "# 方法一：apply() + np.sqrt()\n",
    "df[['xxx']].apply(np.sqrt)\n",
    " \n",
    "# 方法二：map + math.sqrt()\n",
    "pd.DataFrame(df['xxx'].map(lambda x : math.sqrt(x)))"
   ]
  },
  {
   "cell_type": "markdown",
   "metadata": {
    "id": "2AE3B38641CC4C5FB6917C62E794934E",
    "jupyter": {},
    "slideshow": {
     "slide_type": "slide"
    },
    "tags": []
   },
   "source": [
    "## 8. 计算某列最大最小值之差（极差）"
   ]
  },
  {
   "cell_type": "code",
   "execution_count": null,
   "metadata": {
    "id": "1FC7BA171407493086BC731AD4CA482D",
    "jupyter": {},
    "slideshow": {
     "slide_type": "slide"
    },
    "tags": []
   },
   "outputs": [],
   "source": [
    "# 方法一：max()，min()\n",
    "df['salary'].max() - df['salary'].min()\n",
    " \n",
    "# 方法二：apply + lambda\n",
    "df[['salary']].apply(lambda x : x.max() - x.min())\n",
    " \n",
    "# 方法三：numpy.ptp()函数\n",
    "np.ptp(df['salary'])"
   ]
  },
  {
   "cell_type": "markdown",
   "metadata": {
    "id": "5E00D398FBBA41D0BF9B66A61DEE74E6",
    "jupyter": {},
    "slideshow": {
     "slide_type": "slide"
    },
    "tags": []
   },
   "source": [
    "## 9. 将某列数据(比如薪资18k-23k)转换为最大值与最小值的平均值"
   ]
  },
  {
   "cell_type": "code",
   "execution_count": null,
   "metadata": {
    "id": "F2C8B29B696C4267987065F9D82CFBCB",
    "jupyter": {},
    "slideshow": {
     "slide_type": "slide"
    },
    "tags": []
   },
   "outputs": [],
   "source": [
    "# apply + 自定义函数\n",
    "def func(df):\n",
    "    min_max = df['salary'].split('-')\n",
    "    smin = int(min_max[0].strip('k'))\n",
    "    smax = int(min_max[1].strip('k'))\n",
    "    df['salary'] = int((smax + smin) / 2 * 1000)\n",
    "    return df\n",
    " \n",
    "df = df.apply(func, axis=1)\n",
    "df"
   ]
  },
  {
   "cell_type": "markdown",
   "metadata": {
    "id": "628D692A033C4FCE864920E989510102",
    "jupyter": {},
    "mdEditEnable": false,
    "slideshow": {
     "slide_type": "slide"
    },
    "tags": []
   },
   "source": [
    "## 10. 新增一列根据某列数值大小划分为三个层次：Pandas.cut()\n",
    "- pandas.cut用来把一组数据分割成离散的区间"
   ]
  },
  {
   "cell_type": "code",
   "execution_count": null,
   "metadata": {
    "id": "7299CBCE477C46D384A88A9828640DFB",
    "jupyter": {},
    "slideshow": {
     "slide_type": "slide"
    },
    "tags": []
   },
   "outputs": [],
   "source": [
    "bins = [0, 5000, 20000, 50000]\n",
    "group_names = ['低', '中', '高']\n",
    "df['categories'] = pd.cut(df['salary'], bins, labels=group_names)\n",
    "df"
   ]
  },
  {
   "cell_type": "markdown",
   "metadata": {
    "id": "E69AE046FA0E4B528EFCDCEC4A365685",
    "jupyter": {},
    "slideshow": {
     "slide_type": "slide"
    },
    "tags": []
   },
   "source": [
    "## 11. 数据合并：concat，merge，append，join"
   ]
  },
  {
   "cell_type": "markdown",
   "metadata": {
    "id": "3012EC806F89493D9009069C0ECBD270",
    "jupyter": {},
    "slideshow": {
     "slide_type": "slide"
    },
    "tags": []
   },
   "source": [
    "### (1) DataFrame.concat()\n",
    "- 只是单纯的把两个表拼接在一起，参数axis是关键，它用于指定合并的轴是行还是列，axis默认是0。"
   ]
  },
  {
   "cell_type": "code",
   "execution_count": null,
   "metadata": {
    "id": "84357B1F199640E58FC962D30B9452A3",
    "jupyter": {},
    "slideshow": {
     "slide_type": "slide"
    },
    "tags": []
   },
   "outputs": [],
   "source": [
    "# 将第一行与最后一行拼接：\n",
    "pd.concat([df[:1], df[-2:-1]])\n",
    " \n",
    "# 将两个dataframe按列合并：\n",
    "pd.concat([df,df1], axis=1) # 按行合并，则axis=0"
   ]
  },
  {
   "cell_type": "markdown",
   "metadata": {
    "id": "D727D65D054B45778347DBE9F0297C31",
    "jupyter": {},
    "slideshow": {
     "slide_type": "slide"
    },
    "tags": []
   },
   "source": [
    "### (2) merge()\n",
    "- 针对同一个主键存在两张不同字段的表，根据主键整合到一张表里面。"
   ]
  },
  {
   "cell_type": "code",
   "execution_count": null,
   "metadata": {
    "id": "5CC7121CB07F47398787E3C852F60B93",
    "jupyter": {},
    "slideshow": {
     "slide_type": "slide"
    },
    "tags": []
   },
   "outputs": [],
   "source": [
    "# 按照单列合并数据：\n",
    "pd.merge(df1, df2, on='key1')\n",
    " \n",
    "# 按照多列合并数据：多列用列表\n",
    "pd.merge(df1, df2, how='left', on=['key1', 'key2'])\n",
    " \n",
    "#内外连接合并：\n",
    "pd.merge(df1, df2, how='outer', on='subject_id') # inner内连接，outer外连接"
   ]
  },
  {
   "cell_type": "markdown",
   "metadata": {
    "id": "4498AB2EF3974425885C5788BFA04801",
    "jupyter": {},
    "slideshow": {
     "slide_type": "slide"
    },
    "tags": []
   },
   "source": [
    "### (3) Series.append()/DataFrame.append()\n",
    "- 纵向追加Series/DataFrame"
   ]
  },
  {
   "cell_type": "code",
   "execution_count": null,
   "metadata": {
    "id": "6975AEE54F364A1FAEB39F33662310FE",
    "jupyter": {},
    "slideshow": {
     "slide_type": "slide"
    },
    "tags": []
   },
   "outputs": [],
   "source": [
    "# 将第8行数据添加至末尾：\n",
    "df.append(df.iloc[7])"
   ]
  },
  {
   "cell_type": "markdown",
   "metadata": {
    "id": "DEF039D14691418C87CB77D8D88FCC00",
    "jupyter": {},
    "slideshow": {
     "slide_type": "slide"
    },
    "tags": []
   },
   "source": [
    "### (4) DatadFrame.join\n",
    "- 主要用于索引上的合并，其参数的意义与merge方法中的参数意义基本一样。该方法最为简单，主要用于索引上的合并。"
   ]
  },
  {
   "cell_type": "markdown",
   "metadata": {
    "id": "AA71781A87B94FCD80132E323943E52B",
    "jupyter": {},
    "slideshow": {
     "slide_type": "slide"
    },
    "tags": []
   },
   "source": [
    "## 12. 数据透视表：Pandas.picot_table()"
   ]
  },
  {
   "cell_type": "markdown",
   "metadata": {
    "id": "723B4A7B12564F858BCB3DC9F4648CBD",
    "jupyter": {},
    "slideshow": {
     "slide_type": "slide"
    },
    "tags": []
   },
   "source": [
    "- pivot_table(data, values=None, index=None, columns=None,aggfunc='mean', fill_value=None, margins=False, dropna=True, margins_name='All')\n",
    "    - 最重要的四个参数：index、values、columns、aggfunc\n",
    "- 相关资料：\n",
    "    - [一文看懂pandas的透视表pivot_table](https://www.cnblogs.com/Yanjy-OnlyOne/p/11195621.html)"
   ]
  },
  {
   "cell_type": "code",
   "execution_count": null,
   "metadata": {
    "id": "3DABAB7E8BC744118A50CF314919BD60",
    "jupyter": {},
    "slideshow": {
     "slide_type": "slide"
    },
    "tags": []
   },
   "outputs": [],
   "source": [
    "# 以positionId为索引，生成两列（salary，score）的数据透视表:\n",
    "df_picotTable = pd.pivot_table(df, values=['salary', 'score'], index='positionId')"
   ]
  },
  {
   "cell_type": "markdown",
   "metadata": {
    "id": "4494D6A48DF6489684E71049BD029065",
    "jupyter": {},
    "slideshow": {
     "slide_type": "slide"
    },
    "tags": []
   },
   "source": [
    "## 13. 分组抽样：Pandas.reshape()"
   ]
  },
  {
   "cell_type": "code",
   "execution_count": null,
   "metadata": {
    "id": "12683F0A7EDD40938D800EE201AC0EEC",
    "jupyter": {},
    "slideshow": {
     "slide_type": "slide"
    },
    "tags": []
   },
   "outputs": [],
   "source": [
    "# Year：按照每10年分组求和：\n",
    "df.reshape('10AS').sum()\n",
    " \n",
    "# day：找到每月最后一日\n",
    "df.reshape('BM').mean()"
   ]
  },
  {
   "cell_type": "markdown",
   "metadata": {
    "id": "2FB13FDF765C4BD09B48F8D5A447B61A",
    "jupyter": {},
    "slideshow": {
     "slide_type": "slide"
    },
    "tags": []
   },
   "source": [
    "## 14. 日期索引最早与最晚日期相差多少天？"
   ]
  },
  {
   "cell_type": "code",
   "execution_count": null,
   "metadata": {
    "id": "CD699FF250364AB880173AB12D602019",
    "jupyter": {},
    "slideshow": {
     "slide_type": "slide"
    },
    "tags": []
   },
   "outputs": [],
   "source": [
    "(df.index.max() - df.index.min()).days"
   ]
  },
  {
   "cell_type": "markdown",
   "metadata": {
    "id": "F70185CC0A734E2191DF9CDFDAACD7B2",
    "jupyter": {},
    "slideshow": {
     "slide_type": "slide"
    },
    "tags": []
   },
   "source": [
    "----"
   ]
  },
  {
   "cell_type": "markdown",
   "metadata": {
    "id": "0D0F8F3E703740EB80BD63626CA46090",
    "jupyter": {},
    "mdEditEnable": false,
    "slideshow": {
     "slide_type": "slide"
    },
    "tags": []
   },
   "source": [
    "# 最后附上思维导图：\n",
    "\n",
    "![Image Name](https://cdn.kesci.com/upload/image/quhe5ppecu.png)\n"
   ]
  },
  {
   "cell_type": "code",
   "execution_count": null,
   "metadata": {
    "id": "EF265F918CD44AE1807131DFF8284CA7",
    "jupyter": {},
    "slideshow": {
     "slide_type": "slide"
    },
    "tags": []
   },
   "outputs": [],
   "source": []
  }
 ],
 "metadata": {
  "kernelspec": {
   "display_name": "Python 3",
   "language": "python",
   "name": "python3"
  },
  "language_info": {
   "codemirror_mode": {
    "name": "ipython",
    "version": 3
   },
   "file_extension": ".py",
   "mimetype": "text/x-python",
   "name": "python",
   "nbconvert_exporter": "python",
   "pygments_lexer": "ipython3",
   "version": "3.5.2"
  }
 },
 "nbformat": 4,
 "nbformat_minor": 4
}

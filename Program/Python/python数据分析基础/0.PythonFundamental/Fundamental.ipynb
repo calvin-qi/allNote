{
 "cells": [
  {
   "cell_type": "markdown",
   "metadata": {},
   "source": [
    "# python基础语法\n",
    "# python语法\n",
    "\n",
    "python用缩进来表示代码块，一定注意层级==缩进==关系，必须在同一代码块中使用==相同数量的空格==\n",
    "在 Python 中，变量是在为其赋值时创建的："
   ]
  },
  {
   "cell_type": "code",
   "execution_count": 3,
   "metadata": {},
   "outputs": [],
   "source": [
    "x = 5\n",
    "y = \"Hello, World!\""
   ]
  },
  {
   "cell_type": "markdown",
   "metadata": {},
   "source": [
    "--------------------------"
   ]
  },
  {
   "cell_type": "markdown",
   "metadata": {},
   "source": [
    "# Python注释\n",
    "\n",
    "两种注释方法：`#`号和`\"\"\"`三引号"
   ]
  },
  {
   "cell_type": "code",
   "execution_count": 2,
   "metadata": {},
   "outputs": [
    {
     "name": "stdout",
     "output_type": "stream",
     "text": [
      "Hello, World!\n"
     ]
    }
   ],
   "source": [
    "#This is a comment\n",
    "\"\"\"\n",
    "This is a comment\n",
    "written in \n",
    "more than just one line\n",
    "\"\"\"\n",
    "print(\"Hello, World!\")"
   ]
  },
  {
   "cell_type": "markdown",
   "metadata": {},
   "source": [
    "# Python变量"
   ]
  },
  {
   "cell_type": "markdown",
   "metadata": {},
   "source": [
    "## 创建变量"
   ]
  },
  {
   "cell_type": "markdown",
   "metadata": {},
   "source": [
    "- Python 没有声明变量的命令，首次为其赋值时，才会创建变量"
   ]
  },
  {
   "cell_type": "code",
   "execution_count": 4,
   "metadata": {},
   "outputs": [
    {
     "name": "stdout",
     "output_type": "stream",
     "text": [
      "10\n",
      "Bill\n"
     ]
    }
   ],
   "source": [
    "x = 10\n",
    "y = \"Bill\"\n",
    "print(x)\n",
    "print(y)"
   ]
  },
  {
   "cell_type": "markdown",
   "metadata": {},
   "source": [
    "- 变量不需要使用任何特定类型声明，甚至可以在设置后更改其类型。"
   ]
  },
  {
   "cell_type": "code",
   "execution_count": 1,
   "metadata": {},
   "outputs": [
    {
     "name": "stdout",
     "output_type": "stream",
     "text": [
      "Steve\n"
     ]
    }
   ],
   "source": [
    "x = 5 # x is of type int\n",
    "x = \"Steve\" # x is now of type str\n",
    "print(x)"
   ]
  },
  {
   "cell_type": "markdown",
   "metadata": {},
   "source": [
    "- 字符串变量可以使用单引号或双引号进行声明"
   ]
  },
  {
   "cell_type": "code",
   "execution_count": 2,
   "metadata": {},
   "outputs": [],
   "source": [
    "x = \"Bill\"\n",
    "# is the same as\n",
    "x = 'Bill'"
   ]
  },
  {
   "cell_type": "markdown",
   "metadata": {},
   "source": [
    "- Python 允许您在一行中为多个变量赋值："
   ]
  },
  {
   "cell_type": "code",
   "execution_count": 3,
   "metadata": {},
   "outputs": [
    {
     "name": "stdout",
     "output_type": "stream",
     "text": [
      "Orange\n",
      "Banana\n",
      "Cherry\n"
     ]
    }
   ],
   "source": [
    "x, y, z = \"Orange\", \"Banana\", \"Cherry\"\n",
    "print(x)\n",
    "print(y)\n",
    "print(z)"
   ]
  },
  {
   "cell_type": "markdown",
   "metadata": {},
   "source": [
    "----------------------"
   ]
  },
  {
   "cell_type": "markdown",
   "metadata": {},
   "source": [
    "## 变量名称\n",
    "Python 变量命名规则：\n",
    "\n",
    "- 变量名必须以字母或下划线字符开头\n",
    "- 变量名称不能以数字开头\n",
    "- 变量名只能包含字母数字字符和下划线（A-z、0-9 和 _）\n",
    "- 变量名称区分大小写（age、Age 和 AGE 是三个不同的变量）"
   ]
  },
  {
   "cell_type": "markdown",
   "metadata": {},
   "source": [
    "--------------------"
   ]
  },
  {
   "cell_type": "markdown",
   "metadata": {},
   "source": [
    "## 向多个变量赋值"
   ]
  },
  {
   "cell_type": "markdown",
   "metadata": {},
   "source": [
    "- 您可以在一行中为多个变量分配相同的值："
   ]
  },
  {
   "cell_type": "code",
   "execution_count": 4,
   "metadata": {},
   "outputs": [
    {
     "name": "stdout",
     "output_type": "stream",
     "text": [
      "Orange\n",
      "Orange\n",
      "Orange\n"
     ]
    }
   ],
   "source": [
    "x = y = z = \"Orange\"\n",
    "print(x)\n",
    "print(y)\n",
    "print(z)"
   ]
  },
  {
   "cell_type": "markdown",
   "metadata": {},
   "source": [
    "-----------------------"
   ]
  },
  {
   "cell_type": "markdown",
   "metadata": {},
   "source": [
    "## 输出变量\n"
   ]
  },
  {
   "cell_type": "markdown",
   "metadata": {},
   "source": [
    "- 如需结合文本和变量，Python 使用 + 字符："
   ]
  },
  {
   "cell_type": "code",
   "execution_count": 5,
   "metadata": {},
   "outputs": [
    {
     "name": "stdout",
     "output_type": "stream",
     "text": [
      "Python is awesome\n"
     ]
    }
   ],
   "source": [
    "x = \"awesome\"\n",
    "print(\"Python is \" + x)"
   ]
  },
  {
   "cell_type": "markdown",
   "metadata": {},
   "source": [
    "- 可以使用 + 字符将变量与另一个变量相加："
   ]
  },
  {
   "cell_type": "code",
   "execution_count": 6,
   "metadata": {},
   "outputs": [
    {
     "name": "stdout",
     "output_type": "stream",
     "text": [
      "Python is awesome\n"
     ]
    }
   ],
   "source": [
    "x = \"Python is \"\n",
    "y = \"awesome\"\n",
    "z =  x + y\n",
    "print(z)"
   ]
  },
  {
   "cell_type": "markdown",
   "metadata": {},
   "source": [
    "- 对于数字，`+` 字符用作数学运算符："
   ]
  },
  {
   "cell_type": "code",
   "execution_count": 7,
   "metadata": {},
   "outputs": [
    {
     "name": "stdout",
     "output_type": "stream",
     "text": [
      "15\n"
     ]
    }
   ],
   "source": [
    "x = 5\n",
    "y = 10\n",
    "print(x + y)"
   ]
  },
  {
   "cell_type": "markdown",
   "metadata": {},
   "source": [
    "- 组合字符串和数字，Python 会给出错误："
   ]
  },
  {
   "cell_type": "code",
   "execution_count": 8,
   "metadata": {},
   "outputs": [
    {
     "ename": "TypeError",
     "evalue": "unsupported operand type(s) for +: 'int' and 'str'",
     "output_type": "error",
     "traceback": [
      "\u001b[0;31m---------------------------------------------------------------------------\u001b[0m",
      "\u001b[0;31mTypeError\u001b[0m                                 Traceback (most recent call last)",
      "\u001b[1;32m/home/qyx/allNote/Python/python数据分析基础/0.PythonFundamental/Fundamental.ipynb Cell 31'\u001b[0m in \u001b[0;36m<cell line: 3>\u001b[0;34m()\u001b[0m\n\u001b[1;32m      <a href='vscode-notebook-cell:/home/qyx/allNote/Python/python%E6%95%B0%E6%8D%AE%E5%88%86%E6%9E%90%E5%9F%BA%E7%A1%80/0.PythonFundamental/Fundamental.ipynb#ch0000033?line=0'>1</a>\u001b[0m x \u001b[39m=\u001b[39m \u001b[39m10\u001b[39m\n\u001b[1;32m      <a href='vscode-notebook-cell:/home/qyx/allNote/Python/python%E6%95%B0%E6%8D%AE%E5%88%86%E6%9E%90%E5%9F%BA%E7%A1%80/0.PythonFundamental/Fundamental.ipynb#ch0000033?line=1'>2</a>\u001b[0m y \u001b[39m=\u001b[39m \u001b[39m\"\u001b[39m\u001b[39mBill\u001b[39m\u001b[39m\"\u001b[39m\n\u001b[0;32m----> <a href='vscode-notebook-cell:/home/qyx/allNote/Python/python%E6%95%B0%E6%8D%AE%E5%88%86%E6%9E%90%E5%9F%BA%E7%A1%80/0.PythonFundamental/Fundamental.ipynb#ch0000033?line=2'>3</a>\u001b[0m \u001b[39mprint\u001b[39m(x \u001b[39m+\u001b[39;49m y)\n",
      "\u001b[0;31mTypeError\u001b[0m: unsupported operand type(s) for +: 'int' and 'str'"
     ]
    }
   ],
   "source": [
    "x = 10\n",
    "y = \"Bill\"\n",
    "print(x + y)"
   ]
  },
  {
   "cell_type": "markdown",
   "metadata": {},
   "source": [
    "------------------"
   ]
  },
  {
   "cell_type": "markdown",
   "metadata": {},
   "source": [
    "## 全局变量\n",
    "在函数外部创建的变量（如上述所有实例所示）称为全局变量。\n",
    "全局变量可以被函数内部和外部的每个人使用。"
   ]
  },
  {
   "cell_type": "markdown",
   "metadata": {},
   "source": [
    "- 在函数外部创建变量，并在函数内部使用它："
   ]
  },
  {
   "cell_type": "code",
   "execution_count": 9,
   "metadata": {},
   "outputs": [
    {
     "name": "stdout",
     "output_type": "stream",
     "text": [
      "Python is awesome\n"
     ]
    }
   ],
   "source": [
    "x = \"awesome\"\n",
    "\n",
    "def myfunc():\n",
    "  print(\"Python is \" + x)\n",
    "\n",
    "myfunc()"
   ]
  },
  {
   "cell_type": "markdown",
   "metadata": {},
   "source": [
    "- 如果在函数内部创建具有相同名称的变量，则该变量将是局部变量，并且只能在函数内部使用。具有相同名称的全局变量将保留原样，并拥有原始值。"
   ]
  },
  {
   "cell_type": "code",
   "execution_count": 10,
   "metadata": {},
   "outputs": [
    {
     "name": "stdout",
     "output_type": "stream",
     "text": [
      "Python is fantastic\n",
      "Python is awesome\n"
     ]
    }
   ],
   "source": [
    "x = \"awesome\"\n",
    "\n",
    "def myfunc():\n",
    "    x = \"fantastic\"\n",
    "    print(\"Python is \" + x)\n",
    "\n",
    "myfunc()\n",
    "\n",
    "print(\"Python is \" + x)"
   ]
  },
  {
   "cell_type": "markdown",
   "metadata": {},
   "source": [
    "## global 关键字\n",
    "通常，在函数内部创建变量时，该变量是局部变量，只能在该函数内部使用。\n",
    "要在==函数内部创建全局变量==，您可以使用 `global` 关键字。"
   ]
  },
  {
   "cell_type": "markdown",
   "metadata": {},
   "source": [
    "- 如果用了 global 关键字，则该变量属于全局范围："
   ]
  },
  {
   "cell_type": "code",
   "execution_count": 11,
   "metadata": {},
   "outputs": [
    {
     "name": "stdout",
     "output_type": "stream",
     "text": [
      "Python is fantastic\n"
     ]
    }
   ],
   "source": [
    "def myfunc():\n",
    "  global x\n",
    "  x = \"fantastic\"\n",
    "\n",
    "myfunc()\n",
    "\n",
    "print(\"Python is \" + x)"
   ]
  },
  {
   "cell_type": "markdown",
   "metadata": {},
   "source": [
    "- 要在函数内部更改全局变量的值，请使用 global 关键字引用该变量："
   ]
  },
  {
   "cell_type": "code",
   "execution_count": 12,
   "metadata": {},
   "outputs": [
    {
     "name": "stdout",
     "output_type": "stream",
     "text": [
      "Python is fantastic\n"
     ]
    }
   ],
   "source": [
    "x = \"awesome\"\n",
    "\n",
    "def myfunc():\n",
    "  global x\n",
    "  x = \"fantastic\"\n",
    "\n",
    "myfunc()\n",
    "\n",
    "print(\"Python is \" + x)"
   ]
  },
  {
   "cell_type": "markdown",
   "metadata": {},
   "source": [
    "# Python 数据类型\n",
    "## 内置数据类型\n",
    "在这些类别中，Python 默认拥有以下内置数据类型：\n",
    "|名称|类型|\n",
    "|----|----|\n",
    "| 文本类型:|\tstr |\n",
    "|数值类型：|int, float, complex|\n",
    "|序列类型：|list, tuple, range|\n",
    "|映射类型：|dict|\n",
    "|集合类型：|set, frozenset|\n",
    "|布尔类型：|bool|\n",
    "|二进制类型：|\tbytes, bytearray, memoryview|\n",
    "## 获取数据类型"
   ]
  },
  {
   "cell_type": "code",
   "execution_count": 13,
   "metadata": {},
   "outputs": [
    {
     "name": "stdout",
     "output_type": "stream",
     "text": [
      "<class 'int'>\n"
     ]
    }
   ],
   "source": [
    "x = 10\n",
    "print(type(x))"
   ]
  },
  {
   "cell_type": "markdown",
   "metadata": {},
   "source": [
    "## 设置数据类型\n",
    "在 Python 中，当您为变量赋值时，会设置数据类型：\n",
    "|示例\t|数据类型|\n",
    "|----|----|\t\n",
    "|x = \"Hello World\"\t|str\t|\n",
    "|x = 29\t|int\t|\n",
    "|x = 29.5|\tfloat|\t\n",
    "|x = 1j|\tcomplex|\t\n",
    "|x = [\"apple\", \"banana\", \"cherry\"]|\tlist\t|\n",
    "|x = (\"apple\", \"banana\", \"cherry\")|\ttuple\t|\n",
    "|x = range(6)\t|range\t|\n",
    "|x = {\"name\" : \"Bill\", \"age\" : 63}|\tdict\t|\n",
    "|x = {\"apple\", \"banana\", \"cherry\"}|\tset\t|\n",
    "|x = frozenset({\"apple\", \"banana\", \"cherry\"})\t|frozenset\t|\n",
    "|x = True|\tbool\t|\n",
    "|x = b\"Hello\"\t|bytes\t|\n",
    "|x = bytearray(5)\t|bytearray\t|\n",
    "|x = memoryview(bytes(5))\t|memoryview\t|\n",
    "## 设定特定的数据类型\n",
    "\n",
    "|示例\t|数据类型\t                  |\n",
    "|----|----|\n",
    "|x = str(\"Hello World\")\t|str\t|\n",
    "|x = int(29)\t|int|\n",
    "|x = float(29.5)\t|float\t|\n",
    "|x = complex(1j)\t|complex\t|\n",
    "|x = list((\"apple\", \"banana\", \"cherry\"))\t|list\t|\n",
    "|x = tuple((\"apple\", \"banana\", \"cherry\"))\t|tuple\t|\n",
    "|x = range(6)\t|range\t|\n",
    "|x = dict(name=\"Bill\", age=36)\t|dict\t|\n",
    "|x = set((\"apple\", \"banana\", \"cherry\"))\t|set\t|\n",
    "|x = frozenset((\"apple\", \"banana\", \"cherry\"))\t|frozenset |\n",
    "|x = bool(5)\t|bool\t|\n",
    "|x = bytes(5)\t|bytes|\t\n",
    "|x = bytearray(5)\t|bytearray\t|\n",
    "|x = memoryview(bytes(5))\t|memoryview\t|\n"
   ]
  }
 ],
 "metadata": {
  "interpreter": {
   "hash": "67006bfc9c0c5627ecac13f451ae94554a0990d8c6edf398f0957b08c7a41eb2"
  },
  "kernelspec": {
   "display_name": "Python 3.9.7 ('base')",
   "language": "python",
   "name": "python3"
  },
  "language_info": {
   "codemirror_mode": {
    "name": "ipython",
    "version": 3
   },
   "file_extension": ".py",
   "mimetype": "text/x-python",
   "name": "python",
   "nbconvert_exporter": "python",
   "pygments_lexer": "ipython3",
   "version": "3.9.7"
  },
  "orig_nbformat": 4
 },
 "nbformat": 4,
 "nbformat_minor": 2
}

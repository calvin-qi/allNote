{
 "cells": [
  {
   "cell_type": "markdown",
   "metadata": {
    "id": "2857F870F21F40DC8A55A603E0ED8911",
    "mdEditEnable": false
   },
   "source": [
    "\n",
    "![Image Name](https://cdn.kesci.com/upload/image/prl4xjl1zc.png?imageView2/0/w/960/h/960)\n"
   ]
  },
  {
   "cell_type": "markdown",
   "metadata": {
    "cell_type": "code",
    "id": "962AA7EA10B345B99932DEAFDEA143AF",
    "mdEditEnable": false
   },
   "source": [
    "#### 1、如何用python 快速处理数据？\n",
    "* Python处理数据利器 → Pandas\n",
    "* 数据一般格式：csv/xlsx\n",
    "* 如何用pandas读取数据\n",
    "* 案例：用pandas处理商铺数据"
   ]
  },
  {
   "cell_type": "markdown",
   "metadata": {
    "id": "1D1423C3411444338EE228F8566E355D",
    "mdEditEnable": false
   },
   "source": [
    "1）老方法：列表字典"
   ]
  },
  {
   "cell_type": "code",
   "execution_count": 2,
   "metadata": {
    "collapsed": false,
    "id": "5F6554B270014D0E8B6E5E0CE733EB2D",
    "scrolled": false
   },
   "outputs": [
    {
     "name": "stdout",
     "output_type": "stream",
     "text": [
      "['\\ufeffclassify', 'name', 'comment', 'star', 'price', 'address', 'commentlist\\n']\n",
      "['美食', '望蓉城老坛酸菜鱼(合生汇店)', '我要点评', '该商户暂无星级', '人均                                        ￥125', '翔殷路1099号合生汇5F', '口味8.3                                环境8.4                                服务8.5\\n']\n",
      "['美食', '泰国街边料理', '74                    条点评', '准四星商户', '人均                                        ￥48', '黄兴路合生汇B2美食集市内', '口味7.4                                环境7.6                                服务7.4\\n']\n",
      "['美食', '壹面如故(苏宁生活广场店)', '265                    条点评', '准四星商户', '人均                                        ￥21', '邯郸路585号苏宁生活广场B1层', '口味7.0                                环境7.2                                服务7.2\\n']\n",
      "['美食', '鮨谷•Aburiya(合生汇店)', '2748                    条点评', '准五星商户', '人均                                        ￥142', '翔殷路1099号合生广场5楼23、28铺位', '口味8.9                                环境8.5                                服务8.4\\n']\n"
     ]
    }
   ],
   "source": [
    "# 数据读取\r\n",
    "\r\n",
    "f = open('/home/kesci/商铺数据.csv','r',encoding='utf8')\r\n",
    "for i in f.readlines()[:5]:\r\n",
    "    print(i.split(','))  \r\n",
    "    # 查看数据"
   ]
  },
  {
   "cell_type": "code",
   "execution_count": 3,
   "metadata": {
    "collapsed": false,
    "id": "0C854701671D451A849E07921B45C7B6",
    "scrolled": false
   },
   "outputs": [],
   "source": [
    "# 清洗字段\r\n",
    "\r\n",
    "# 创建comment、price、commentlist清洗函数\r\n",
    "# 函数式编程\r\n",
    "\r\n",
    "def fcm(s):\r\n",
    "    if '条' in s:\r\n",
    "        return int(s.split(' ')[0])\r\n",
    "    else:\r\n",
    "        return '缺失数据'\r\n",
    "# comment清洗函数：用空格分段，选取结果list的第一个为点评数，并且转化为整型\r\n",
    "\r\n",
    "def fpr(s):\r\n",
    "    if '￥' in s:\r\n",
    "        return float(s.split('￥')[-1])\r\n",
    "    else:\r\n",
    "        return  '缺失数据'\r\n",
    "# print清洗函数：用￥分段，选取结果list的最后一个为人均价格，并且转化为浮点型\r\n",
    "\r\n",
    "def fcl(s):\r\n",
    "    if ' ' in s:\r\n",
    "        quality = float(s.split('                                ')[0][2:])\r\n",
    "        environment = float(s.split('                                ')[1][2:])\r\n",
    "        service = float(s.split('                                ')[2][2:-1])\r\n",
    "        return [quality,environment,service]\r\n",
    "    else:\r\n",
    "        return  '缺失数据'\r\n",
    "# commentlist清洗函数：用空格分段，分别清洗出质量、环境及服务数据，并转化为浮点型"
   ]
  },
  {
   "cell_type": "code",
   "execution_count": 4,
   "metadata": {
    "collapsed": false,
    "id": "5E891BF6B40A457683108DEA6E18BA90",
    "scrolled": false
   },
   "outputs": [
    {
     "name": "stdout",
     "output_type": "stream",
     "text": [
      "成功加载1条数据\n",
      "成功加载2条数据\n",
      "成功加载3条数据\n",
      "成功加载4条数据\n",
      "成功加载5条数据\n",
      "成功加载6条数据\n",
      "成功加载7条数据\n",
      "[{'classify': '美食', 'name': '泰国街边料理', 'comment_count': 74, 'star': '准四星商户', 'price': 48.0, 'address': '黄兴路合生汇B2美食集市内', 'quality': 7.4, 'environment': 7.6, 'service': 7.4}, {'classify': '美食', 'name': '壹面如故(苏宁生活广场店)', 'comment_count': 265, 'star': '准四星商户', 'price': 21.0, 'address': '邯郸路585号苏宁生活广场B1层', 'quality': 7.0, 'environment': 7.2, 'service': 7.2}, {'classify': '美食', 'name': '鮨谷•Aburiya(合生汇店)', 'comment_count': 2748, 'star': '准五星商户', 'price': 142.0, 'address': '翔殷路1099号合生广场5楼23、28铺位', 'quality': 8.9, 'environment': 8.5, 'service': 8.4}, {'classify': '美食', 'name': '麦当劳(万达店)', 'comment_count': 785, 'star': '准四星商户', 'price': 24.0, 'address': '邯郸路600号万达商业广场B1楼A05号铺', 'quality': 7.4, 'environment': 7.2, 'service': 7.2}, {'classify': '美食', 'name': '蒸年青STEAMYOUNG(百联又一城购物中心店)', 'comment_count': 3779, 'star': '准五星商户', 'price': 70.0, 'address': '淞沪路8号百联又一城购物中心7层', 'quality': 8.6, 'environment': 8.6, 'service': 8.6}, {'classify': '美食', 'name': '丸来玩趣(百联又一城购物中心店)', 'comment_count': 458, 'star': '准四星商户', 'price': 14.0, 'address': '淞沪路8号百联又一城购物中心B1层', 'quality': 7.0, 'environment': 6.5, 'service': 6.5}, {'classify': '美食', 'name': '韩国雪冰(合生汇店)', 'comment_count': 1280, 'star': '四星商户', 'price': 47.0, 'address': '翔殷路1099号合生汇4F', 'quality': 7.7, 'environment': 7.5, 'service': 7.6}]\n",
      "总共加载7条数据\n"
     ]
    }
   ],
   "source": [
    "# 数据清洗\r\n",
    "\r\n",
    "datalst = []  # 创建空列表\r\n",
    "\r\n",
    "f.seek(0)\r\n",
    "n = 0  # 创建计数变量\r\n",
    "for i in f.readlines()[1:10]:\r\n",
    "    data = i.split(',')\r\n",
    "    #print(data)\r\n",
    "    classify = data[0]             # 提取分类\r\n",
    "    name = data[1]                 # 提取店铺名称\r\n",
    "    comment_count = fcm(data[2])   # 提取评论数量\r\n",
    "    star = data[3]                 # 提取星级\r\n",
    "    price = fpr(data[4])           # 提取人均\r\n",
    "    add = data[5]                  # 提取地址\r\n",
    "    qua = fcl(data[6])[0]          # 提取质量评分\r\n",
    "    env = fcl(data[6])[1]          # 提取环境评分\r\n",
    "    ser = fcl(data[6])[2]          # 提取服务评分\r\n",
    "    if  '缺失数据' not in [comment_count, price, qua]:   # 用于判断是否有数据缺失\r\n",
    "        n += 1\r\n",
    "        data_re = [['classify',classify],\r\n",
    "                  ['name',name],\r\n",
    "                  ['comment_count',comment_count],\r\n",
    "                  ['star',star],\r\n",
    "                  ['price',price],\r\n",
    "                  ['address',add],\r\n",
    "                  ['quality',qua],\r\n",
    "                  ['environment',env],\r\n",
    "                  ['service',ser]]\r\n",
    "        datalst.append(dict(data_re))   # 生成字典，并存入列表datalst\r\n",
    "        print('成功加载%i条数据' %n)\r\n",
    "    else:\r\n",
    "        continue\r\n",
    "    \r\n",
    "print(datalst) \r\n",
    "print('总共加载%i条数据' %n)"
   ]
  },
  {
   "cell_type": "markdown",
   "metadata": {
    "id": "3C96F933C7B149148A976B92BD48D944",
    "mdEditEnable": false
   },
   "source": [
    "2）新方法：用pandas处理"
   ]
  },
  {
   "cell_type": "code",
   "execution_count": 51,
   "metadata": {
    "collapsed": false,
    "id": "95953FAD8E094527957A73F57B0D6ED9",
    "scrolled": false
   },
   "outputs": [
    {
     "name": "stdout",
     "output_type": "stream",
     "text": [
      "成功导入模块\n"
     ]
    }
   ],
   "source": [
    "import pandas as pd \r\n",
    "    # 导入pandas模块\r\n",
    "\r\n",
    "import warnings\r\n",
    "warnings.filterwarnings('ignore') \r\n",
    "    # 不发出警告\r\n",
    "\r\n",
    "print('成功导入模块')"
   ]
  },
  {
   "cell_type": "code",
   "execution_count": 6,
   "metadata": {
    "collapsed": false,
    "id": "4400951727214D2D94B79F6BF4BBDBCE",
    "scrolled": false
   },
   "outputs": [
    {
     "name": "stdout",
     "output_type": "stream",
     "text": [
      "<class 'pandas.core.frame.DataFrame'> object\n"
     ]
    },
    {
     "data": {
      "text/html": [
       "<div>\n",
       "<style scoped>\n",
       "    .dataframe tbody tr th:only-of-type {\n",
       "        vertical-align: middle;\n",
       "    }\n",
       "\n",
       "    .dataframe tbody tr th {\n",
       "        vertical-align: top;\n",
       "    }\n",
       "\n",
       "    .dataframe thead th {\n",
       "        text-align: right;\n",
       "    }\n",
       "</style>\n",
       "<table border=\"1\" class=\"dataframe\">\n",
       "  <thead>\n",
       "    <tr style=\"text-align: right;\">\n",
       "      <th></th>\n",
       "      <th>classify</th>\n",
       "      <th>name</th>\n",
       "      <th>comment</th>\n",
       "      <th>star</th>\n",
       "      <th>price</th>\n",
       "      <th>address</th>\n",
       "      <th>commentlist</th>\n",
       "    </tr>\n",
       "  </thead>\n",
       "  <tbody>\n",
       "    <tr>\n",
       "      <th>0</th>\n",
       "      <td>美食</td>\n",
       "      <td>望蓉城老坛酸菜鱼(合生汇店)</td>\n",
       "      <td>我要点评</td>\n",
       "      <td>该商户暂无星级</td>\n",
       "      <td>人均                                        ￥125</td>\n",
       "      <td>翔殷路1099号合生汇5F</td>\n",
       "      <td>口味8.3                                环境8.4    ...</td>\n",
       "    </tr>\n",
       "    <tr>\n",
       "      <th>1</th>\n",
       "      <td>美食</td>\n",
       "      <td>泰国街边料理</td>\n",
       "      <td>74                    条点评</td>\n",
       "      <td>准四星商户</td>\n",
       "      <td>人均                                        ￥48</td>\n",
       "      <td>黄兴路合生汇B2美食集市内</td>\n",
       "      <td>口味7.4                                环境7.6    ...</td>\n",
       "    </tr>\n",
       "    <tr>\n",
       "      <th>2</th>\n",
       "      <td>美食</td>\n",
       "      <td>壹面如故(苏宁生活广场店)</td>\n",
       "      <td>265                    条点评</td>\n",
       "      <td>准四星商户</td>\n",
       "      <td>人均                                        ￥21</td>\n",
       "      <td>邯郸路585号苏宁生活广场B1层</td>\n",
       "      <td>口味7.0                                环境7.2    ...</td>\n",
       "    </tr>\n",
       "    <tr>\n",
       "      <th>3</th>\n",
       "      <td>美食</td>\n",
       "      <td>鮨谷•Aburiya(合生汇店)</td>\n",
       "      <td>2748                    条点评</td>\n",
       "      <td>准五星商户</td>\n",
       "      <td>人均                                        ￥142</td>\n",
       "      <td>翔殷路1099号合生广场5楼23、28铺位</td>\n",
       "      <td>口味8.9                                环境8.5    ...</td>\n",
       "    </tr>\n",
       "    <tr>\n",
       "      <th>4</th>\n",
       "      <td>美食</td>\n",
       "      <td>我们的烤肉我们的馕</td>\n",
       "      <td>5                    条点评</td>\n",
       "      <td>准四星商户</td>\n",
       "      <td>人均                                    -</td>\n",
       "      <td>邯郸路399-D3号</td>\n",
       "      <td>口味7.5                                环境6.8    ...</td>\n",
       "    </tr>\n",
       "  </tbody>\n",
       "</table>\n",
       "</div>"
      ],
      "text/plain": [
       "  classify              name                      comment     star  \\\n",
       "0       美食    望蓉城老坛酸菜鱼(合生汇店)                         我要点评  该商户暂无星级   \n",
       "1       美食            泰国街边料理    74                    条点评    准四星商户   \n",
       "2       美食     壹面如故(苏宁生活广场店)   265                    条点评    准四星商户   \n",
       "3       美食  鮨谷•Aburiya(合生汇店)  2748                    条点评    准五星商户   \n",
       "4       美食         我们的烤肉我们的馕     5                    条点评    准四星商户   \n",
       "\n",
       "                                            price                address  \\\n",
       "0  人均                                        ￥125          翔殷路1099号合生汇5F   \n",
       "1   人均                                        ￥48          黄兴路合生汇B2美食集市内   \n",
       "2   人均                                        ￥21       邯郸路585号苏宁生活广场B1层   \n",
       "3  人均                                        ￥142  翔殷路1099号合生广场5楼23、28铺位   \n",
       "4         人均                                    -             邯郸路399-D3号   \n",
       "\n",
       "                                         commentlist  \n",
       "0  口味8.3                                环境8.4    ...  \n",
       "1  口味7.4                                环境7.6    ...  \n",
       "2  口味7.0                                环境7.2    ...  \n",
       "3  口味8.9                                环境8.5    ...  \n",
       "4  口味7.5                                环境6.8    ...  "
      ]
     },
     "execution_count": 6,
     "metadata": {},
     "output_type": "execute_result"
    }
   ],
   "source": [
    "# 如何用pandas读取数据 - csv\r\n",
    "\r\n",
    "df = pd.read_csv('/home/kesci/商铺数据.csv')\r\n",
    "print(type(df),df['name'].dtype) # 查看df类型，查看df中一列的数值类型\r\n",
    "df.head()"
   ]
  },
  {
   "cell_type": "code",
   "execution_count": 7,
   "metadata": {
    "collapsed": false,
    "id": "4F2B2CE0F8B548F881E3101C15D3BB83",
    "scrolled": false
   },
   "outputs": [
    {
     "name": "stdout",
     "output_type": "stream",
     "text": [
      "object\n",
      "int64\n"
     ]
    },
    {
     "data": {
      "text/html": [
       "<div>\n",
       "<style scoped>\n",
       "    .dataframe tbody tr th:only-of-type {\n",
       "        vertical-align: middle;\n",
       "    }\n",
       "\n",
       "    .dataframe tbody tr th {\n",
       "        vertical-align: top;\n",
       "    }\n",
       "\n",
       "    .dataframe thead th {\n",
       "        text-align: right;\n",
       "    }\n",
       "</style>\n",
       "<table border=\"1\" class=\"dataframe\">\n",
       "  <thead>\n",
       "    <tr style=\"text-align: right;\">\n",
       "      <th></th>\n",
       "      <th>classify</th>\n",
       "      <th>name</th>\n",
       "      <th>comment</th>\n",
       "      <th>star</th>\n",
       "      <th>price</th>\n",
       "      <th>address</th>\n",
       "      <th>commentlist</th>\n",
       "    </tr>\n",
       "  </thead>\n",
       "  <tbody>\n",
       "    <tr>\n",
       "      <th>1</th>\n",
       "      <td>美食</td>\n",
       "      <td>泰国街边料理</td>\n",
       "      <td>74</td>\n",
       "      <td>准四星商户</td>\n",
       "      <td>人均                                        ￥48</td>\n",
       "      <td>黄兴路合生汇B2美食集市内</td>\n",
       "      <td>口味7.4                                环境7.6    ...</td>\n",
       "    </tr>\n",
       "    <tr>\n",
       "      <th>2</th>\n",
       "      <td>美食</td>\n",
       "      <td>壹面如故(苏宁生活广场店)</td>\n",
       "      <td>265</td>\n",
       "      <td>准四星商户</td>\n",
       "      <td>人均                                        ￥21</td>\n",
       "      <td>邯郸路585号苏宁生活广场B1层</td>\n",
       "      <td>口味7.0                                环境7.2    ...</td>\n",
       "    </tr>\n",
       "    <tr>\n",
       "      <th>3</th>\n",
       "      <td>美食</td>\n",
       "      <td>鮨谷•Aburiya(合生汇店)</td>\n",
       "      <td>2748</td>\n",
       "      <td>准五星商户</td>\n",
       "      <td>人均                                        ￥142</td>\n",
       "      <td>翔殷路1099号合生广场5楼23、28铺位</td>\n",
       "      <td>口味8.9                                环境8.5    ...</td>\n",
       "    </tr>\n",
       "    <tr>\n",
       "      <th>4</th>\n",
       "      <td>美食</td>\n",
       "      <td>我们的烤肉我们的馕</td>\n",
       "      <td>5</td>\n",
       "      <td>准四星商户</td>\n",
       "      <td>人均                                    -</td>\n",
       "      <td>邯郸路399-D3号</td>\n",
       "      <td>口味7.5                                环境6.8    ...</td>\n",
       "    </tr>\n",
       "    <tr>\n",
       "      <th>5</th>\n",
       "      <td>美食</td>\n",
       "      <td>麦当劳(万达店)</td>\n",
       "      <td>785</td>\n",
       "      <td>准四星商户</td>\n",
       "      <td>人均                                        ￥24</td>\n",
       "      <td>邯郸路600号万达商业广场B1楼A05号铺</td>\n",
       "      <td>口味7.4                                环境7.2    ...</td>\n",
       "    </tr>\n",
       "  </tbody>\n",
       "</table>\n",
       "</div>"
      ],
      "text/plain": [
       "  classify              name  comment   star  \\\n",
       "1       美食            泰国街边料理       74  准四星商户   \n",
       "2       美食     壹面如故(苏宁生活广场店)      265  准四星商户   \n",
       "3       美食  鮨谷•Aburiya(合生汇店)     2748  准五星商户   \n",
       "4       美食         我们的烤肉我们的馕        5  准四星商户   \n",
       "5       美食          麦当劳(万达店)      785  准四星商户   \n",
       "\n",
       "                                            price                address  \\\n",
       "1   人均                                        ￥48          黄兴路合生汇B2美食集市内   \n",
       "2   人均                                        ￥21       邯郸路585号苏宁生活广场B1层   \n",
       "3  人均                                        ￥142  翔殷路1099号合生广场5楼23、28铺位   \n",
       "4         人均                                    -             邯郸路399-D3号   \n",
       "5   人均                                        ￥24  邯郸路600号万达商业广场B1楼A05号铺   \n",
       "\n",
       "                                         commentlist  \n",
       "1  口味7.4                                环境7.6    ...  \n",
       "2  口味7.0                                环境7.2    ...  \n",
       "3  口味8.9                                环境8.5    ...  \n",
       "4  口味7.5                                环境6.8    ...  \n",
       "5  口味7.4                                环境7.2    ...  "
      ]
     },
     "execution_count": 7,
     "metadata": {},
     "output_type": "execute_result"
    }
   ],
   "source": [
    "# 用pandas处理商铺数据 - comment字段清洗\r\n",
    "\r\n",
    "df1 = df[df['comment'].str.contains('条')]\r\n",
    "df1['comment'] = df1['comment'].str.split('条').str[0]\r\n",
    "print(df1['comment'].dtype)\r\n",
    "\r\n",
    "df1['comment'] = df1['comment'].astype('int')\r\n",
    "print(df1['comment'].dtype) # 更改列数值类型\r\n",
    "\r\n",
    "df1.head()"
   ]
  },
  {
   "cell_type": "code",
   "execution_count": 8,
   "metadata": {
    "collapsed": false,
    "id": "9F17042D3B8E4ECB8878A48B1156188B",
    "scrolled": false
   },
   "outputs": [
    {
     "name": "stdout",
     "output_type": "stream",
     "text": [
      "float64\n"
     ]
    },
    {
     "data": {
      "text/html": [
       "<div>\n",
       "<style scoped>\n",
       "    .dataframe tbody tr th:only-of-type {\n",
       "        vertical-align: middle;\n",
       "    }\n",
       "\n",
       "    .dataframe tbody tr th {\n",
       "        vertical-align: top;\n",
       "    }\n",
       "\n",
       "    .dataframe thead th {\n",
       "        text-align: right;\n",
       "    }\n",
       "</style>\n",
       "<table border=\"1\" class=\"dataframe\">\n",
       "  <thead>\n",
       "    <tr style=\"text-align: right;\">\n",
       "      <th></th>\n",
       "      <th>classify</th>\n",
       "      <th>name</th>\n",
       "      <th>comment</th>\n",
       "      <th>star</th>\n",
       "      <th>price</th>\n",
       "      <th>address</th>\n",
       "      <th>commentlist</th>\n",
       "    </tr>\n",
       "  </thead>\n",
       "  <tbody>\n",
       "    <tr>\n",
       "      <th>1</th>\n",
       "      <td>美食</td>\n",
       "      <td>泰国街边料理</td>\n",
       "      <td>74</td>\n",
       "      <td>准四星商户</td>\n",
       "      <td>48.0</td>\n",
       "      <td>黄兴路合生汇B2美食集市内</td>\n",
       "      <td>口味7.4                                环境7.6    ...</td>\n",
       "    </tr>\n",
       "    <tr>\n",
       "      <th>2</th>\n",
       "      <td>美食</td>\n",
       "      <td>壹面如故(苏宁生活广场店)</td>\n",
       "      <td>265</td>\n",
       "      <td>准四星商户</td>\n",
       "      <td>21.0</td>\n",
       "      <td>邯郸路585号苏宁生活广场B1层</td>\n",
       "      <td>口味7.0                                环境7.2    ...</td>\n",
       "    </tr>\n",
       "    <tr>\n",
       "      <th>3</th>\n",
       "      <td>美食</td>\n",
       "      <td>鮨谷•Aburiya(合生汇店)</td>\n",
       "      <td>2748</td>\n",
       "      <td>准五星商户</td>\n",
       "      <td>142.0</td>\n",
       "      <td>翔殷路1099号合生广场5楼23、28铺位</td>\n",
       "      <td>口味8.9                                环境8.5    ...</td>\n",
       "    </tr>\n",
       "    <tr>\n",
       "      <th>5</th>\n",
       "      <td>美食</td>\n",
       "      <td>麦当劳(万达店)</td>\n",
       "      <td>785</td>\n",
       "      <td>准四星商户</td>\n",
       "      <td>24.0</td>\n",
       "      <td>邯郸路600号万达商业广场B1楼A05号铺</td>\n",
       "      <td>口味7.4                                环境7.2    ...</td>\n",
       "    </tr>\n",
       "    <tr>\n",
       "      <th>6</th>\n",
       "      <td>美食</td>\n",
       "      <td>蒸年青STEAMYOUNG(百联又一城购物中心店)</td>\n",
       "      <td>3779</td>\n",
       "      <td>准五星商户</td>\n",
       "      <td>70.0</td>\n",
       "      <td>淞沪路8号百联又一城购物中心7层</td>\n",
       "      <td>口味8.6                                环境8.6    ...</td>\n",
       "    </tr>\n",
       "  </tbody>\n",
       "</table>\n",
       "</div>"
      ],
      "text/plain": [
       "  classify                       name  comment   star  price  \\\n",
       "1       美食                     泰国街边料理       74  准四星商户   48.0   \n",
       "2       美食              壹面如故(苏宁生活广场店)      265  准四星商户   21.0   \n",
       "3       美食           鮨谷•Aburiya(合生汇店)     2748  准五星商户  142.0   \n",
       "5       美食                   麦当劳(万达店)      785  准四星商户   24.0   \n",
       "6       美食  蒸年青STEAMYOUNG(百联又一城购物中心店)     3779  准五星商户   70.0   \n",
       "\n",
       "                 address                                        commentlist  \n",
       "1          黄兴路合生汇B2美食集市内  口味7.4                                环境7.6    ...  \n",
       "2       邯郸路585号苏宁生活广场B1层  口味7.0                                环境7.2    ...  \n",
       "3  翔殷路1099号合生广场5楼23、28铺位  口味8.9                                环境8.5    ...  \n",
       "5  邯郸路600号万达商业广场B1楼A05号铺  口味7.4                                环境7.2    ...  \n",
       "6       淞沪路8号百联又一城购物中心7层  口味8.6                                环境8.6    ...  "
      ]
     },
     "execution_count": 8,
     "metadata": {},
     "output_type": "execute_result"
    }
   ],
   "source": [
    "# 用pandas处理商铺数据 - price字段清洗\r\n",
    "\r\n",
    "df1 = df1[df1['price'].str.contains('￥')]\r\n",
    "df1['price'] = df1['price'].str.split('￥').str[-1]\r\n",
    "\r\n",
    "df1['price'] = df1['price'].astype('float')\r\n",
    "print(df1['price'].dtype) # 更改列数值类型\r\n",
    "\r\n",
    "df1.head()"
   ]
  },
  {
   "cell_type": "code",
   "execution_count": 9,
   "metadata": {
    "collapsed": false,
    "id": "49E9C4C7664F4E5A879022F116BD87E0",
    "scrolled": false
   },
   "outputs": [
    {
     "data": {
      "text/html": [
       "<div>\n",
       "<style scoped>\n",
       "    .dataframe tbody tr th:only-of-type {\n",
       "        vertical-align: middle;\n",
       "    }\n",
       "\n",
       "    .dataframe tbody tr th {\n",
       "        vertical-align: top;\n",
       "    }\n",
       "\n",
       "    .dataframe thead th {\n",
       "        text-align: right;\n",
       "    }\n",
       "</style>\n",
       "<table border=\"1\" class=\"dataframe\">\n",
       "  <thead>\n",
       "    <tr style=\"text-align: right;\">\n",
       "      <th></th>\n",
       "      <th>classify</th>\n",
       "      <th>name</th>\n",
       "      <th>comment</th>\n",
       "      <th>star</th>\n",
       "      <th>price</th>\n",
       "      <th>address</th>\n",
       "      <th>quality</th>\n",
       "      <th>environment</th>\n",
       "      <th>service</th>\n",
       "    </tr>\n",
       "  </thead>\n",
       "  <tbody>\n",
       "    <tr>\n",
       "      <th>1</th>\n",
       "      <td>美食</td>\n",
       "      <td>泰国街边料理</td>\n",
       "      <td>74</td>\n",
       "      <td>准四星商户</td>\n",
       "      <td>48.0</td>\n",
       "      <td>黄兴路合生汇B2美食集市内</td>\n",
       "      <td>7.4</td>\n",
       "      <td>7.6</td>\n",
       "      <td>7.4</td>\n",
       "    </tr>\n",
       "    <tr>\n",
       "      <th>2</th>\n",
       "      <td>美食</td>\n",
       "      <td>壹面如故(苏宁生活广场店)</td>\n",
       "      <td>265</td>\n",
       "      <td>准四星商户</td>\n",
       "      <td>21.0</td>\n",
       "      <td>邯郸路585号苏宁生活广场B1层</td>\n",
       "      <td>7.0</td>\n",
       "      <td>7.2</td>\n",
       "      <td>7.2</td>\n",
       "    </tr>\n",
       "    <tr>\n",
       "      <th>3</th>\n",
       "      <td>美食</td>\n",
       "      <td>鮨谷•Aburiya(合生汇店)</td>\n",
       "      <td>2748</td>\n",
       "      <td>准五星商户</td>\n",
       "      <td>142.0</td>\n",
       "      <td>翔殷路1099号合生广场5楼23、28铺位</td>\n",
       "      <td>8.9</td>\n",
       "      <td>8.5</td>\n",
       "      <td>8.4</td>\n",
       "    </tr>\n",
       "    <tr>\n",
       "      <th>5</th>\n",
       "      <td>美食</td>\n",
       "      <td>麦当劳(万达店)</td>\n",
       "      <td>785</td>\n",
       "      <td>准四星商户</td>\n",
       "      <td>24.0</td>\n",
       "      <td>邯郸路600号万达商业广场B1楼A05号铺</td>\n",
       "      <td>7.4</td>\n",
       "      <td>7.2</td>\n",
       "      <td>7.2</td>\n",
       "    </tr>\n",
       "    <tr>\n",
       "      <th>6</th>\n",
       "      <td>美食</td>\n",
       "      <td>蒸年青STEAMYOUNG(百联又一城购物中心店)</td>\n",
       "      <td>3779</td>\n",
       "      <td>准五星商户</td>\n",
       "      <td>70.0</td>\n",
       "      <td>淞沪路8号百联又一城购物中心7层</td>\n",
       "      <td>8.6</td>\n",
       "      <td>8.6</td>\n",
       "      <td>8.6</td>\n",
       "    </tr>\n",
       "  </tbody>\n",
       "</table>\n",
       "</div>"
      ],
      "text/plain": [
       "  classify                       name  comment   star  price  \\\n",
       "1       美食                     泰国街边料理       74  准四星商户   48.0   \n",
       "2       美食              壹面如故(苏宁生活广场店)      265  准四星商户   21.0   \n",
       "3       美食           鮨谷•Aburiya(合生汇店)     2748  准五星商户  142.0   \n",
       "5       美食                   麦当劳(万达店)      785  准四星商户   24.0   \n",
       "6       美食  蒸年青STEAMYOUNG(百联又一城购物中心店)     3779  准五星商户   70.0   \n",
       "\n",
       "                 address  quality  environment  service  \n",
       "1          黄兴路合生汇B2美食集市内      7.4          7.6      7.4  \n",
       "2       邯郸路585号苏宁生活广场B1层      7.0          7.2      7.2  \n",
       "3  翔殷路1099号合生广场5楼23、28铺位      8.9          8.5      8.4  \n",
       "5  邯郸路600号万达商业广场B1楼A05号铺      7.4          7.2      7.2  \n",
       "6       淞沪路8号百联又一城购物中心7层      8.6          8.6      8.6  "
      ]
     },
     "execution_count": 9,
     "metadata": {},
     "output_type": "execute_result"
    }
   ],
   "source": [
    "# 用pandas处理商铺数据 - commentlist\r\n",
    "\r\n",
    "df1['quality'] = df1['commentlist'].str.split('                                ').str[0].str[2:].astype('float')\r\n",
    "df1['environment'] = df1['commentlist'].str.split('                                ').str[1].str[2:].astype('float')\r\n",
    "df1['service'] = df1['commentlist'].str.split('                                ').str[2].str[2:].astype('float')\r\n",
    "# 字段清洗\r\n",
    "\r\n",
    "del df1['commentlist']\r\n",
    "\r\n",
    "df1.head()"
   ]
  },
  {
   "cell_type": "markdown",
   "metadata": {
    "id": "B5B59187302543298FDA93D39FEC36B5",
    "mdEditEnable": false
   },
   "source": [
    "#### 2、初学者在 数据索引的常见错误\n",
    "* 列索引/行索引问题： df[…] / .iloc / .loc \n",
    "* 布尔型索引"
   ]
  },
  {
   "cell_type": "code",
   "execution_count": 10,
   "metadata": {
    "collapsed": false,
    "id": "20A89907EB9E40DBB9781C52F8B7E58D",
    "scrolled": false
   },
   "outputs": [
    {
     "data": {
      "text/plain": [
       "1    7.4\n",
       "2    7.0\n",
       "3    8.9\n",
       "5    7.4\n",
       "6    8.6\n",
       "Name: quality, dtype: float64"
      ]
     },
     "execution_count": 10,
     "metadata": {},
     "output_type": "execute_result"
    }
   ],
   "source": [
    "# 列索引 df[...] - 单列索引，结果series\r\n",
    "\r\n",
    "df1['quality'].head()"
   ]
  },
  {
   "cell_type": "code",
   "execution_count": 11,
   "metadata": {
    "collapsed": false,
    "id": "8D561685DAE74368809086DA56A4D6C8",
    "scrolled": false
   },
   "outputs": [
    {
     "data": {
      "text/html": [
       "<div>\n",
       "<style scoped>\n",
       "    .dataframe tbody tr th:only-of-type {\n",
       "        vertical-align: middle;\n",
       "    }\n",
       "\n",
       "    .dataframe tbody tr th {\n",
       "        vertical-align: top;\n",
       "    }\n",
       "\n",
       "    .dataframe thead th {\n",
       "        text-align: right;\n",
       "    }\n",
       "</style>\n",
       "<table border=\"1\" class=\"dataframe\">\n",
       "  <thead>\n",
       "    <tr style=\"text-align: right;\">\n",
       "      <th></th>\n",
       "      <th>quality</th>\n",
       "      <th>environment</th>\n",
       "      <th>service</th>\n",
       "    </tr>\n",
       "  </thead>\n",
       "  <tbody>\n",
       "    <tr>\n",
       "      <th>1</th>\n",
       "      <td>7.4</td>\n",
       "      <td>7.6</td>\n",
       "      <td>7.4</td>\n",
       "    </tr>\n",
       "    <tr>\n",
       "      <th>2</th>\n",
       "      <td>7.0</td>\n",
       "      <td>7.2</td>\n",
       "      <td>7.2</td>\n",
       "    </tr>\n",
       "    <tr>\n",
       "      <th>3</th>\n",
       "      <td>8.9</td>\n",
       "      <td>8.5</td>\n",
       "      <td>8.4</td>\n",
       "    </tr>\n",
       "    <tr>\n",
       "      <th>5</th>\n",
       "      <td>7.4</td>\n",
       "      <td>7.2</td>\n",
       "      <td>7.2</td>\n",
       "    </tr>\n",
       "    <tr>\n",
       "      <th>6</th>\n",
       "      <td>8.6</td>\n",
       "      <td>8.6</td>\n",
       "      <td>8.6</td>\n",
       "    </tr>\n",
       "  </tbody>\n",
       "</table>\n",
       "</div>"
      ],
      "text/plain": [
       "   quality  environment  service\n",
       "1      7.4          7.6      7.4\n",
       "2      7.0          7.2      7.2\n",
       "3      8.9          8.5      8.4\n",
       "5      7.4          7.2      7.2\n",
       "6      8.6          8.6      8.6"
      ]
     },
     "execution_count": 11,
     "metadata": {},
     "output_type": "execute_result"
    }
   ],
   "source": [
    "# 列索引 df[...] - 多列索引，结果dataframe\r\n",
    "\r\n",
    "df1[['quality','environment','service']].head()"
   ]
  },
  {
   "cell_type": "code",
   "execution_count": 12,
   "metadata": {
    "collapsed": false,
    "id": "D8D14BBE5C5F4D0184224C41C88DC370",
    "scrolled": false
   },
   "outputs": [
    {
     "name": "stdout",
     "output_type": "stream",
     "text": [
      "a    94.697126\n",
      "b    68.728959\n",
      "c    86.539632\n",
      "d     7.784895\n",
      "Name: one, dtype: float64 \n",
      "----- <class 'pandas.core.series.Series'>\n",
      "             a          b          c         d\n",
      "one  94.697126  68.728959  86.539632  7.784895\n",
      "two  52.405708  53.614338  66.878720  1.469412 \n",
      "----- <class 'pandas.core.frame.DataFrame'>\n"
     ]
    }
   ],
   "source": [
    "# 行索引 - loc\r\n",
    "# 按照index选择行，只选择一行输出Series，选择多行输出Dataframe\r\n",
    "\r\n",
    "import numpy as np\r\n",
    "\r\n",
    "df = pd.DataFrame(np.random.rand(12).reshape(3,4)*100,\r\n",
    "                   index = ['one','two','three'],\r\n",
    "                   columns = ['a','b','c','d'])\r\n",
    "\r\n",
    "data1 = df.loc['one']\r\n",
    "data2 = df.loc[['one','two']]\r\n",
    "print(data1,'\\n-----',type(data1))\r\n",
    "print(data2,'\\n-----',type(data2))"
   ]
  },
  {
   "cell_type": "code",
   "execution_count": 13,
   "metadata": {
    "collapsed": false,
    "id": "9E02FF0A6D364AA3A1AF27FC7DA2D134",
    "scrolled": false
   },
   "outputs": [
    {
     "name": "stdout",
     "output_type": "stream",
     "text": [
      "a    94.697126\n",
      "b    68.728959\n",
      "c    86.539632\n",
      "d     7.784895\n",
      "Name: one, dtype: float64 \n",
      "----- <class 'pandas.core.series.Series'>\n",
      "               a          b          c          d\n",
      "one    94.697126  68.728959  86.539632   7.784895\n",
      "three  68.599077  93.439114  99.715899  94.336584 \n",
      "----- <class 'pandas.core.frame.DataFrame'>\n"
     ]
    }
   ],
   "source": [
    "# 行索引 - iloc\r\n",
    "# 按照整数位置（从轴的0到length-1）选择行\r\n",
    "\r\n",
    "data3 = df.iloc[0]\r\n",
    "data4 = df.iloc[[0,2]]\r\n",
    "print(data3,'\\n-----',type(data3))\r\n",
    "print(data4,'\\n-----',type(data4))"
   ]
  },
  {
   "cell_type": "code",
   "execution_count": 14,
   "metadata": {
    "collapsed": false,
    "id": "04D3314FC5E64FF7BA05327D2E1C753B",
    "scrolled": false
   },
   "outputs": [
    {
     "data": {
      "text/html": [
       "<div>\n",
       "<style scoped>\n",
       "    .dataframe tbody tr th:only-of-type {\n",
       "        vertical-align: middle;\n",
       "    }\n",
       "\n",
       "    .dataframe tbody tr th {\n",
       "        vertical-align: top;\n",
       "    }\n",
       "\n",
       "    .dataframe thead th {\n",
       "        text-align: right;\n",
       "    }\n",
       "</style>\n",
       "<table border=\"1\" class=\"dataframe\">\n",
       "  <thead>\n",
       "    <tr style=\"text-align: right;\">\n",
       "      <th></th>\n",
       "      <th>classify</th>\n",
       "      <th>name</th>\n",
       "      <th>comment</th>\n",
       "      <th>star</th>\n",
       "      <th>price</th>\n",
       "      <th>address</th>\n",
       "      <th>quality</th>\n",
       "      <th>environment</th>\n",
       "      <th>service</th>\n",
       "    </tr>\n",
       "  </thead>\n",
       "  <tbody>\n",
       "    <tr>\n",
       "      <th>1</th>\n",
       "      <td>美食</td>\n",
       "      <td>泰国街边料理</td>\n",
       "      <td>74</td>\n",
       "      <td>准四星商户</td>\n",
       "      <td>48.0</td>\n",
       "      <td>黄兴路合生汇B2美食集市内</td>\n",
       "      <td>7.4</td>\n",
       "      <td>7.6</td>\n",
       "      <td>7.4</td>\n",
       "    </tr>\n",
       "    <tr>\n",
       "      <th>2</th>\n",
       "      <td>美食</td>\n",
       "      <td>壹面如故(苏宁生活广场店)</td>\n",
       "      <td>265</td>\n",
       "      <td>准四星商户</td>\n",
       "      <td>21.0</td>\n",
       "      <td>邯郸路585号苏宁生活广场B1层</td>\n",
       "      <td>7.0</td>\n",
       "      <td>7.2</td>\n",
       "      <td>7.2</td>\n",
       "    </tr>\n",
       "    <tr>\n",
       "      <th>3</th>\n",
       "      <td>美食</td>\n",
       "      <td>鮨谷•Aburiya(合生汇店)</td>\n",
       "      <td>2748</td>\n",
       "      <td>准五星商户</td>\n",
       "      <td>142.0</td>\n",
       "      <td>翔殷路1099号合生广场5楼23、28铺位</td>\n",
       "      <td>8.9</td>\n",
       "      <td>8.5</td>\n",
       "      <td>8.4</td>\n",
       "    </tr>\n",
       "    <tr>\n",
       "      <th>5</th>\n",
       "      <td>美食</td>\n",
       "      <td>麦当劳(万达店)</td>\n",
       "      <td>785</td>\n",
       "      <td>准四星商户</td>\n",
       "      <td>24.0</td>\n",
       "      <td>邯郸路600号万达商业广场B1楼A05号铺</td>\n",
       "      <td>7.4</td>\n",
       "      <td>7.2</td>\n",
       "      <td>7.2</td>\n",
       "    </tr>\n",
       "    <tr>\n",
       "      <th>6</th>\n",
       "      <td>美食</td>\n",
       "      <td>蒸年青STEAMYOUNG(百联又一城购物中心店)</td>\n",
       "      <td>3779</td>\n",
       "      <td>准五星商户</td>\n",
       "      <td>70.0</td>\n",
       "      <td>淞沪路8号百联又一城购物中心7层</td>\n",
       "      <td>8.6</td>\n",
       "      <td>8.6</td>\n",
       "      <td>8.6</td>\n",
       "    </tr>\n",
       "  </tbody>\n",
       "</table>\n",
       "</div>"
      ],
      "text/plain": [
       "  classify                       name  comment   star  price  \\\n",
       "1       美食                     泰国街边料理       74  准四星商户   48.0   \n",
       "2       美食              壹面如故(苏宁生活广场店)      265  准四星商户   21.0   \n",
       "3       美食           鮨谷•Aburiya(合生汇店)     2748  准五星商户  142.0   \n",
       "5       美食                   麦当劳(万达店)      785  准四星商户   24.0   \n",
       "6       美食  蒸年青STEAMYOUNG(百联又一城购物中心店)     3779  准五星商户   70.0   \n",
       "\n",
       "                 address  quality  environment  service  \n",
       "1          黄兴路合生汇B2美食集市内      7.4          7.6      7.4  \n",
       "2       邯郸路585号苏宁生活广场B1层      7.0          7.2      7.2  \n",
       "3  翔殷路1099号合生广场5楼23、28铺位      8.9          8.5      8.4  \n",
       "5  邯郸路600号万达商业广场B1楼A05号铺      7.4          7.2      7.2  \n",
       "6       淞沪路8号百联又一城购物中心7层      8.6          8.6      8.6  "
      ]
     },
     "execution_count": 14,
     "metadata": {},
     "output_type": "execute_result"
    }
   ],
   "source": [
    "# 布尔型索引\r\n",
    "\r\n",
    "df1[df1['comment'] >50].head()"
   ]
  },
  {
   "cell_type": "code",
   "execution_count": 15,
   "metadata": {
    "collapsed": false,
    "id": "3C71C0CB3BB64DA3874A3837D2C8064C",
    "mdEditEnable": false,
    "scrolled": false
   },
   "outputs": [
    {
     "data": {
      "text/html": [
       "<div>\n",
       "<style scoped>\n",
       "    .dataframe tbody tr th:only-of-type {\n",
       "        vertical-align: middle;\n",
       "    }\n",
       "\n",
       "    .dataframe tbody tr th {\n",
       "        vertical-align: top;\n",
       "    }\n",
       "\n",
       "    .dataframe thead th {\n",
       "        text-align: right;\n",
       "    }\n",
       "</style>\n",
       "<table border=\"1\" class=\"dataframe\">\n",
       "  <thead>\n",
       "    <tr style=\"text-align: right;\">\n",
       "      <th></th>\n",
       "      <th>quality</th>\n",
       "      <th>environment</th>\n",
       "      <th>service</th>\n",
       "    </tr>\n",
       "  </thead>\n",
       "  <tbody>\n",
       "    <tr>\n",
       "      <th>1</th>\n",
       "      <td>7.4</td>\n",
       "      <td>7.6</td>\n",
       "      <td>7.4</td>\n",
       "    </tr>\n",
       "    <tr>\n",
       "      <th>2</th>\n",
       "      <td>7.0</td>\n",
       "      <td>7.2</td>\n",
       "      <td>7.2</td>\n",
       "    </tr>\n",
       "    <tr>\n",
       "      <th>3</th>\n",
       "      <td>8.9</td>\n",
       "      <td>8.5</td>\n",
       "      <td>8.4</td>\n",
       "    </tr>\n",
       "    <tr>\n",
       "      <th>5</th>\n",
       "      <td>7.4</td>\n",
       "      <td>7.2</td>\n",
       "      <td>7.2</td>\n",
       "    </tr>\n",
       "    <tr>\n",
       "      <th>6</th>\n",
       "      <td>8.6</td>\n",
       "      <td>8.6</td>\n",
       "      <td>8.6</td>\n",
       "    </tr>\n",
       "  </tbody>\n",
       "</table>\n",
       "</div>"
      ],
      "text/plain": [
       "   quality  environment  service\n",
       "1      7.4          7.6      7.4\n",
       "2      7.0          7.2      7.2\n",
       "3      8.9          8.5      8.4\n",
       "5      7.4          7.2      7.2\n",
       "6      8.6          8.6      8.6"
      ]
     },
     "execution_count": 15,
     "metadata": {},
     "output_type": "execute_result"
    }
   ],
   "source": [
    "# 布尔型索引\r\n",
    "\r\n",
    "df1[df1['comment'] >50][['quality','environment','service']].head()"
   ]
  },
  {
   "cell_type": "markdown",
   "metadata": {
    "id": "B5A0C0E9A98A4EC683D62FBC3F5C8E2D",
    "mdEditEnable": false
   },
   "source": [
    "#### 3、Pandas套路总结\n",
    "* 数据类型问题，series和dataframe\n",
    "* 去重\n",
    "* 替换\n",
    "* 分组\n",
    "* 合并"
   ]
  },
  {
   "cell_type": "code",
   "execution_count": 16,
   "metadata": {
    "collapsed": false,
    "id": "2F3A4870808D4C078C61822D333B6713",
    "scrolled": false
   },
   "outputs": [
    {
     "name": "stdout",
     "output_type": "stream",
     "text": [
      "0    0.177446\n",
      "1    0.620665\n",
      "2    0.448813\n",
      "3    0.304528\n",
      "4    0.834865\n",
      "dtype: float64\n",
      "<class 'pandas.core.series.Series'>\n"
     ]
    }
   ],
   "source": [
    "# Series，带有标签的一维数组，可以保存任何数据类型（整数，字符串，浮点数，Python对象等）,轴标签统称为索引\r\n",
    "s = pd.Series(np.random.rand(5))\r\n",
    "print(s)\r\n",
    "print(type(s))\r\n",
    "    # 查看数据、数据类型"
   ]
  },
  {
   "cell_type": "code",
   "execution_count": 17,
   "metadata": {
    "collapsed": false,
    "id": "19E133F7E16D4A539F88970FA33A3055",
    "scrolled": false
   },
   "outputs": [
    {
     "name": "stdout",
     "output_type": "stream",
     "text": [
      "   name  age gender\n",
      "0  Jack   18      m\n",
      "1   Tom   19      m\n",
      "2  Mary   20      w\n",
      "<class 'pandas.core.frame.DataFrame'>\n",
      "RangeIndex(start=0, stop=3, step=1) \n",
      "该数据类型为： <class 'pandas.core.indexes.range.RangeIndex'>\n",
      "Index(['name', 'age', 'gender'], dtype='object') \n",
      "该数据类型为： <class 'pandas.core.indexes.base.Index'>\n",
      "[['Jack' 18 'm']\n",
      " ['Tom' 19 'm']\n",
      " ['Mary' 20 'w']] \n",
      "该数据类型为： <class 'numpy.ndarray'>\n"
     ]
    }
   ],
   "source": [
    "# Dataframe 数据结构\r\n",
    "# Dataframe是一个表格型的数据结构，“带有标签的二维数组”。\r\n",
    "# Dataframe带有index（行标签）和columns（列标签）\r\n",
    "\r\n",
    "data = {'name':['Jack','Tom','Mary'],\r\n",
    "        'age':[18,19,20],\r\n",
    "       'gender':['m','m','w']}\r\n",
    "frame = pd.DataFrame(data)\r\n",
    "print(frame)  \r\n",
    "print(type(frame))\r\n",
    "print(frame.index,'\\n该数据类型为：',type(frame.index))\r\n",
    "print(frame.columns,'\\n该数据类型为：',type(frame.columns))\r\n",
    "print(frame.values,'\\n该数据类型为：',type(frame.values))\r\n",
    "    # 查看数据，数据类型为dataframe\r\n",
    "    # .index查看行标签\r\n",
    "    # .columns查看列标签\r\n",
    "    # .values查看值，数据类型为ndarray"
   ]
  },
  {
   "cell_type": "code",
   "execution_count": 18,
   "metadata": {
    "collapsed": false,
    "id": "E78A6EAF18E74A2ABDE0918E01519DB5",
    "scrolled": true
   },
   "outputs": [
    {
     "data": {
      "text/html": [
       "<div>\n",
       "<style scoped>\n",
       "    .dataframe tbody tr th:only-of-type {\n",
       "        vertical-align: middle;\n",
       "    }\n",
       "\n",
       "    .dataframe tbody tr th {\n",
       "        vertical-align: top;\n",
       "    }\n",
       "\n",
       "    .dataframe thead th {\n",
       "        text-align: right;\n",
       "    }\n",
       "</style>\n",
       "<table border=\"1\" class=\"dataframe\">\n",
       "  <thead>\n",
       "    <tr style=\"text-align: right;\">\n",
       "      <th></th>\n",
       "      <th>value1</th>\n",
       "      <th>value2</th>\n",
       "    </tr>\n",
       "  </thead>\n",
       "  <tbody>\n",
       "    <tr>\n",
       "      <th>0</th>\n",
       "      <td>4.175609</td>\n",
       "      <td>30.933675</td>\n",
       "    </tr>\n",
       "    <tr>\n",
       "      <th>1</th>\n",
       "      <td>7.503537</td>\n",
       "      <td>-163.532084</td>\n",
       "    </tr>\n",
       "    <tr>\n",
       "      <th>2</th>\n",
       "      <td>6.167065</td>\n",
       "      <td>108.163448</td>\n",
       "    </tr>\n",
       "    <tr>\n",
       "      <th>3</th>\n",
       "      <td>23.570007</td>\n",
       "      <td>-83.975524</td>\n",
       "    </tr>\n",
       "    <tr>\n",
       "      <th>4</th>\n",
       "      <td>-2.161862</td>\n",
       "      <td>-79.798933</td>\n",
       "    </tr>\n",
       "    <tr>\n",
       "      <th>5</th>\n",
       "      <td>-7.508486</td>\n",
       "      <td>26.962803</td>\n",
       "    </tr>\n",
       "    <tr>\n",
       "      <th>6</th>\n",
       "      <td>12.331537</td>\n",
       "      <td>35.163374</td>\n",
       "    </tr>\n",
       "    <tr>\n",
       "      <th>7</th>\n",
       "      <td>7.887318</td>\n",
       "      <td>81.110088</td>\n",
       "    </tr>\n",
       "    <tr>\n",
       "      <th>8</th>\n",
       "      <td>-3.522070</td>\n",
       "      <td>-142.800625</td>\n",
       "    </tr>\n",
       "    <tr>\n",
       "      <th>9</th>\n",
       "      <td>11.186132</td>\n",
       "      <td>100.173304</td>\n",
       "    </tr>\n",
       "  </tbody>\n",
       "</table>\n",
       "</div>"
      ],
      "text/plain": [
       "      value1      value2\n",
       "0   4.175609   30.933675\n",
       "1   7.503537 -163.532084\n",
       "2   6.167065  108.163448\n",
       "3  23.570007  -83.975524\n",
       "4  -2.161862  -79.798933\n",
       "5  -7.508486   26.962803\n",
       "6  12.331537   35.163374\n",
       "7   7.887318   81.110088\n",
       "8  -3.522070 -142.800625\n",
       "9  11.186132  100.173304"
      ]
     },
     "execution_count": 18,
     "metadata": {},
     "output_type": "execute_result"
    }
   ],
   "source": [
    "# 常用创建方法\r\n",
    "\r\n",
    "# 1、直接读取数据，pd.read...\r\n",
    "# 2、结合numpy创建随机数，常用方法 → 字典创建dataframe / 随机数+columns参数设置\r\n",
    "\r\n",
    "df = pd.DataFrame({'value1':np.random.randn(10)*10,\r\n",
    "                  'value2':np.random.randn(10)*100})\r\n",
    "df"
   ]
  },
  {
   "cell_type": "code",
   "execution_count": 19,
   "metadata": {
    "collapsed": false,
    "id": "0232D6BCAEEE450D8BCDA6B9CA93F2D6",
    "scrolled": false
   },
   "outputs": [
    {
     "data": {
      "text/html": [
       "<div>\n",
       "<style scoped>\n",
       "    .dataframe tbody tr th:only-of-type {\n",
       "        vertical-align: middle;\n",
       "    }\n",
       "\n",
       "    .dataframe tbody tr th {\n",
       "        vertical-align: top;\n",
       "    }\n",
       "\n",
       "    .dataframe thead th {\n",
       "        text-align: right;\n",
       "    }\n",
       "</style>\n",
       "<table border=\"1\" class=\"dataframe\">\n",
       "  <thead>\n",
       "    <tr style=\"text-align: right;\">\n",
       "      <th></th>\n",
       "      <th>value1</th>\n",
       "      <th>value2</th>\n",
       "    </tr>\n",
       "  </thead>\n",
       "  <tbody>\n",
       "    <tr>\n",
       "      <th>0</th>\n",
       "      <td>-63.206988</td>\n",
       "      <td>-2.150619</td>\n",
       "    </tr>\n",
       "    <tr>\n",
       "      <th>1</th>\n",
       "      <td>125.237838</td>\n",
       "      <td>-45.590565</td>\n",
       "    </tr>\n",
       "    <tr>\n",
       "      <th>2</th>\n",
       "      <td>-67.146351</td>\n",
       "      <td>-58.219103</td>\n",
       "    </tr>\n",
       "    <tr>\n",
       "      <th>3</th>\n",
       "      <td>64.619886</td>\n",
       "      <td>-79.976598</td>\n",
       "    </tr>\n",
       "    <tr>\n",
       "      <th>4</th>\n",
       "      <td>-131.689060</td>\n",
       "      <td>-13.917292</td>\n",
       "    </tr>\n",
       "    <tr>\n",
       "      <th>5</th>\n",
       "      <td>55.994208</td>\n",
       "      <td>126.769870</td>\n",
       "    </tr>\n",
       "    <tr>\n",
       "      <th>6</th>\n",
       "      <td>-107.287142</td>\n",
       "      <td>-48.974914</td>\n",
       "    </tr>\n",
       "    <tr>\n",
       "      <th>7</th>\n",
       "      <td>-83.622731</td>\n",
       "      <td>17.325343</td>\n",
       "    </tr>\n",
       "    <tr>\n",
       "      <th>8</th>\n",
       "      <td>-165.669454</td>\n",
       "      <td>9.548235</td>\n",
       "    </tr>\n",
       "    <tr>\n",
       "      <th>9</th>\n",
       "      <td>16.626523</td>\n",
       "      <td>-120.595207</td>\n",
       "    </tr>\n",
       "  </tbody>\n",
       "</table>\n",
       "</div>"
      ],
      "text/plain": [
       "       value1      value2\n",
       "0  -63.206988   -2.150619\n",
       "1  125.237838  -45.590565\n",
       "2  -67.146351  -58.219103\n",
       "3   64.619886  -79.976598\n",
       "4 -131.689060  -13.917292\n",
       "5   55.994208  126.769870\n",
       "6 -107.287142  -48.974914\n",
       "7  -83.622731   17.325343\n",
       "8 -165.669454    9.548235\n",
       "9   16.626523 -120.595207"
      ]
     },
     "execution_count": 19,
     "metadata": {},
     "output_type": "execute_result"
    }
   ],
   "source": [
    "df = pd.DataFrame(np.random.randn(10,2)*100,columns = ['value1','value2'])\r\n",
    "df"
   ]
  },
  {
   "cell_type": "code",
   "execution_count": 20,
   "metadata": {
    "collapsed": false,
    "id": "240F948B33994F7E895E90324C6AF3CC",
    "scrolled": false
   },
   "outputs": [
    {
     "name": "stdout",
     "output_type": "stream",
     "text": [
      "0     False\n",
      "1      True\n",
      "2      True\n",
      "3      True\n",
      "4     False\n",
      "5      True\n",
      "6      True\n",
      "7     False\n",
      "8     False\n",
      "9     False\n",
      "10     True\n",
      "11     True\n",
      "12     True\n",
      "dtype: bool\n",
      "0    1\n",
      "4    2\n",
      "7    3\n",
      "8    4\n",
      "9    5\n",
      "dtype: int64\n",
      "-----\n",
      "0    1\n",
      "4    2\n",
      "7    3\n",
      "8    4\n",
      "9    5\n",
      "dtype: int64\n",
      "-----\n",
      "0    False\n",
      "1     True\n",
      "2    False\n",
      "3    False\n",
      "4    False\n",
      "dtype: bool\n",
      "0    False\n",
      "1     True\n",
      "2    False\n",
      "3     True\n",
      "4    False\n",
      "Name: key2, dtype: bool\n"
     ]
    }
   ],
   "source": [
    "# 去重 .duplicated\r\n",
    "\r\n",
    "s = pd.Series([1,1,1,1,2,2,2,3,4,5,5,5,5])\r\n",
    "print(s.duplicated())\r\n",
    "print(s[s.duplicated() == False])\r\n",
    "print('-----')\r\n",
    "    # 判断是否重复\r\n",
    "    # 通过布尔判断，得到不重复的值\r\n",
    "    \r\n",
    "s_re = s.drop_duplicates()\r\n",
    "print(s_re)\r\n",
    "print('-----')\r\n",
    "    # drop.duplicates移除重复\r\n",
    "    # inplace参数：是否替换原值，默认False\r\n",
    "\r\n",
    "df = pd.DataFrame({'key1':['a','a',3,4,5],\r\n",
    "                  'key2':['a','a','b','b','c']})\r\n",
    "print(df.duplicated())\r\n",
    "print(df['key2'].duplicated())\r\n",
    "    # Dataframe中使用duplicated"
   ]
  },
  {
   "cell_type": "code",
   "execution_count": 21,
   "metadata": {
    "collapsed": false,
    "id": "95B4F9F055B241868FE45E55196154B2",
    "scrolled": false
   },
   "outputs": [
    {
     "name": "stdout",
     "output_type": "stream",
     "text": [
      "0    NaN\n",
      "1      s\n",
      "2      c\n",
      "3    NaN\n",
      "4    NaN\n",
      "5      z\n",
      "6      s\n",
      "7      d\n",
      "dtype: object\n",
      "0    NaN\n",
      "1    NaN\n",
      "2      c\n",
      "3    NaN\n",
      "4    NaN\n",
      "5      z\n",
      "6    NaN\n",
      "7      d\n",
      "dtype: object\n",
      "0    hello world!\n",
      "1             123\n",
      "2               c\n",
      "3    hello world!\n",
      "4    hello world!\n",
      "5               z\n",
      "6             123\n",
      "7               d\n",
      "dtype: object\n"
     ]
    }
   ],
   "source": [
    "# 替换 .replace\r\n",
    "\r\n",
    "s = pd.Series(list('ascaazsd'))\r\n",
    "print(s.replace('a', np.nan))\r\n",
    "print(s.replace(['a','s'] ,np.nan))\r\n",
    "print(s.replace({'a':'hello world!','s':123}))\r\n",
    "# 可一次性替换一个值或多个值\r\n",
    "# 可传入列表或字典"
   ]
  },
  {
   "cell_type": "code",
   "execution_count": 22,
   "metadata": {
    "collapsed": false,
    "id": "98705EDE55394A019C94FD5054FB121B",
    "scrolled": false
   },
   "outputs": [
    {
     "name": "stdout",
     "output_type": "stream",
     "text": [
      "     A      B         C         D\n",
      "0  foo    one -0.841533  1.915782\n",
      "1  bar    one -0.153094  0.949085\n",
      "2  foo    two  0.617556 -0.148972\n",
      "3  bar  three -0.118922  1.054242\n",
      "4  foo    two  0.996031  0.127400\n",
      "5  bar    two -0.479970  1.104311\n",
      "6  foo    one  0.273857  1.407518\n",
      "7  foo  three -0.868798  0.400942\n",
      "------\n",
      "<pandas.core.groupby.groupby.DataFrameGroupBy object at 0x7f3f80562a20> <class 'pandas.core.groupby.groupby.DataFrameGroupBy'>\n",
      "------\n"
     ]
    }
   ],
   "source": [
    "# 分组\r\n",
    "\r\n",
    "df = pd.DataFrame({'A' : ['foo', 'bar', 'foo', 'bar','foo', 'bar', 'foo', 'foo'],\r\n",
    "                   'B' : ['one', 'one', 'two', 'three', 'two', 'two', 'one', 'three'],\r\n",
    "                   'C' : np.random.randn(8),\r\n",
    "                   'D' : np.random.randn(8)})\r\n",
    "print(df)\r\n",
    "print('------')\r\n",
    "\r\n",
    "print(df.groupby('A'), type(df.groupby('A')))\r\n",
    "print('------')\r\n",
    "# 直接分组得到一个groupby对象，是一个中间数据，没有进行计算"
   ]
  },
  {
   "cell_type": "code",
   "execution_count": 23,
   "metadata": {
    "collapsed": false,
    "id": "B3A009D153C840C18D36EC6E30C03AA0",
    "scrolled": false
   },
   "outputs": [
    {
     "name": "stdout",
     "output_type": "stream",
     "text": [
      "            C         D\n",
      "A                      \n",
      "bar -0.250662  1.035879\n",
      "foo  0.035423  0.740534 <class 'pandas.core.frame.DataFrame'> \n",
      " Index(['C', 'D'], dtype='object')\n"
     ]
    }
   ],
   "source": [
    "a = df.groupby('A').mean()\r\n",
    "print(a,type(a),'\\n',a.columns)\r\n",
    "    # 通过分组后的计算，得到一个新的dataframe\r\n",
    "    # 默认axis = 0，以行来分组\r\n",
    "    # 可单个或多个（[]）列分组"
   ]
  },
  {
   "cell_type": "code",
   "execution_count": 25,
   "metadata": {
    "collapsed": false,
    "id": "DCCDE11A5E23421EAEDD248BA1761C80",
    "scrolled": false
   },
   "outputs": [
    {
     "name": "stdout",
     "output_type": "stream",
     "text": [
      "  key   A   B   C   D\n",
      "0  K0  A0  B0  C0  D0\n",
      "1  K1  A1  B1  C1  D1\n",
      "2  K2  A2  B2  C2  D2\n",
      "3  K3  A3  B3  C3  D3\n",
      "------\n",
      "  key1 key2   A   B   C   D\n",
      "0   K0   K0  A0  B0  C0  D0\n",
      "1   K1   K0  A2  B2  C1  D1\n",
      "2   K1   K0  A2  B2  C2  D2\n"
     ]
    }
   ],
   "source": [
    "# merge合并 → 类似excel的vlookup\r\n",
    "\r\n",
    "df1 = pd.DataFrame({'key': ['K0', 'K1', 'K2', 'K3'],\r\n",
    "                     'A': ['A0', 'A1', 'A2', 'A3'],\r\n",
    "                     'B': ['B0', 'B1', 'B2', 'B3']})\r\n",
    "df2 = pd.DataFrame({'key': ['K0', 'K1', 'K2', 'K3'],\r\n",
    "                      'C': ['C0', 'C1', 'C2', 'C3'],\r\n",
    "                      'D': ['D0', 'D1', 'D2', 'D3']})\r\n",
    "df3 = pd.DataFrame({'key1': ['K0', 'K0', 'K1', 'K2'],\r\n",
    "                    'key2': ['K0', 'K1', 'K0', 'K1'],\r\n",
    "                    'A': ['A0', 'A1', 'A2', 'A3'],\r\n",
    "                    'B': ['B0', 'B1', 'B2', 'B3']})\r\n",
    "df4 = pd.DataFrame({'key1': ['K0', 'K1', 'K1', 'K2'],\r\n",
    "                    'key2': ['K0', 'K0', 'K0', 'K0'],\r\n",
    "                    'C': ['C0', 'C1', 'C2', 'C3'],\r\n",
    "                    'D': ['D0', 'D1', 'D2', 'D3']})\r\n",
    "print(pd.merge(df1, df2, on='key'))\r\n",
    "print('------')\r\n",
    "    # left：第一个df\r\n",
    "    # right：第二个df\r\n",
    "    # on：参考键\r\n",
    "    # 参数 left_on, right_on, left_index, right_index → 当键不为一个列时，可以单独设置左键与右键\r\n",
    "    \r\n",
    "print(pd.merge(df3, df4, on=['key1','key2']))\r\n",
    "# 多个链接键\r\n",
    "\r\n",
    "print(pd.merge(df3, df4,on=['key1','key2'], how = 'inner'))  \r\n",
    "print('------')\r\n",
    "    # 参数how → 合并方式\r\n",
    "    # inner：默认，取交集\r\n",
    "    # outer：取并集，数据缺失范围NaN\r\n",
    "    # left：按照df3为参考合并，数据缺失范围NaN\r\n",
    "    # right：按照df4为参考合并，数据缺失范围NaN"
   ]
  },
  {
   "cell_type": "markdown",
   "metadata": {
    "id": "1D061452BE9341C18F96E2368ED0AB26",
    "mdEditEnable": false
   },
   "source": [
    "#### 预告，讲讲制图"
   ]
  },
  {
   "cell_type": "code",
   "execution_count": 34,
   "metadata": {
    "collapsed": false,
    "id": "F9C88298F71C4B0298DF60B68FFF99C5",
    "scrolled": false
   },
   "outputs": [
    {
     "data": {
      "text/plain": [
       "<matplotlib.axes._subplots.AxesSubplot at 0x7f3f4c01bfd0>"
      ]
     },
     "execution_count": 34,
     "metadata": {},
     "output_type": "execute_result"
    },
    {
     "data": {
      "text/html": [
       "<img src=\"https://cdn.kesci.com/rt_upload/F9C88298F71C4B0298DF60B68FFF99C5/pr6miduwvi.png\">"
      ],
      "text/plain": [
       "<Figure size 864x432 with 1 Axes>"
      ]
     },
     "metadata": {
      "needs_background": "light"
     },
     "output_type": "display_data"
    }
   ],
   "source": [
    "import matplotlib.pyplot as plt\r\n",
    "%matplotlib inline\r\n",
    "\r\n",
    "df = pd.DataFrame(np.random.randn(300, 4),columns=list('ABCD'))\r\n",
    "df = df.cumsum()\r\n",
    "df.plot(style = '--.',alpha = 0.8,colormap = 'GnBu',figsize=(12,6),grid=True)"
   ]
  },
  {
   "cell_type": "code",
   "execution_count": 40,
   "metadata": {
    "collapsed": false,
    "id": "4EBDB2FD84D040DBAA5F20C34E069241",
    "scrolled": false
   },
   "outputs": [
    {
     "data": {
      "text/plain": [
       "<matplotlib.axes._subplots.AxesSubplot at 0x7f3f46b1d828>"
      ]
     },
     "execution_count": 40,
     "metadata": {},
     "output_type": "execute_result"
    },
    {
     "data": {
      "text/plain": [
       "<Figure size 432x288 with 0 Axes>"
      ]
     },
     "metadata": {},
     "output_type": "display_data"
    },
    {
     "data": {
      "text/html": [
       "<img src=\"https://cdn.kesci.com/rt_upload/4EBDB2FD84D040DBAA5F20C34E069241/pr6mqxlxhf.png\">"
      ],
      "text/plain": [
       "<Figure size 864x432 with 1 Axes>"
      ]
     },
     "metadata": {
      "needs_background": "light"
     },
     "output_type": "display_data"
    }
   ],
   "source": [
    "# 堆叠直方图\r\n",
    "\r\n",
    "plt.figure(num=1)\r\n",
    "df = pd.DataFrame({'a': np.random.randn(1000) + 1, 'b': np.random.randn(1000),\r\n",
    "                    'c': np.random.randn(1000) - 1, 'd': np.random.randn(1000)-2},\r\n",
    "                   columns=['a', 'b', 'c','d'])\r\n",
    "df.plot.hist(stacked=True,\r\n",
    "             bins=20,\r\n",
    "             colormap='Greens_r',\r\n",
    "             alpha=0.5,\r\n",
    "             grid=True,\r\n",
    "             figsize = (12,6))\r\n",
    "    # 使用DataFrame.plot.hist()和Series.plot.hist()方法绘制\r\n",
    "    # stacked：是否堆叠"
   ]
  },
  {
   "cell_type": "code",
   "execution_count": 41,
   "metadata": {
    "collapsed": false,
    "id": "E2734A3185A14D59B891A2E46FA9C091",
    "scrolled": false
   },
   "outputs": [
    {
     "data": {
      "text/plain": [
       "array([[<matplotlib.axes._subplots.AxesSubplot object at 0x7f3f46882588>,\n",
       "        <matplotlib.axes._subplots.AxesSubplot object at 0x7f3f468bc320>],\n",
       "       [<matplotlib.axes._subplots.AxesSubplot object at 0x7f3f46860860>,\n",
       "        <matplotlib.axes._subplots.AxesSubplot object at 0x7f3f46807dd8>]],\n",
       "      dtype=object)"
      ]
     },
     "execution_count": 41,
     "metadata": {},
     "output_type": "execute_result"
    },
    {
     "data": {
      "text/html": [
       "<img src=\"https://cdn.kesci.com/rt_upload/E2734A3185A14D59B891A2E46FA9C091/pr6mrb3a1x.png\">"
      ],
      "text/plain": [
       "<Figure size 864x432 with 4 Axes>"
      ]
     },
     "metadata": {
      "needs_background": "light"
     },
     "output_type": "display_data"
    }
   ],
   "source": [
    "# 生成多个直方图\r\n",
    "df.hist(bins=50,figsize = (12,6))"
   ]
  },
  {
   "cell_type": "code",
   "execution_count": 50,
   "metadata": {
    "collapsed": false,
    "id": "14B752FA819A424B821B2FCCFBDC773C",
    "scrolled": false
   },
   "outputs": [
    {
     "data": {
      "text/plain": [
       "<Figure size 576x432 with 0 Axes>"
      ]
     },
     "metadata": {},
     "output_type": "display_data"
    },
    {
     "data": {
      "text/html": [
       "<img src=\"https://cdn.kesci.com/rt_upload/14B752FA819A424B821B2FCCFBDC773C/pr6mthfjj9.png\">"
      ],
      "text/plain": [
       "<Figure size 864x432 with 1 Axes>"
      ]
     },
     "metadata": {
      "needs_background": "light"
     },
     "output_type": "display_data"
    }
   ],
   "source": [
    "# plt.scatter()散点图\r\n",
    "\r\n",
    "plt.figure(figsize=(8,6))\r\n",
    "x = np.random.randn(1000)\r\n",
    "y = np.random.randn(1000)\r\n",
    "plt.figure(figsize = (12,6))\r\n",
    "plt.scatter(x,y,\r\n",
    "            marker='.',linewidth=0.8,edgecolor='k',\r\n",
    "            s = np.random.randn(1000)*100,\r\n",
    "            cmap = 'Reds',\r\n",
    "            c = y,\r\n",
    "            alpha = 0.8)\r\n",
    "plt.grid()\r\n",
    "    # s：散点的大小\r\n",
    "    # c：散点的颜色\r\n",
    "    # vmin,vmax：亮度设置，标量\r\n",
    "    # cmap：colormap"
   ]
  }
 ],
 "metadata": {
  "kernelspec": {
   "display_name": "Python 3",
   "language": "python",
   "name": "python3"
  },
  "language_info": {
   "codemirror_mode": {
    "name": "ipython",
    "version": 3
   },
   "file_extension": ".py",
   "mimetype": "text/x-python",
   "name": "python",
   "nbconvert_exporter": "python",
   "pygments_lexer": "ipython3",
   "version": "3.6.4"
  }
 },
 "nbformat": 4,
 "nbformat_minor": 0
}

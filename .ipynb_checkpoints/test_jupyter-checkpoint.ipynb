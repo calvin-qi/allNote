{
 "cells": [
  {
   "cell_type": "code",
   "execution_count": 1,
   "id": "171cf688",
   "metadata": {},
   "outputs": [],
   "source": [
    "import numpy as np\n",
    "import pandas as pd"
   ]
  },
  {
   "cell_type": "markdown",
   "id": "5aa3a291",
   "metadata": {},
   "source": [
    "# fghjkl\n",
    "1. dfg\n",
    "2. dfg\n",
    "3. fgbb\n",
    "## dfghj\n",
    "- rty\n",
    "- yjk\n",
    "- 6yui"
   ]
  },
  {
   "cell_type": "code",
   "execution_count": null,
   "id": "548d905c",
   "metadata": {},
   "outputs": [],
   "source": []
  }
 ],
 "metadata": {
  "kernelspec": {
   "display_name": "Python 3",
   "language": "python",
   "name": "python3"
  },
  "language_info": {
   "codemirror_mode": {
    "name": "ipython",
    "version": 3
   },
   "file_extension": ".py",
   "mimetype": "text/x-python",
   "name": "python",
   "nbconvert_exporter": "python",
   "pygments_lexer": "ipython3",
   "version": "3.8.11"
  }
 },
 "nbformat": 4,
 "nbformat_minor": 5
}
